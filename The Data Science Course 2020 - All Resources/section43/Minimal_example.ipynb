{
 "cells": [
  {
   "cell_type": "markdown",
   "metadata": {},
   "source": [
    "# Simple Linear Regression. Minimal example"
   ]
  },
  {
   "cell_type": "markdown",
   "metadata": {},
   "source": [
    "### Import the relevant libraries"
   ]
  },
  {
   "cell_type": "code",
   "execution_count": 1,
   "metadata": {},
   "outputs": [],
   "source": [
    "# We must always import the relevant libraries for our problem at hand. NumPy is a must for this example.\n",
    "import numpy as np\n",
    "\n",
    "# matplotlib and mpl_toolkits are not necessary. We employ them for the sole purpose of visualizing the results.  \n",
    "import matplotlib.pyplot as plt\n",
    "from mpl_toolkits.mplot3d import Axes3D"
   ]
  },
  {
   "cell_type": "markdown",
   "metadata": {},
   "source": [
    "### Generate random input data to train on"
   ]
  },
  {
   "cell_type": "code",
   "execution_count": 2,
   "metadata": {},
   "outputs": [],
   "source": [
    "observations = 1000\n",
    "\n",
    "xs = np.random.uniform(low=-10, high=10, size=(observations,1))\n",
    "zs = np.random.uniform(-10, 10, (observations,1))\n",
    "\n",
    "inputs = np.column_stack((xs, zs))"
   ]
  },
  {
   "cell_type": "markdown",
   "metadata": {},
   "source": [
    "### Create the targets we will aim at"
   ]
  },
  {
   "cell_type": "code",
   "execution_count": 3,
   "metadata": {},
   "outputs": [],
   "source": [
    "noise = np.random.uniform(-3, 3, (observations,1))\n",
    "\n",
    "targets = 2*xs - 3*zs + 5 + noise"
   ]
  },
  {
   "cell_type": "markdown",
   "metadata": {},
   "source": [
    "### Initialize variables"
   ]
  },
  {
   "cell_type": "code",
   "execution_count": 4,
   "metadata": {},
   "outputs": [],
   "source": [
    "init_range = 0.1\n",
    "\n",
    "weights = np.random.uniform(-init_range, init_range, size=(2,1))\n",
    "\n",
    "biases = np.random.uniform(-init_range, init_range, size=1)"
   ]
  },
  {
   "cell_type": "markdown",
   "metadata": {},
   "source": [
    "### Set a learning rate"
   ]
  },
  {
   "cell_type": "code",
   "execution_count": 5,
   "metadata": {},
   "outputs": [],
   "source": [
    "learning_rate = 0.02"
   ]
  },
  {
   "cell_type": "markdown",
   "metadata": {},
   "source": [
    "### Train the model"
   ]
  },
  {
   "cell_type": "code",
   "execution_count": 6,
   "metadata": {
    "scrolled": true
   },
   "outputs": [
    {
     "name": "stdout",
     "output_type": "stream",
     "text": [
      "220.84006165162847\n",
      "40.2536893316359\n",
      "16.65402531442788\n",
      "13.222504150562454\n",
      "12.397624666079517\n",
      "11.922967101609778\n",
      "11.507931795859488\n",
      "11.114578412786397\n",
      "10.737472814540663\n",
      "10.375383191387183\n",
      "10.027639362590476\n",
      "9.693663656493264\n",
      "9.372909759191682\n",
      "9.064854076770128\n",
      "8.768993884188742\n",
      "8.484846376661636\n",
      "8.211947865285463\n",
      "7.949853018241198\n",
      "7.6981341338023235\n",
      "7.45638044235095\n",
      "7.224197436055364\n",
      "7.001206225088471\n",
      "6.7870429193331\n",
      "6.581358034564808\n",
      "6.383815922143032\n",
      "6.194094221280005\n",
      "6.011883332993517\n",
      "5.8368859148851815\n",
      "5.668816395919707\n",
      "5.507400510413331\n",
      "5.352374850471028\n",
      "5.203486436142086\n",
      "5.0604923025926\n",
      "4.923159103621237\n",
      "4.791262730871217\n",
      "4.6645879481172\n",
      "4.542928040030192\n",
      "4.426084474847361\n",
      "4.313866580396296\n",
      "4.206091232944983\n",
      "4.102582558369757\n",
      "4.003171645153642\n",
      "3.9076962687466117\n",
      "3.8160006268380906\n",
      "3.72793508510961\n",
      "3.643355933052766\n",
      "3.5621251494539967\n",
      "3.484110177163475\n",
      "3.4091837067806057\n",
      "3.33722346890307\n",
      "3.26811203460047\n",
      "3.201736623786916\n",
      "3.137988921179874\n",
      "3.0767648995449552\n",
      "3.0179646499381705\n",
      "2.9614922186686723\n",
      "2.907255450715904\n",
      "2.855165839345632\n",
      "2.80513838167948\n",
      "2.757091439982256\n",
      "2.7109466084407106\n",
      "2.666628585216336\n",
      "2.6240650495634243\n",
      "2.583186543811835\n",
      "2.5439263600219006\n",
      "2.506220431126506\n",
      "2.470007226382695\n",
      "2.435227650962199\n",
      "2.401824949517042\n",
      "2.369744613562828\n",
      "2.338934292528619\n",
      "2.3093437083281954\n",
      "2.2809245733133356\n",
      "2.253630511475203\n",
      "2.227416982765256\n",
      "2.2022412104121996\n",
      "2.178062111116327\n",
      "2.154840228007399\n",
      "2.1325376662566087\n",
      "2.111118031237578\n",
      "2.0905463691354784\n",
      "2.0707891099073454\n",
      "2.051814012500522\n",
      "2.03359011223981\n",
      "2.0160876702975163\n",
      "1.9992781251638758\n",
      "1.9831340460387168\n",
      "1.9676290880682727\n",
      "1.9527379493541035\n",
      "1.9384363296639824\n",
      "1.924700890777348\n",
      "1.911509218400631\n",
      "1.8988397855903\n",
      "1.8866719176239304\n",
      "1.8749857582619838\n",
      "1.863762237345233\n",
      "1.8529830396749591\n",
      "1.8426305751251382\n",
      "1.8326879499378432\n",
      "1.82313893915502\n"
     ]
    }
   ],
   "source": [
    "for i in range(100):\n",
    "    outputs = np.dot(inputs, weights) + biases\n",
    "    deltas = outputs - targets\n",
    "    \n",
    "    loss = np.sum(deltas**2)/2/observations\n",
    "    \n",
    "    print(loss)\n",
    "    \n",
    "    deltas_scaled = deltas/observations\n",
    "    \n",
    "    weights = weights - learning_rate*np.dot(inputs.T, deltas_scaled)\n",
    "    biases = biases - learning_rate * np.sum(deltas_scaled)"
   ]
  },
  {
   "cell_type": "markdown",
   "metadata": {},
   "source": [
    "### Print weights and biases and see if we have workd correctly"
   ]
  },
  {
   "cell_type": "code",
   "execution_count": 7,
   "metadata": {},
   "outputs": [
    {
     "data": {
      "text/plain": [
       "array([[ 1.9957995 ],\n",
       "       [-3.01010809]])"
      ]
     },
     "execution_count": 7,
     "metadata": {},
     "output_type": "execute_result"
    }
   ],
   "source": [
    "weights"
   ]
  },
  {
   "cell_type": "code",
   "execution_count": 8,
   "metadata": {},
   "outputs": [
    {
     "data": {
      "text/plain": [
       "array([4.34417161])"
      ]
     },
     "execution_count": 8,
     "metadata": {},
     "output_type": "execute_result"
    }
   ],
   "source": [
    "biases"
   ]
  },
  {
   "cell_type": "markdown",
   "metadata": {},
   "source": [
    "### Plot last outputs vs targets"
   ]
  },
  {
   "cell_type": "code",
   "execution_count": 10,
   "metadata": {},
   "outputs": [
    {
     "data": {
      "text/plain": [
       "<matplotlib.collections.PathCollection at 0x7fda54361340>"
      ]
     },
     "execution_count": 10,
     "metadata": {},
     "output_type": "execute_result"
    },
    {
     "data": {
      "image/png": "[encoded data removed]",
      "text/plain": [
       "<Figure size 432x288 with 1 Axes>"
      ]
     },
     "metadata": {
      "needs_background": "light"
     },
     "output_type": "display_data"
    }
   ],
   "source": [
    "plt.scatter(outputs, targets)"
   ]
  },
  {
   "cell_type": "code",
   "execution_count": null,
   "metadata": {},
   "outputs": [],
   "source": []
  }
 ],
 "metadata": {
  "anaconda-cloud": {},
  "kernelspec": {
   "display_name": "Python 3",
   "language": "python",
   "name": "python3"
  },
  "language_info": {
   "codemirror_mode": {
    "name": "ipython",
    "version": 3
   },
   "file_extension": ".py",
   "mimetype": "text/x-python",
   "name": "python",
   "nbconvert_exporter": "python",
   "pygments_lexer": "ipython3",
   "version": "3.8.5"
  }
 },
 "nbformat": 4,
 "nbformat_minor": 1
}
