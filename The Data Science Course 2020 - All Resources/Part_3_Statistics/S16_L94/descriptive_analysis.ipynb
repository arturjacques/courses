{
 "cells": [
  {
   "cell_type": "code",
   "execution_count": 1,
   "metadata": {},
   "outputs": [],
   "source": [
    "import pandas as pd\n",
    "import seaborn as sns\n",
    "import matplotlib.pyplot as plt"
   ]
  },
  {
   "cell_type": "code",
   "execution_count": 2,
   "metadata": {
    "scrolled": true
   },
   "outputs": [],
   "source": [
    "# reading data\n",
    "sales = pd.read_csv(\"dataCSV.csv\").drop('Unnamed: 9', axis = 1)"
   ]
  },
  {
   "cell_type": "code",
   "execution_count": 3,
   "metadata": {},
   "outputs": [
    {
     "name": "stdout",
     "output_type": "stream",
     "text": [
      "<class 'pandas.core.frame.DataFrame'>\n",
      "RangeIndex: 267 entries, 0 to 266\n",
      "Data columns (total 25 columns):\n",
      " #   Column                   Non-Null Count  Dtype  \n",
      "---  ------                   --------------  -----  \n",
      " 0   id                       267 non-null    int64  \n",
      " 1   building                 267 non-null    int64  \n",
      " 2   year_of_sale             195 non-null    float64\n",
      " 3   month_of_sale            195 non-null    float64\n",
      " 4   type_of_property         267 non-null    object \n",
      " 5   property                 267 non-null    int64  \n",
      " 6   area_ft                  267 non-null    float64\n",
      " 7   price                    267 non-null    float64\n",
      " 8   status                   195 non-null    object \n",
      " 9   customer_id              195 non-null    object \n",
      " 10  entity                   195 non-null    object \n",
      " 11  name                     195 non-null    object \n",
      " 12  surname                  195 non-null    object \n",
      " 13  age_at_time_of_purchase  179 non-null    object \n",
      " 14  interval                 178 non-null    object \n",
      " 15  y                        178 non-null    float64\n",
      " 16  m                        178 non-null    float64\n",
      " 17  d                        178 non-null    float64\n",
      " 18  gender                   178 non-null    object \n",
      " 19  country                  195 non-null    object \n",
      " 20  state                    181 non-null    object \n",
      " 21  purpose                  195 non-null    object \n",
      " 22  deal_satisfaction        195 non-null    float64\n",
      " 23  mortgage                 195 non-null    object \n",
      " 24  source                   195 non-null    object \n",
      "dtypes: float64(8), int64(3), object(14)\n",
      "memory usage: 52.3+ KB\n"
     ]
    }
   ],
   "source": [
    "# changing the columns names\n",
    "sales.columns = sales.columns.str.replace(' ', '_').str.lower().str.replace('\\(ft.\\)', 'ft').str.replace(\"_#\", '')\n",
    "\n",
    "# cleaning column sales\n",
    "sales['price'] = sales.price.str.replace('$', \"\").str.replace(',', '').astype(float)\n",
    "\n",
    "sales.info()"
   ]
  },
  {
   "cell_type": "markdown",
   "metadata": {},
   "source": [
    "# Task 1: What are the types of data and the levels of measurement of the following variables: Cust ID, Mortgage, Year of sale"
   ]
  },
  {
   "cell_type": "markdown",
   "metadata": {},
   "source": [
    "cust ID is categorical, nominal and ordinal  \n",
    "mortgage quantitative, discrete and binary  \n",
    "year of sale quantitative, discrete and ordinal  "
   ]
  },
  {
   "cell_type": "code",
   "execution_count": 4,
   "metadata": {},
   "outputs": [
    {
     "data": {
      "text/plain": [
       "No     134\n",
       "Yes     61\n",
       "Name: mortgage, dtype: int64"
      ]
     },
     "execution_count": 4,
     "metadata": {},
     "output_type": "execute_result"
    }
   ],
   "source": [
    "sales.mortgage.value_counts()"
   ]
  },
  {
   "cell_type": "code",
   "execution_count": 11,
   "metadata": {},
   "outputs": [
    {
     "data": {
      "text/plain": [
       "Text(0.5, 0, 'year')"
      ]
     },
     "execution_count": 11,
     "metadata": {},
     "output_type": "execute_result"
    },
    {
     "data": {
      "image/png": "[encoded data removed]",
      "text/plain": [
       "<Figure size 432x288 with 1 Axes>"
      ]
     },
     "metadata": {
      "needs_background": "light"
     },
     "output_type": "display_data"
    }
   ],
   "source": [
    "sns.distplot(sales.y, kde = False)\n",
    "plt.xlabel('year')"
   ]
  },
  {
   "cell_type": "markdown",
   "metadata": {},
   "source": [
    "# Task 2: Create a frequency distribution graph representing the price (that is a histogram with the highest possible number of bins - 272). Use data on all apartments and offices, no matter if sold or not."
   ]
  },
  {
   "cell_type": "code",
   "execution_count": 13,
   "metadata": {},
   "outputs": [
    {
     "data": {
      "text/plain": [
       "<matplotlib.axes._subplots.AxesSubplot at 0x7f5ad9041510>"
      ]
     },
     "execution_count": 13,
     "metadata": {},
     "output_type": "execute_result"
    },
    {
     "data": {
      "image/png": "[encoded data removed]",
      "text/plain": [
       "<Figure size 432x288 with 1 Axes>"
      ]
     },
     "metadata": {
      "needs_background": "light"
     },
     "output_type": "display_data"
    }
   ],
   "source": [
    "sns.distplot(sales.price, kde = False, bins = 272)"
   ]
  },
  {
   "cell_type": "code",
   "execution_count": null,
   "metadata": {},
   "outputs": [],
   "source": []
  }
 ],
 "metadata": {
  "kernelspec": {
   "display_name": "Python 3",
   "language": "python",
   "name": "python3"
  },
  "language_info": {
   "codemirror_mode": {
    "name": "ipython",
    "version": 3
   },
   "file_extension": ".py",
   "mimetype": "text/x-python",
   "name": "python",
   "nbconvert_exporter": "python",
   "pygments_lexer": "ipython3",
   "version": "3.7.6"
  }
 },
 "nbformat": 4,
 "nbformat_minor": 4
}
