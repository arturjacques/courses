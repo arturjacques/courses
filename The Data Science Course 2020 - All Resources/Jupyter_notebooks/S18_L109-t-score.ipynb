{
 "cells": [
  {
   "cell_type": "code",
   "execution_count": 1,
   "metadata": {},
   "outputs": [],
   "source": [
    "import pandas as pd"
   ]
  },
  {
   "cell_type": "code",
   "execution_count": 2,
   "metadata": {},
   "outputs": [],
   "source": [
    "data = \"\"\"$78,000 \n",
    "$90,000 \n",
    "$75,000 \n",
    "$117,000 \n",
    "$105,000 \n",
    "$96,000 \n",
    "$89,500 \n",
    "$102,300 \n",
    "$80,000\"\"\""
   ]
  },
  {
   "cell_type": "code",
   "execution_count": 14,
   "metadata": {},
   "outputs": [],
   "source": [
    "dataset = pd.Series(data.replace(' ', '').replace('$', '').replace(',','').split('\\n')).astype(int)"
   ]
  },
  {
   "cell_type": "markdown",
   "metadata": {},
   "source": [
    "# Calculate the mean and the standard error of the dataset"
   ]
  },
  {
   "cell_type": "code",
   "execution_count": 16,
   "metadata": {},
   "outputs": [],
   "source": [
    "mean = dataset.mean()"
   ]
  },
  {
   "cell_type": "markdown",
   "metadata": {},
   "source": [
    "# Determine which statistic to use for inference"
   ]
  },
  {
   "cell_type": "markdown",
   "metadata": {},
   "source": [
    "students-t distribuition because of that we do not have knowledge about the mean of the population "
   ]
  },
  {
   "cell_type": "markdown",
   "metadata": {},
   "source": [
    "# Find the appropriate statistic, taking into consideration the degrees of freedom (if applicable) for 99% confidence"
   ]
  },
  {
   "cell_type": "code",
   "execution_count": 36,
   "metadata": {},
   "outputs": [],
   "source": [
    "# degrees of freedon is equal to the length of the dataset\n",
    "fredonD = len(dataset)\n",
    "\n",
    "# table of T-statiscs\n",
    "Tstatistics99 = 3.355\n",
    "\n",
    "# standard error\n",
    "stdError = dataset.std()/(len(dataset)**(1/2))"
   ]
  },
  {
   "cell_type": "markdown",
   "metadata": {},
   "source": [
    "# Find the 99% confidence interval"
   ]
  },
  {
   "cell_type": "code",
   "execution_count": 37,
   "metadata": {},
   "outputs": [
    {
     "data": {
      "text/plain": [
       "[76952.83871688884, 108113.82794977781]"
      ]
     },
     "execution_count": 37,
     "metadata": {},
     "output_type": "execute_result"
    }
   ],
   "source": [
    "cofidenceInteraval = [mean - Tstatistics99*stdError, mean + Tstatistics99*stdError]\n",
    "\n",
    "cofidenceInteraval"
   ]
  }
 ],
 "metadata": {
  "kernelspec": {
   "display_name": "Python 3",
   "language": "python",
   "name": "python3"
  },
  "language_info": {
   "codemirror_mode": {
    "name": "ipython",
    "version": 3
   },
   "file_extension": ".py",
   "mimetype": "text/x-python",
   "name": "python",
   "nbconvert_exporter": "python",
   "pygments_lexer": "ipython3",
   "version": "3.7.6"
  }
 },
 "nbformat": 4,
 "nbformat_minor": 4
}
