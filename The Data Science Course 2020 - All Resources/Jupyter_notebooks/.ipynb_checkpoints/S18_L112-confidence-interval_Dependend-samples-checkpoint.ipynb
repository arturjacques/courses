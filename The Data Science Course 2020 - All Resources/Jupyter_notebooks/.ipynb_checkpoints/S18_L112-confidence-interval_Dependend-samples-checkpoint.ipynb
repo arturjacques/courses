{
 "cells": [
  {
   "cell_type": "code",
   "execution_count": 1,
   "metadata": {},
   "outputs": [],
   "source": [
    "import pandas as pd"
   ]
  },
  {
   "cell_type": "code",
   "execution_count": 2,
   "metadata": {},
   "outputs": [],
   "source": [
    "data = \"\"\"Subject\tWeight before (lbs)\tWeight after (lbs)\tDifference\n",
    "1\t228.58\t204.74\t-23.83\n",
    "2\t244.01\t223.95\t-20.06\n",
    "3\t262.46\t232.94\t-29.52\n",
    "4\t224.32\t212.04\t-12.28\n",
    "5\t202.14\t191.74\t-10.41\n",
    "6\t246.98\t233.47\t-13.51\n",
    "7\t195.86\t177.60\t-18.25\n",
    "8\t231.88\t213.85\t-18.03\n",
    "9\t243.32\t218.85\t-24.47\n",
    "10\t266.74\t236.86\t-29.87\n",
    "\"\"\""
   ]
  },
  {
   "cell_type": "markdown",
   "metadata": {},
   "source": [
    "# The 365 team has developed a diet and an exercise program for losing weight. It seems that it works like a charm. However, you are interested in how much weight are you likely to lose."
   ]
  },
  {
   "cell_type": "code",
   "execution_count": 3,
   "metadata": {},
   "outputs": [],
   "source": [
    "dataset = pd.DataFrame([data.split('\\t') for data in data.split('\\n')])\n",
    "\n",
    "dataset.columns = dataset.loc[0]\n",
    "dataset.drop([0, 11], inplace = True)\n",
    "\n",
    "dataset.set_index(['Subject'], inplace = True)\n",
    "dataset = dataset.astype(float)"
   ]
  },
  {
   "cell_type": "markdown",
   "metadata": {},
   "source": [
    "# Calculate the mean and standard deviation of the dataset"
   ]
  },
  {
   "cell_type": "code",
   "execution_count": 4,
   "metadata": {},
   "outputs": [
    {
     "data": {
      "text/plain": [
       "{'Weight before (lbs)': 234.629,\n",
       " 'Weight after (lbs)': 214.60399999999996,\n",
       " 'Difference': -20.023}"
      ]
     },
     "execution_count": 4,
     "metadata": {},
     "output_type": "execute_result"
    }
   ],
   "source": [
    "mean = dataset.describe().loc['mean'].to_dict()\n",
    "mean"
   ]
  },
  {
   "cell_type": "markdown",
   "metadata": {},
   "source": [
    "# Determine the appropriate statistic to use"
   ]
  },
  {
   "cell_type": "markdown",
   "metadata": {},
   "source": [
    "student's t distribuition"
   ]
  },
  {
   "cell_type": "markdown",
   "metadata": {},
   "source": [
    "# Calculate the 95% confidence interval"
   ]
  },
  {
   "cell_type": "code",
   "execution_count": 7,
   "metadata": {},
   "outputs": [],
   "source": [
    "fredonD = dataset.shape[0]\n",
    "Tstatistics = 2.262\n",
    "stdError = (dataset.std()/(fredonD**0.5)).to_dict()"
   ]
  },
  {
   "cell_type": "code",
   "execution_count": 8,
   "metadata": {},
   "outputs": [
    {
     "data": {
      "text/plain": [
       "{'Weight before (lbs)': [218.05684484053313, 251.20115515946685],\n",
       " 'Weight after (lbs)': [200.92905006998618, 228.27894993001374],\n",
       " 'Difference': [-24.92878504208613, -15.11721495791387]}"
      ]
     },
     "execution_count": 8,
     "metadata": {},
     "output_type": "execute_result"
    }
   ],
   "source": [
    "interval = dict()\n",
    "for column in dataset:\n",
    "    interval[column] = [mean[column] - Tstatistics*stdError[column], mean[column] + Tstatistics*stdError[column]] \n",
    "    \n",
    "interval"
   ]
  },
  {
   "cell_type": "markdown",
   "metadata": {},
   "source": [
    "# Interpret the result"
   ]
  },
  {
   "cell_type": "markdown",
   "metadata": {},
   "source": [
    "With 95% of confidence we can see that the person will lose between 15 and 25lb with the diet."
   ]
  }
 ],
 "metadata": {
  "kernelspec": {
   "display_name": "Python 3",
   "language": "python",
   "name": "python3"
  },
  "language_info": {
   "codemirror_mode": {
    "name": "ipython",
    "version": 3
   },
   "file_extension": ".py",
   "mimetype": "text/x-python",
   "name": "python",
   "nbconvert_exporter": "python",
   "pygments_lexer": "ipython3",
   "version": "3.7.6"
  }
 },
 "nbformat": 4,
 "nbformat_minor": 4
}
