{
 "cells": [
  {
   "cell_type": "code",
   "execution_count": 1,
   "metadata": {},
   "outputs": [],
   "source": [
    "import pandas as pd"
   ]
  },
  {
   "cell_type": "code",
   "execution_count": 26,
   "metadata": {},
   "outputs": [],
   "source": [
    "data =  \"\"\"$117,313 \n",
    "$104,002 \n",
    "$113,038 \n",
    "$101,936 \n",
    "$84,560 \n",
    "$113,136 \n",
    "$80,740 \n",
    "$100,536 \n",
    "$105,052 \n",
    "$87,201 \n",
    "$91,986 \n",
    "$94,868 \n",
    "$90,745 \n",
    "$102,848 \n",
    "$85,927 \n",
    "$112,276 \n",
    "$108,637 \n",
    "$96,818 \n",
    "$92,307 \n",
    "$114,564 \n",
    "$109,714 \n",
    "$108,833 \n",
    "$115,295 \n",
    "$89,279 \n",
    "$81,720 \n",
    "$89,344 \n",
    "$114,426 \n",
    "$90,410 \n",
    "$95,118 \n",
    "$113,382\"\"\""
   ]
  },
  {
   "cell_type": "code",
   "execution_count": 35,
   "metadata": {},
   "outputs": [
    {
     "data": {
      "text/plain": [
       "0     117313\n",
       "1     104002\n",
       "2     113038\n",
       "3     101936\n",
       "4      84560\n",
       "5     113136\n",
       "6      80740\n",
       "7     100536\n",
       "8     105052\n",
       "9      87201\n",
       "10     91986\n",
       "11     94868\n",
       "12     90745\n",
       "13    102848\n",
       "14     85927\n",
       "15    112276\n",
       "16    108637\n",
       "17     96818\n",
       "18     92307\n",
       "19    114564\n",
       "20    109714\n",
       "21    108833\n",
       "22    115295\n",
       "23     89279\n",
       "24     81720\n",
       "25     89344\n",
       "26    114426\n",
       "27     90410\n",
       "28     95118\n",
       "29    113382\n",
       "dtype: int64"
      ]
     },
     "execution_count": 35,
     "metadata": {},
     "output_type": "execute_result"
    }
   ],
   "source": [
    "dataSet = pd.Series(data.split('\\n')).str.replace(',', '').str.replace('$', '').astype(int)\n",
    "dataSet"
   ]
  },
  {
   "attachments": {},
   "cell_type": "markdown",
   "metadata": {},
   "source": [
    "# Calculate the mean and the standard error"
   ]
  },
  {
   "cell_type": "code",
   "execution_count": 45,
   "metadata": {},
   "outputs": [],
   "source": [
    "statisc = dict()\n",
    "\n",
    "statisc['std_deviation'] = 15000 # known\n",
    "statisc['mean'] = dataSet.mean()\n",
    "statisc['stadard_error'] = 15000/len(dataSet)**(1/2)"
   ]
  },
  {
   "cell_type": "markdown",
   "metadata": {},
   "source": [
    "# Find the appropriate z-score for calculating a 90% confidence interval"
   ]
  },
  {
   "cell_type": "code",
   "execution_count": 50,
   "metadata": {},
   "outputs": [
    {
     "data": {
      "text/plain": [
       "{'std_deviation': 15000,\n",
       " 'mean': 100200.36666666667,\n",
       " 'stadard_error': 2738.6127875258308,\n",
       " 'z_score': 1.6500000000000001}"
      ]
     },
     "execution_count": 50,
     "metadata": {},
     "output_type": "execute_result"
    }
   ],
   "source": [
    "# alpha/2 is equal to 0.05 so we must look 0.95 on the table\n",
    "statisc['z_score'] = 1.6 + 0.05\n",
    "statisc"
   ]
  },
  {
   "cell_type": "markdown",
   "metadata": {},
   "source": [
    "# Find the 90% confidence interval"
   ]
  },
  {
   "cell_type": "code",
   "execution_count": 51,
   "metadata": {},
   "outputs": [
    {
     "data": {
      "text/plain": [
       "[95681.65556724905, 104719.07776608429]"
      ]
     },
     "execution_count": 51,
     "metadata": {},
     "output_type": "execute_result"
    }
   ],
   "source": [
    "[statisc['mean'] - statisc['z_score']*statisc['stadard_error'], statisc['mean'] + statisc['z_score']*statisc['stadard_error']]"
   ]
  },
  {
   "cell_type": "code",
   "execution_count": null,
   "metadata": {},
   "outputs": [],
   "source": []
  }
 ],
 "metadata": {
  "kernelspec": {
   "display_name": "Python 3",
   "language": "python",
   "name": "python3"
  },
  "language_info": {
   "codemirror_mode": {
    "name": "ipython",
    "version": 3
   },
   "file_extension": ".py",
   "mimetype": "text/x-python",
   "name": "python",
   "nbconvert_exporter": "python",
   "pygments_lexer": "ipython3",
   "version": "3.7.6"
  }
 },
 "nbformat": 4,
 "nbformat_minor": 4
}
