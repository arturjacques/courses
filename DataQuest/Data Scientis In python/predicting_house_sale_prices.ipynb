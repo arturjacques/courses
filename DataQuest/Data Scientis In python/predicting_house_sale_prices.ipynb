{
 "cells": [
  {
   "cell_type": "code",
   "execution_count": 10,
   "metadata": {
    "collapsed": false
   },
   "outputs": [],
   "source": [
    "import pandas as pd\n",
    "import numpy as np\n",
    "from sklearn.linear_model import LinearRegression\n",
    "from sklearn.metrics import mean_squared_error\n",
    "from sklearn.model_selection import KFold"
   ]
  },
  {
   "cell_type": "code",
   "execution_count": 3,
   "metadata": {
    "collapsed": false
   },
   "outputs": [],
   "source": [
    "houses = pd.read_csv('AmesHousing.tsv', delimiter = '\\t')"
   ]
  },
  {
   "cell_type": "code",
   "execution_count": 61,
   "metadata": {
    "collapsed": false
   },
   "outputs": [],
   "source": [
    "def transform_features(df):\n",
    "    unnecessary_columns = ['Order', 'PID']\n",
    "    \n",
    "    # removing columns with many nulls\n",
    "    size = houses.shape[0]\n",
    "    null_values = houses.isnull().sum()\n",
    "    selected_columns = list(null_values[null_values < size*0.05].index)\n",
    "    df_clean = df[selected_columns].copy()\n",
    "    \n",
    "    # filling num columns with \n",
    "    num_cols = df_clean.select_dtypes(['float64','int32']).columns\n",
    "    df_clean[num_cols] = df_clean[num_cols].fillna(df_clean[num_cols].mode().loc[0])\n",
    "    \n",
    "    # removing unnecessary columns\n",
    "    df_clean.drop(unnecessary_columns, axis = 1, inplace = True)\n",
    "        \n",
    "    # geting dummies\n",
    "    object_columns = df_clean.select_dtypes('object').columns\n",
    "    df_clean = pd.concat([df_clean, pd.get_dummies(df_clean[object_columns])], axis = 1)\n",
    "    df_clean.drop(object_columns, axis = 1, inplace = True)\n",
    "        \n",
    "    df_clean['years_until_remod'] = df_clean['Year Remod/Add'] - df_clean['Year Built']\n",
    "    \n",
    "    return df_clean\n",
    "\n",
    "def select_features(df):\n",
    "    df_sorted = df.corr()['SalePrice'].abs().sort_values().copy()\n",
    "    columns_selected = df_sorted[df_sorted > 0.4].index\n",
    "    return columns_selected\n",
    "\n",
    "def train_and_test(df, k = 0):\n",
    "    df_transformed = transform_features(df)\n",
    "    \n",
    "    features = select_features(df_transformed)\n",
    "    features = list(features.drop('SalePrice'))\n",
    "    \n",
    "    if k == 0:\n",
    "        train = df_transformed.iloc[:1460]\n",
    "        test = df_transformed.iloc[1460:]\n",
    "        \n",
    "        lr = LinearRegression()\n",
    "        lr.fit(train[features], train['SalePrice'])\n",
    "        predict = lr.predict(test[features])\n",
    "        rmse = mean_squared_error(predict, test['SalePrice'])**0.5\n",
    "        return rmse\n",
    "    else:\n",
    "        kf = KFold(n_splits = k, shuffle = True)\n",
    "        rmse = list()\n",
    "        \n",
    "        for train_index, test_index in kf.split(df):\n",
    "            train = df_transformed.iloc[train_index]\n",
    "            test = df_transformed.iloc[test_index]\n",
    "            \n",
    "            lr = LinearRegression()\n",
    "            lr.fit(train[features], train['SalePrice'])\n",
    "            predict = lr.predict(test[features])\n",
    "            rmse.append(mean_squared_error(predict, test['SalePrice'])**0.5)\n",
    "        return rmse\n",
    "    \n",
    "\n"
   ]
  },
  {
   "cell_type": "code",
   "execution_count": 62,
   "metadata": {
    "collapsed": false
   },
   "outputs": [
    {
     "data": {
      "text/plain": [
       "[46153.69522499673, 27617.350255322803, 29637.192336036835, 27315.015542772904]"
      ]
     },
     "execution_count": 62,
     "metadata": {},
     "output_type": "execute_result"
    }
   ],
   "source": [
    "train_and_test(houses, k = 4)"
   ]
  },
  {
   "cell_type": "code",
   "execution_count": null,
   "metadata": {
    "collapsed": true
   },
   "outputs": [],
   "source": []
  }
 ],
 "metadata": {
  "anaconda-cloud": {},
  "kernelspec": {
   "display_name": "Python 3",
   "language": "python",
   "name": "python3"
  },
  "language_info": {
   "codemirror_mode": {
    "name": "ipython",
    "version": 3
   },
   "file_extension": ".py",
   "mimetype": "text/x-python",
   "name": "python",
   "nbconvert_exporter": "python",
   "pygments_lexer": "ipython3",
   "version": "3.4.3"
  }
 },
 "nbformat": 4,
 "nbformat_minor": 2
}
