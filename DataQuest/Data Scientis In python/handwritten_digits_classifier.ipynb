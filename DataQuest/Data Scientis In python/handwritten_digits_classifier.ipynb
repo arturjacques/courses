{
 "cells": [
  {
   "cell_type": "markdown",
   "metadata": {},
   "source": [
    "# Handwritten Digits Classifier"
   ]
  },
  {
   "cell_type": "markdown",
   "metadata": {},
   "source": [
    "This notebook will explore ways to classify handwritten numbers using machine learning and deep learning."
   ]
  },
  {
   "cell_type": "code",
   "execution_count": 46,
   "metadata": {
    "collapsed": false
   },
   "outputs": [],
   "source": [
    "import pandas as pd\n",
    "from sklearn.datasets import load_digits\n",
    "import matplotlib.pyplot as plt\n",
    "from sklearn.neighbors import KNeighborsClassifier\n",
    "from sklearn.model_selection import KFold\n",
    "from sklearn.neural_network import rfClassifier\n",
    "from sklearn.ensemble import RandomForestRegressor\n",
    "import numpy as np\n",
    "\n",
    "%matplotlib inline"
   ]
  },
  {
   "cell_type": "code",
   "execution_count": 4,
   "metadata": {
    "collapsed": false
   },
   "outputs": [
    {
     "data": {
      "text/html": [
       "<div>\n",
       "<style scoped>\n",
       "    .dataframe tbody tr th:only-of-type {\n",
       "        vertical-align: middle;\n",
       "    }\n",
       "\n",
       "    .dataframe tbody tr th {\n",
       "        vertical-align: top;\n",
       "    }\n",
       "\n",
       "    .dataframe thead th {\n",
       "        text-align: right;\n",
       "    }\n",
       "</style>\n",
       "<table border=\"1\" class=\"dataframe\">\n",
       "  <thead>\n",
       "    <tr style=\"text-align: right;\">\n",
       "      <th></th>\n",
       "      <th>0</th>\n",
       "      <th>1</th>\n",
       "      <th>2</th>\n",
       "      <th>3</th>\n",
       "      <th>4</th>\n",
       "      <th>5</th>\n",
       "      <th>6</th>\n",
       "      <th>7</th>\n",
       "      <th>8</th>\n",
       "      <th>9</th>\n",
       "      <th>...</th>\n",
       "      <th>54</th>\n",
       "      <th>55</th>\n",
       "      <th>56</th>\n",
       "      <th>57</th>\n",
       "      <th>58</th>\n",
       "      <th>59</th>\n",
       "      <th>60</th>\n",
       "      <th>61</th>\n",
       "      <th>62</th>\n",
       "      <th>63</th>\n",
       "    </tr>\n",
       "  </thead>\n",
       "  <tbody>\n",
       "    <tr>\n",
       "      <th>1792</th>\n",
       "      <td>0.0</td>\n",
       "      <td>0.0</td>\n",
       "      <td>4.0</td>\n",
       "      <td>10.0</td>\n",
       "      <td>13.0</td>\n",
       "      <td>6.0</td>\n",
       "      <td>0.0</td>\n",
       "      <td>0.0</td>\n",
       "      <td>0.0</td>\n",
       "      <td>1.0</td>\n",
       "      <td>...</td>\n",
       "      <td>4.0</td>\n",
       "      <td>0.0</td>\n",
       "      <td>0.0</td>\n",
       "      <td>0.0</td>\n",
       "      <td>2.0</td>\n",
       "      <td>14.0</td>\n",
       "      <td>15.0</td>\n",
       "      <td>9.0</td>\n",
       "      <td>0.0</td>\n",
       "      <td>0.0</td>\n",
       "    </tr>\n",
       "    <tr>\n",
       "      <th>1793</th>\n",
       "      <td>0.0</td>\n",
       "      <td>0.0</td>\n",
       "      <td>6.0</td>\n",
       "      <td>16.0</td>\n",
       "      <td>13.0</td>\n",
       "      <td>11.0</td>\n",
       "      <td>1.0</td>\n",
       "      <td>0.0</td>\n",
       "      <td>0.0</td>\n",
       "      <td>0.0</td>\n",
       "      <td>...</td>\n",
       "      <td>1.0</td>\n",
       "      <td>0.0</td>\n",
       "      <td>0.0</td>\n",
       "      <td>0.0</td>\n",
       "      <td>6.0</td>\n",
       "      <td>16.0</td>\n",
       "      <td>14.0</td>\n",
       "      <td>6.0</td>\n",
       "      <td>0.0</td>\n",
       "      <td>0.0</td>\n",
       "    </tr>\n",
       "    <tr>\n",
       "      <th>1794</th>\n",
       "      <td>0.0</td>\n",
       "      <td>0.0</td>\n",
       "      <td>1.0</td>\n",
       "      <td>11.0</td>\n",
       "      <td>15.0</td>\n",
       "      <td>1.0</td>\n",
       "      <td>0.0</td>\n",
       "      <td>0.0</td>\n",
       "      <td>0.0</td>\n",
       "      <td>0.0</td>\n",
       "      <td>...</td>\n",
       "      <td>0.0</td>\n",
       "      <td>0.0</td>\n",
       "      <td>0.0</td>\n",
       "      <td>0.0</td>\n",
       "      <td>2.0</td>\n",
       "      <td>9.0</td>\n",
       "      <td>13.0</td>\n",
       "      <td>6.0</td>\n",
       "      <td>0.0</td>\n",
       "      <td>0.0</td>\n",
       "    </tr>\n",
       "    <tr>\n",
       "      <th>1795</th>\n",
       "      <td>0.0</td>\n",
       "      <td>0.0</td>\n",
       "      <td>2.0</td>\n",
       "      <td>10.0</td>\n",
       "      <td>7.0</td>\n",
       "      <td>0.0</td>\n",
       "      <td>0.0</td>\n",
       "      <td>0.0</td>\n",
       "      <td>0.0</td>\n",
       "      <td>0.0</td>\n",
       "      <td>...</td>\n",
       "      <td>2.0</td>\n",
       "      <td>0.0</td>\n",
       "      <td>0.0</td>\n",
       "      <td>0.0</td>\n",
       "      <td>5.0</td>\n",
       "      <td>12.0</td>\n",
       "      <td>16.0</td>\n",
       "      <td>12.0</td>\n",
       "      <td>0.0</td>\n",
       "      <td>0.0</td>\n",
       "    </tr>\n",
       "    <tr>\n",
       "      <th>1796</th>\n",
       "      <td>0.0</td>\n",
       "      <td>0.0</td>\n",
       "      <td>10.0</td>\n",
       "      <td>14.0</td>\n",
       "      <td>8.0</td>\n",
       "      <td>1.0</td>\n",
       "      <td>0.0</td>\n",
       "      <td>0.0</td>\n",
       "      <td>0.0</td>\n",
       "      <td>2.0</td>\n",
       "      <td>...</td>\n",
       "      <td>8.0</td>\n",
       "      <td>0.0</td>\n",
       "      <td>0.0</td>\n",
       "      <td>1.0</td>\n",
       "      <td>8.0</td>\n",
       "      <td>12.0</td>\n",
       "      <td>14.0</td>\n",
       "      <td>12.0</td>\n",
       "      <td>1.0</td>\n",
       "      <td>0.0</td>\n",
       "    </tr>\n",
       "  </tbody>\n",
       "</table>\n",
       "<p>5 rows × 64 columns</p>\n",
       "</div>"
      ],
      "text/plain": [
       "       0    1     2     3     4     5    6    7    8    9  ...    54   55  \\\n",
       "1792  0.0  0.0   4.0  10.0  13.0   6.0  0.0  0.0  0.0  1.0 ...   4.0  0.0   \n",
       "1793  0.0  0.0   6.0  16.0  13.0  11.0  1.0  0.0  0.0  0.0 ...   1.0  0.0   \n",
       "1794  0.0  0.0   1.0  11.0  15.0   1.0  0.0  0.0  0.0  0.0 ...   0.0  0.0   \n",
       "1795  0.0  0.0   2.0  10.0   7.0   0.0  0.0  0.0  0.0  0.0 ...   2.0  0.0   \n",
       "1796  0.0  0.0  10.0  14.0   8.0   1.0  0.0  0.0  0.0  2.0 ...   8.0  0.0   \n",
       "\n",
       "       56   57   58    59    60    61   62   63  \n",
       "1792  0.0  0.0  2.0  14.0  15.0   9.0  0.0  0.0  \n",
       "1793  0.0  0.0  6.0  16.0  14.0   6.0  0.0  0.0  \n",
       "1794  0.0  0.0  2.0   9.0  13.0   6.0  0.0  0.0  \n",
       "1795  0.0  0.0  5.0  12.0  16.0  12.0  0.0  0.0  \n",
       "1796  0.0  1.0  8.0  12.0  14.0  12.0  1.0  0.0  \n",
       "\n",
       "[5 rows x 64 columns]"
      ]
     },
     "execution_count": 4,
     "metadata": {},
     "output_type": "execute_result"
    }
   ],
   "source": [
    "digits = pd.DataFrame(load_digits()['data'])\n",
    "digits.tail()"
   ]
  },
  {
   "cell_type": "code",
   "execution_count": 5,
   "metadata": {
    "collapsed": false
   },
   "outputs": [
    {
     "data": {
      "text/plain": [
       "1792    9\n",
       "1793    0\n",
       "1794    8\n",
       "1795    9\n",
       "1796    8\n",
       "dtype: int64"
      ]
     },
     "execution_count": 5,
     "metadata": {},
     "output_type": "execute_result"
    }
   ],
   "source": [
    "labels = pd.Series(load_digits()['target'])\n",
    "labels.tail()"
   ]
  },
  {
   "cell_type": "code",
   "execution_count": 6,
   "metadata": {
    "collapsed": false,
    "scrolled": true
   },
   "outputs": [
    {
     "data": {
      "image/png": "[encoded data removed]",
      "text/plain": [
       "<matplotlib.figure.Figure at 0x7f67bbf284e0>"
      ]
     },
     "metadata": {},
     "output_type": "display_data"
    }
   ],
   "source": [
    "fig, ax = plt.subplots(2, 6, figsize = (12, 6))\n",
    "for i in range(0, 6):\n",
    "    ax[0, i].imshow(digits.iloc[i*100].values.reshape(8,8), cmap = 'gray')\n",
    "    ax[1, i].imshow(digits.iloc[1000 + i*100].values.reshape(8,8), cmap = 'gray')"
   ]
  },
  {
   "cell_type": "markdown",
   "metadata": {},
   "source": [
    "# K-Nearest Neighbors"
   ]
  },
  {
   "cell_type": "code",
   "execution_count": 38,
   "metadata": {
    "collapsed": true
   },
   "outputs": [],
   "source": [
    "def train(train, labels, k = 5):\n",
    "    knn = KNeighborsClassifier(n_neighbors = k)\n",
    "    knn.fit(train, labels)\n",
    "    return knn\n",
    "\n",
    "def test(model, test, test_labels):\n",
    "    prediction = model.predict(test)\n",
    "    accuracy = sum(prediction == test_labels)/len(prediction)\n",
    "    return accuracy\n",
    "\n",
    "def cross_validate(data, labels, k):\n",
    "    kf = KFold(n_splits=4, shuffle = True, random_state = 1)\n",
    "    accuracy = list()\n",
    "    \n",
    "    for train_index, test_index in kf.split(data):\n",
    "        train_data = data.loc[train_index]\n",
    "        train_labels = labels.loc[train_index]\n",
    "        test_data = data.loc[test_index]\n",
    "        test_labels = labels.loc[test_index]\n",
    "        \n",
    "        knn = train(train_data, train_labels, k)\n",
    "        accuracy.append(test(knn, test_data, test_labels))\n",
    "        \n",
    "    return accuracy"
   ]
  },
  {
   "cell_type": "code",
   "execution_count": 39,
   "metadata": {
    "collapsed": false
   },
   "outputs": [
    {
     "data": {
      "text/plain": [
       "[0.9933333333333333,\n",
       " 0.9710467706013363,\n",
       " 0.9866369710467706,\n",
       " 0.9821826280623608]"
      ]
     },
     "execution_count": 39,
     "metadata": {},
     "output_type": "execute_result"
    }
   ],
   "source": [
    "cross_validate(digits, labels, k = 5)"
   ]
  },
  {
   "cell_type": "markdown",
   "metadata": {},
   "source": [
    "98% of accuracy is already a very amazing result. But let's try to improve that changing the number of neighbors"
   ]
  },
  {
   "cell_type": "code",
   "execution_count": 9,
   "metadata": {
    "collapsed": false
   },
   "outputs": [
    {
     "data": {
      "text/plain": [
       "{1: 0.9827456075228903,\n",
       " 2: 0.9805184360306854,\n",
       " 3: 0.9855283345706509,\n",
       " 4: 0.9849690670626082,\n",
       " 5: 0.9832999257609502,\n",
       " 6: 0.9805159613956941,\n",
       " 7: 0.9821863400148477,\n",
       " 8: 0.9816295471417965,\n",
       " 9: 0.9788468200940361,\n",
       " 10: 0.9782887899034892,\n",
       " 11: 0.9771789161098738,\n",
       " 12: 0.9771764414748825,\n",
       " 13: 0.9755085374907201,\n",
       " 14: 0.9755073001732245,\n",
       " 15: 0.9749517446176689,\n",
       " 16: 0.9738381588715664,\n",
       " 17: 0.9705011135857461,\n",
       " 18: 0.9688307349665924,\n",
       " 19: 0.9693887651571393}"
      ]
     },
     "execution_count": 9,
     "metadata": {},
     "output_type": "execute_result"
    }
   ],
   "source": [
    "accuracy = dict()\n",
    "\n",
    "for k in range(1, 20):\n",
    "    accuracy_list = cross_validate(digits, labels, k = k)\n",
    "    mean_accuracy = np.mean(accuracy_list)\n",
    "    accuracy[k] = mean_accuracy\n",
    "    \n",
    "accuracy"
   ]
  },
  {
   "cell_type": "markdown",
   "metadata": {},
   "source": [
    "The best results were around of 5 neightbors"
   ]
  },
  {
   "cell_type": "markdown",
   "metadata": {},
   "source": [
    "# Deep Learning"
   ]
  },
  {
   "cell_type": "code",
   "execution_count": 41,
   "metadata": {
    "collapsed": true
   },
   "outputs": [],
   "source": [
    "def train(train, labels, neurons = (8,)):\n",
    "    rf = rfClassifier(hidden_layer_sizes = neurons)\n",
    "    rf.fit(train, labels)\n",
    "    return rf\n",
    "\n",
    "def test(model, test, test_labels):\n",
    "    prediction = model.predict(test)\n",
    "    accuracy = sum(prediction == test_labels)/len(prediction)\n",
    "    return accuracy\n",
    "\n",
    "def cross_validate(data, labels, neurons):\n",
    "    kf = KFold(n_splits=4, shuffle = True, random_state = 1)\n",
    "    accuracy = list()\n",
    "    \n",
    "    for train_index, test_index in kf.split(data):\n",
    "        train_data = data.loc[train_index]\n",
    "        train_labels = labels.loc[train_index]\n",
    "        test_data = data.loc[test_index]\n",
    "        test_labels = labels.loc[test_index]\n",
    "        \n",
    "        rf = train(train_data, train_labels, neurons)\n",
    "        accuracy.append(test(rf, test_data, test_labels))\n",
    "        \n",
    "    return accuracy"
   ]
  },
  {
   "cell_type": "code",
   "execution_count": 11,
   "metadata": {
    "collapsed": false
   },
   "outputs": [
    {
     "name": "stderr",
     "output_type": "stream",
     "text": [
      "/dataquest/system/env/python3/lib/python3.4/site-packages/sklearn/neural_network/multilayer_perceptron.py:563: ConvergenceWarning:\n",
      "\n",
      "Stochastic Optimizer: Maximum iterations reached and the optimization hasn't converged yet.\n",
      "\n"
     ]
    },
    {
     "data": {
      "text/plain": [
       "[0.9066666666666666,\n",
       " 0.9309576837416481,\n",
       " 0.9265033407572383,\n",
       " 0.9220489977728286]"
      ]
     },
     "execution_count": 11,
     "metadata": {},
     "output_type": "execute_result"
    }
   ],
   "source": [
    "cross_validate(digits, labels, neurons = (8,))"
   ]
  },
  {
   "cell_type": "markdown",
   "metadata": {},
   "source": [
    "With only one layer with 8 neurons the results are note great. Now we can check the result with more neurons."
   ]
  },
  {
   "cell_type": "code",
   "execution_count": 14,
   "metadata": {
    "collapsed": false
   },
   "outputs": [
    {
     "name": "stderr",
     "output_type": "stream",
     "text": [
      "/dataquest/system/env/python3/lib/python3.4/site-packages/sklearn/neural_network/multilayer_perceptron.py:563: ConvergenceWarning:\n",
      "\n",
      "Stochastic Optimizer: Maximum iterations reached and the optimization hasn't converged yet.\n",
      "\n"
     ]
    },
    {
     "data": {
      "text/plain": [
       "{8: 0.8848020292006928,\n",
       " 16: 0.9571504578074734,\n",
       " 32: 0.9643763919821826,\n",
       " 64: 0.9666060381093788,\n",
       " 128: 0.9699430833951993,\n",
       " 256: 0.9721702548874042}"
      ]
     },
     "execution_count": 14,
     "metadata": {},
     "output_type": "execute_result"
    }
   ],
   "source": [
    "neurons_list = [8, 16, 32, 64, 128, 256]\n",
    "accuracy = dict()\n",
    "\n",
    "for neurons in neurons_list:\n",
    "    accuracy_list = cross_validate(digits, labels, neurons = (neurons,))\n",
    "    mean_accuracy = np.mean(accuracy_list)\n",
    "    accuracy[neurons] = mean_accuracy\n",
    "\n",
    "accuracy "
   ]
  },
  {
   "cell_type": "code",
   "execution_count": 33,
   "metadata": {
    "collapsed": false
   },
   "outputs": [
    {
     "data": {
      "image/png": "[encoded data removed]",
      "text/plain": [
       "<matplotlib.figure.Figure at 0x7f67b3d4de10>"
      ]
     },
     "metadata": {},
     "output_type": "display_data"
    }
   ],
   "source": [
    "df_accuracy = pd.DataFrame(accuracy, index = ['accuracy']).T\n",
    "\n",
    "plt.plot(df_accuracy.index, df_accuracy)\n",
    "plt.show()"
   ]
  },
  {
   "cell_type": "markdown",
   "metadata": {},
   "source": [
    "32 neurons in the first layer already get a good result with the deep learning model, after that the model is only adjusting more to the training data."
   ]
  },
  {
   "cell_type": "markdown",
   "metadata": {},
   "source": [
    "# Neural Network With Three Hidden Layers"
   ]
  },
  {
   "cell_type": "code",
   "execution_count": 45,
   "metadata": {
    "collapsed": false
   },
   "outputs": [
    {
     "name": "stderr",
     "output_type": "stream",
     "text": [
      "/dataquest/system/env/python3/lib/python3.4/site-packages/sklearn/neural_network/multilayer_perceptron.py:563: ConvergenceWarning:\n",
      "\n",
      "Stochastic Optimizer: Maximum iterations reached and the optimization hasn't converged yet.\n",
      "\n"
     ]
    },
    {
     "data": {
      "text/plain": [
       "{(10, 10, 10): 0.9287626825043306,\n",
       " (64, 64, 64): 0.9699505073001733,\n",
       " (128, 128, 128): 0.9749542192526602}"
      ]
     },
     "execution_count": 45,
     "metadata": {},
     "output_type": "execute_result"
    }
   ],
   "source": [
    "neurons_list = [(10, 10, 10),\n",
    "                (64, 64, 64),\n",
    "                (128, 128, 128)]\n",
    "accuracy = dict()\n",
    "\n",
    "for neurons in neurons_list:\n",
    "    accuracy_list = cross_validate(digits, labels, neurons = neurons)\n",
    "    mean_accuracy = np.mean(accuracy_list)\n",
    "    accuracy[neurons] = mean_accuracy\n",
    "\n",
    "accuracy "
   ]
  },
  {
   "cell_type": "markdown",
   "metadata": {},
   "source": [
    "Use more layers of neurons do not improve much in relation to only one layer with 32 neurons"
   ]
  },
  {
   "cell_type": "markdown",
   "metadata": {},
   "source": [
    "# Random Forest"
   ]
  },
  {
   "cell_type": "code",
   "execution_count": 58,
   "metadata": {
    "collapsed": true
   },
   "outputs": [],
   "source": [
    "def train(train, labels, n_estimators):\n",
    "    rf = RandomForestRegressor(n_estimators = 20)\n",
    "    rf.fit(train, labels)\n",
    "    return rf\n",
    "\n",
    "def test(model, test, test_labels):\n",
    "    prediction = model.predict(test)\n",
    "    accuracy = sum(prediction == test_labels)/len(prediction)\n",
    "    return accuracy\n",
    "\n",
    "def cross_validate(data, labels, n_estimators):\n",
    "    kf = KFold(n_splits=4, shuffle = True, random_state = 1)\n",
    "    accuracy = list()\n",
    "    \n",
    "    for train_index, test_index in kf.split(data):\n",
    "        train_data = data.loc[train_index]\n",
    "        train_labels = labels.loc[train_index]\n",
    "        test_data = data.loc[test_index]\n",
    "        test_labels = labels.loc[test_index]\n",
    "        \n",
    "        rf = train(train_data, train_labels, n_estimators)\n",
    "        accuracy.append(test(rf, test_data, test_labels))\n",
    "        \n",
    "    return accuracy"
   ]
  },
  {
   "cell_type": "code",
   "execution_count": 60,
   "metadata": {
    "collapsed": false
   },
   "outputs": [
    {
     "data": {
      "text/plain": [
       "[0.19555555555555557,\n",
       " 0.22939866369710468,\n",
       " 0.22717149220489977,\n",
       " 0.21603563474387527]"
      ]
     },
     "execution_count": 60,
     "metadata": {},
     "output_type": "execute_result"
    }
   ],
   "source": [
    "cross_validate(digits, labels, n_estimators = 5)"
   ]
  },
  {
   "cell_type": "code",
   "execution_count": 61,
   "metadata": {
    "collapsed": true
   },
   "outputs": [],
   "source": [
    "accuracy = dict()\n",
    "\n",
    "for i in range(0, 100):\n",
    "    accuracy[i] = np.mean(cross_validate(digits, labels, n_estimators = i))"
   ]
  },
  {
   "cell_type": "code",
   "execution_count": 69,
   "metadata": {
    "collapsed": false
   },
   "outputs": [
    {
     "data": {
      "image/png": "[encoded data removed]",
      "text/plain": [
       "<matplotlib.figure.Figure at 0x7f67b3ca9048>"
      ]
     },
     "metadata": {},
     "output_type": "display_data"
    }
   ],
   "source": [
    "df_accuracy = pd.DataFrame(accuracy, index = ['accuracy']).T\n",
    "plt.scatter(df_accuracy.index, df_accuracy)\n",
    "plt.show()"
   ]
  },
  {
   "cell_type": "markdown",
   "metadata": {},
   "source": [
    "The Random Forest Model did not apresent good results"
   ]
  },
  {
   "cell_type": "markdown",
   "metadata": {},
   "source": [
    "The model that presented the best results was the K-Nearests Neighbors with accuracy close to 98%"
   ]
  }
 ],
 "metadata": {
  "anaconda-cloud": {},
  "kernelspec": {
   "display_name": "Python 3",
   "language": "python",
   "name": "python3"
  },
  "language_info": {
   "codemirror_mode": {
    "name": "ipython",
    "version": 3
   },
   "file_extension": ".py",
   "mimetype": "text/x-python",
   "name": "python",
   "nbconvert_exporter": "python",
   "pygments_lexer": "ipython3",
   "version": "3.4.3"
  }
 },
 "nbformat": 4,
 "nbformat_minor": 2
}
