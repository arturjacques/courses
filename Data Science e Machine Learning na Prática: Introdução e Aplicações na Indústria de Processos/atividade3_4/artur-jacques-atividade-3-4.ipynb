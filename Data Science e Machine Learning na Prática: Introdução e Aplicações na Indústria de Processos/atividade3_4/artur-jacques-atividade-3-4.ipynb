{
 "cells": [
  {
   "cell_type": "markdown",
   "metadata": {
    "papermill": {
     "duration": 0.014799,
     "end_time": "2020-09-09T16:14:53.433677",
     "exception": false,
     "start_time": "2020-09-09T16:14:53.418878",
     "status": "completed"
    },
    "tags": []
   },
   "source": [
    "## Data Science e Machine Learning na Prática - Introdução e Aplicações na Indústria de Processos"
   ]
  },
  {
   "cell_type": "markdown",
   "metadata": {
    "papermill": {
     "duration": 0.011323,
     "end_time": "2020-09-09T16:14:53.457671",
     "exception": false,
     "start_time": "2020-09-09T16:14:53.446348",
     "status": "completed"
    },
    "tags": []
   },
   "source": [
    "Mão na massa 3!\n",
    "\n",
    "Repita os procedimentos de análise de importância e análise de correlação com os conjuntos de dados Boston Housing e Diabetes usados no começo do notebook."
   ]
  },
  {
   "cell_type": "markdown",
   "metadata": {
    "papermill": {
     "duration": 0.011678,
     "end_time": "2020-09-09T16:14:53.481048",
     "exception": false,
     "start_time": "2020-09-09T16:14:53.469370",
     "status": "completed"
    },
    "tags": []
   },
   "source": [
    "Mão na massa 4!\n",
    "\n",
    "Repita o procedimento de análise de contribuições com os conjuntos de dados Boston Housing e Diabetes usados no começo do notebook."
   ]
  },
  {
   "cell_type": "code",
   "execution_count": 1,
   "metadata": {
    "_cell_guid": "79c7e3d0-c299-4dcb-8224-4455121ee9b0",
    "_uuid": "d629ff2d2480ee46fbb7e2d37f6b5fab8052498a",
    "execution": {
     "iopub.execute_input": "2020-09-09T16:14:53.509662Z",
     "iopub.status.busy": "2020-09-09T16:14:53.508578Z",
     "iopub.status.idle": "2020-09-09T16:14:55.155359Z",
     "shell.execute_reply": "2020-09-09T16:14:55.154782Z"
    },
    "papermill": {
     "duration": 1.662395,
     "end_time": "2020-09-09T16:14:55.155518",
     "exception": false,
     "start_time": "2020-09-09T16:14:53.493123",
     "status": "completed"
    },
    "tags": []
   },
   "outputs": [],
   "source": [
    "# importação de bibliotecas\n",
    "\n",
    "import pandas as pd\n",
    "import numpy as np\n",
    "import matplotlib.pyplot as plt\n",
    "\n",
    "from sklearn import datasets\n",
    "from sklearn.model_selection import train_test_split\n",
    "from sklearn.ensemble import RandomForestRegressor\n",
    "from sklearn.linear_model import LinearRegression\n",
    "from sklearn.tree import DecisionTreeRegressor\n",
    "from sklearn.metrics import mean_squared_error\n",
    "from sklearn.metrics import mean_absolute_error\n",
    "from sklearn.metrics import r2_score\n",
    "from sklearn.neighbors import KNeighborsRegressor\n",
    "from sklearn.model_selection import GridSearchCV\n",
    "\n",
    "%matplotlib inline"
   ]
  },
  {
   "cell_type": "markdown",
   "metadata": {
    "papermill": {
     "duration": 0.011759,
     "end_time": "2020-09-09T16:14:55.179799",
     "exception": false,
     "start_time": "2020-09-09T16:14:55.168040",
     "status": "completed"
    },
    "tags": []
   },
   "source": [
    "## Boston Housing"
   ]
  },
  {
   "cell_type": "markdown",
   "metadata": {
    "papermill": {
     "duration": 0.014134,
     "end_time": "2020-09-09T16:14:55.207055",
     "exception": false,
     "start_time": "2020-09-09T16:14:55.192921",
     "status": "completed"
    },
    "tags": []
   },
   "source": [
    "### Importação de Dados"
   ]
  },
  {
   "cell_type": "code",
   "execution_count": 2,
   "metadata": {
    "execution": {
     "iopub.execute_input": "2020-09-09T16:14:55.237570Z",
     "iopub.status.busy": "2020-09-09T16:14:55.236757Z",
     "iopub.status.idle": "2020-09-09T16:14:55.253959Z",
     "shell.execute_reply": "2020-09-09T16:14:55.254631Z"
    },
    "papermill": {
     "duration": 0.034954,
     "end_time": "2020-09-09T16:14:55.254778",
     "exception": false,
     "start_time": "2020-09-09T16:14:55.219824",
     "status": "completed"
    },
    "tags": []
   },
   "outputs": [
    {
     "name": "stdout",
     "output_type": "stream",
     "text": [
      ".. _boston_dataset:\n",
      "\n",
      "Boston house prices dataset\n",
      "---------------------------\n",
      "\n",
      "**Data Set Characteristics:**  \n",
      "\n",
      "    :Number of Instances: 506 \n",
      "\n",
      "    :Number of Attributes: 13 numeric/categorical predictive. Median Value (attribute 14) is usually the target.\n",
      "\n",
      "    :Attribute Information (in order):\n",
      "        - CRIM     per capita crime rate by town\n",
      "        - ZN       proportion of residential land zoned for lots over 25,000 sq.ft.\n",
      "        - INDUS    proportion of non-retail business acres per town\n",
      "        - CHAS     Charles River dummy variable (= 1 if tract bounds river; 0 otherwise)\n",
      "        - NOX      nitric oxides concentration (parts per 10 million)\n",
      "        - RM       average number of rooms per dwelling\n",
      "        - AGE      proportion of owner-occupied units built prior to 1940\n",
      "        - DIS      weighted distances to five Boston employment centres\n",
      "        - RAD      index of accessibility to radial highways\n",
      "        - TAX      full-value property-tax rate per $10,000\n",
      "        - PTRATIO  pupil-teacher ratio by town\n",
      "        - B        1000(Bk - 0.63)^2 where Bk is the proportion of blacks by town\n",
      "        - LSTAT    % lower status of the population\n",
      "        - MEDV     Median value of owner-occupied homes in $1000's\n",
      "\n",
      "    :Missing Attribute Values: None\n",
      "\n",
      "    :Creator: Harrison, D. and Rubinfeld, D.L.\n",
      "\n",
      "This is a copy of UCI ML housing dataset.\n",
      "https://archive.ics.uci.edu/ml/machine-learning-databases/housing/\n",
      "\n",
      "\n",
      "This dataset was taken from the StatLib library which is maintained at Carnegie Mellon University.\n",
      "\n",
      "The Boston house-price data of Harrison, D. and Rubinfeld, D.L. 'Hedonic\n",
      "prices and the demand for clean air', J. Environ. Economics & Management,\n",
      "vol.5, 81-102, 1978.   Used in Belsley, Kuh & Welsch, 'Regression diagnostics\n",
      "...', Wiley, 1980.   N.B. Various transformations are used in the table on\n",
      "pages 244-261 of the latter.\n",
      "\n",
      "The Boston house-price data has been used in many machine learning papers that address regression\n",
      "problems.   \n",
      "     \n",
      ".. topic:: References\n",
      "\n",
      "   - Belsley, Kuh & Welsch, 'Regression diagnostics: Identifying Influential Data and Sources of Collinearity', Wiley, 1980. 244-261.\n",
      "   - Quinlan,R. (1993). Combining Instance-Based and Model-Based Learning. In Proceedings on the Tenth International Conference of Machine Learning, 236-243, University of Massachusetts, Amherst. Morgan Kaufmann.\n",
      "\n"
     ]
    }
   ],
   "source": [
    "boston = datasets.load_boston()\n",
    "\n",
    "print(boston.DESCR)"
   ]
  },
  {
   "cell_type": "markdown",
   "metadata": {
    "papermill": {
     "duration": 0.011582,
     "end_time": "2020-09-09T16:14:55.278354",
     "exception": false,
     "start_time": "2020-09-09T16:14:55.266772",
     "status": "completed"
    },
    "tags": []
   },
   "source": [
    "### Análise dos dados"
   ]
  },
  {
   "cell_type": "code",
   "execution_count": 3,
   "metadata": {
    "execution": {
     "iopub.execute_input": "2020-09-09T16:14:55.328258Z",
     "iopub.status.busy": "2020-09-09T16:14:55.327021Z",
     "iopub.status.idle": "2020-09-09T16:14:55.390931Z",
     "shell.execute_reply": "2020-09-09T16:14:55.390019Z"
    },
    "papermill": {
     "duration": 0.100364,
     "end_time": "2020-09-09T16:14:55.391135",
     "exception": false,
     "start_time": "2020-09-09T16:14:55.290771",
     "status": "completed"
    },
    "tags": []
   },
   "outputs": [
    {
     "data": {
      "text/html": [
       "<div>\n",
       "<style scoped>\n",
       "    .dataframe tbody tr th:only-of-type {\n",
       "        vertical-align: middle;\n",
       "    }\n",
       "\n",
       "    .dataframe tbody tr th {\n",
       "        vertical-align: top;\n",
       "    }\n",
       "\n",
       "    .dataframe thead th {\n",
       "        text-align: right;\n",
       "    }\n",
       "</style>\n",
       "<table border=\"1\" class=\"dataframe\">\n",
       "  <thead>\n",
       "    <tr style=\"text-align: right;\">\n",
       "      <th></th>\n",
       "      <th>CRIM</th>\n",
       "      <th>ZN</th>\n",
       "      <th>INDUS</th>\n",
       "      <th>CHAS</th>\n",
       "      <th>NOX</th>\n",
       "      <th>RM</th>\n",
       "      <th>AGE</th>\n",
       "      <th>DIS</th>\n",
       "      <th>RAD</th>\n",
       "      <th>TAX</th>\n",
       "      <th>PTRATIO</th>\n",
       "      <th>B</th>\n",
       "      <th>LSTAT</th>\n",
       "      <th>MEDV</th>\n",
       "    </tr>\n",
       "  </thead>\n",
       "  <tbody>\n",
       "    <tr>\n",
       "      <th>0</th>\n",
       "      <td>0.00632</td>\n",
       "      <td>18.0</td>\n",
       "      <td>2.31</td>\n",
       "      <td>0.0</td>\n",
       "      <td>0.538</td>\n",
       "      <td>6.575</td>\n",
       "      <td>65.2</td>\n",
       "      <td>4.0900</td>\n",
       "      <td>1.0</td>\n",
       "      <td>296.0</td>\n",
       "      <td>15.3</td>\n",
       "      <td>396.90</td>\n",
       "      <td>4.98</td>\n",
       "      <td>24.0</td>\n",
       "    </tr>\n",
       "    <tr>\n",
       "      <th>1</th>\n",
       "      <td>0.02731</td>\n",
       "      <td>0.0</td>\n",
       "      <td>7.07</td>\n",
       "      <td>0.0</td>\n",
       "      <td>0.469</td>\n",
       "      <td>6.421</td>\n",
       "      <td>78.9</td>\n",
       "      <td>4.9671</td>\n",
       "      <td>2.0</td>\n",
       "      <td>242.0</td>\n",
       "      <td>17.8</td>\n",
       "      <td>396.90</td>\n",
       "      <td>9.14</td>\n",
       "      <td>21.6</td>\n",
       "    </tr>\n",
       "    <tr>\n",
       "      <th>2</th>\n",
       "      <td>0.02729</td>\n",
       "      <td>0.0</td>\n",
       "      <td>7.07</td>\n",
       "      <td>0.0</td>\n",
       "      <td>0.469</td>\n",
       "      <td>7.185</td>\n",
       "      <td>61.1</td>\n",
       "      <td>4.9671</td>\n",
       "      <td>2.0</td>\n",
       "      <td>242.0</td>\n",
       "      <td>17.8</td>\n",
       "      <td>392.83</td>\n",
       "      <td>4.03</td>\n",
       "      <td>34.7</td>\n",
       "    </tr>\n",
       "    <tr>\n",
       "      <th>3</th>\n",
       "      <td>0.03237</td>\n",
       "      <td>0.0</td>\n",
       "      <td>2.18</td>\n",
       "      <td>0.0</td>\n",
       "      <td>0.458</td>\n",
       "      <td>6.998</td>\n",
       "      <td>45.8</td>\n",
       "      <td>6.0622</td>\n",
       "      <td>3.0</td>\n",
       "      <td>222.0</td>\n",
       "      <td>18.7</td>\n",
       "      <td>394.63</td>\n",
       "      <td>2.94</td>\n",
       "      <td>33.4</td>\n",
       "    </tr>\n",
       "    <tr>\n",
       "      <th>4</th>\n",
       "      <td>0.06905</td>\n",
       "      <td>0.0</td>\n",
       "      <td>2.18</td>\n",
       "      <td>0.0</td>\n",
       "      <td>0.458</td>\n",
       "      <td>7.147</td>\n",
       "      <td>54.2</td>\n",
       "      <td>6.0622</td>\n",
       "      <td>3.0</td>\n",
       "      <td>222.0</td>\n",
       "      <td>18.7</td>\n",
       "      <td>396.90</td>\n",
       "      <td>5.33</td>\n",
       "      <td>36.2</td>\n",
       "    </tr>\n",
       "  </tbody>\n",
       "</table>\n",
       "</div>"
      ],
      "text/plain": [
       "      CRIM    ZN  INDUS  CHAS    NOX     RM   AGE     DIS  RAD    TAX  \\\n",
       "0  0.00632  18.0   2.31   0.0  0.538  6.575  65.2  4.0900  1.0  296.0   \n",
       "1  0.02731   0.0   7.07   0.0  0.469  6.421  78.9  4.9671  2.0  242.0   \n",
       "2  0.02729   0.0   7.07   0.0  0.469  7.185  61.1  4.9671  2.0  242.0   \n",
       "3  0.03237   0.0   2.18   0.0  0.458  6.998  45.8  6.0622  3.0  222.0   \n",
       "4  0.06905   0.0   2.18   0.0  0.458  7.147  54.2  6.0622  3.0  222.0   \n",
       "\n",
       "   PTRATIO       B  LSTAT  MEDV  \n",
       "0     15.3  396.90   4.98  24.0  \n",
       "1     17.8  396.90   9.14  21.6  \n",
       "2     17.8  392.83   4.03  34.7  \n",
       "3     18.7  394.63   2.94  33.4  \n",
       "4     18.7  396.90   5.33  36.2  "
      ]
     },
     "execution_count": 3,
     "metadata": {},
     "output_type": "execute_result"
    }
   ],
   "source": [
    "# Transformando os dados em data frame\n",
    "\n",
    "boston_df = pd.DataFrame(boston.data, columns = boston.feature_names)\n",
    "boston_df['MEDV'] = boston.target\n",
    "\n",
    "boston_df.head()"
   ]
  },
  {
   "cell_type": "code",
   "execution_count": 4,
   "metadata": {
    "execution": {
     "iopub.execute_input": "2020-09-09T16:14:55.422048Z",
     "iopub.status.busy": "2020-09-09T16:14:55.421310Z",
     "iopub.status.idle": "2020-09-09T16:14:55.440874Z",
     "shell.execute_reply": "2020-09-09T16:14:55.441541Z"
    },
    "papermill": {
     "duration": 0.036586,
     "end_time": "2020-09-09T16:14:55.441703",
     "exception": false,
     "start_time": "2020-09-09T16:14:55.405117",
     "status": "completed"
    },
    "tags": []
   },
   "outputs": [
    {
     "data": {
      "text/plain": [
       "RM         0.695360\n",
       "ZN         0.360445\n",
       "B          0.333461\n",
       "DIS        0.249929\n",
       "CHAS       0.175260\n",
       "AGE       -0.376955\n",
       "RAD       -0.381626\n",
       "CRIM      -0.388305\n",
       "NOX       -0.427321\n",
       "TAX       -0.468536\n",
       "INDUS     -0.483725\n",
       "PTRATIO   -0.507787\n",
       "LSTAT     -0.737663\n",
       "Name: MEDV, dtype: float64"
      ]
     },
     "execution_count": 4,
     "metadata": {},
     "output_type": "execute_result"
    }
   ],
   "source": [
    "boston_corr = boston_df.corr().MEDV.drop('MEDV').sort_values(ascending = False)\n",
    "\n",
    "boston_corr"
   ]
  },
  {
   "cell_type": "markdown",
   "metadata": {
    "papermill": {
     "duration": 0.012304,
     "end_time": "2020-09-09T16:14:55.466821",
     "exception": false,
     "start_time": "2020-09-09T16:14:55.454517",
     "status": "completed"
    },
    "tags": []
   },
   "source": [
    "Os indicadores que possuem maior correlação com o preço são:\n",
    "\n",
    "LSTAT - Representa a procentagem de pessoas de baixa renda da população que possui correlação negativa. Indicando que quanto maior a população de baixa renda menor o preço das propriedades;  \n",
    "RM - Número médio de comodos por habitação que apresenta uma correlação positiva;  \n",
    "PTRATIO - Proporção de professores por aluno no local que apresenta uma correlação positiva;   \n",
    "INDUS - proporção de acres de negócios não varejistas por cidade;  \n",
    "TAX - Taxa de impost por propriedade que apresenta uma correlação negativa;   \n",
    "NOX - Concentração de óxidos nitricos que apresenta correlação negativa (essa correlação é contra intuítiva. Talvez essa correlação esteja ligada a área com alta de concentração de óxidos nitricos são zonas rurais que apresentam preços mais baixos).\n"
   ]
  },
  {
   "cell_type": "code",
   "execution_count": 5,
   "metadata": {
    "execution": {
     "iopub.execute_input": "2020-09-09T16:14:55.496280Z",
     "iopub.status.busy": "2020-09-09T16:14:55.495248Z",
     "iopub.status.idle": "2020-09-09T16:14:55.569192Z",
     "shell.execute_reply": "2020-09-09T16:14:55.568086Z"
    },
    "papermill": {
     "duration": 0.090058,
     "end_time": "2020-09-09T16:14:55.569409",
     "exception": false,
     "start_time": "2020-09-09T16:14:55.479351",
     "status": "completed"
    },
    "tags": []
   },
   "outputs": [
    {
     "data": {
      "text/html": [
       "<div>\n",
       "<style scoped>\n",
       "    .dataframe tbody tr th:only-of-type {\n",
       "        vertical-align: middle;\n",
       "    }\n",
       "\n",
       "    .dataframe tbody tr th {\n",
       "        vertical-align: top;\n",
       "    }\n",
       "\n",
       "    .dataframe thead th {\n",
       "        text-align: right;\n",
       "    }\n",
       "</style>\n",
       "<table border=\"1\" class=\"dataframe\">\n",
       "  <thead>\n",
       "    <tr style=\"text-align: right;\">\n",
       "      <th></th>\n",
       "      <th>CRIM</th>\n",
       "      <th>ZN</th>\n",
       "      <th>INDUS</th>\n",
       "      <th>CHAS</th>\n",
       "      <th>NOX</th>\n",
       "      <th>RM</th>\n",
       "      <th>AGE</th>\n",
       "      <th>DIS</th>\n",
       "      <th>RAD</th>\n",
       "      <th>TAX</th>\n",
       "      <th>PTRATIO</th>\n",
       "      <th>B</th>\n",
       "      <th>LSTAT</th>\n",
       "      <th>MEDV</th>\n",
       "    </tr>\n",
       "  </thead>\n",
       "  <tbody>\n",
       "    <tr>\n",
       "      <th>count</th>\n",
       "      <td>506.000000</td>\n",
       "      <td>506.000000</td>\n",
       "      <td>506.000000</td>\n",
       "      <td>506.000000</td>\n",
       "      <td>506.000000</td>\n",
       "      <td>506.000000</td>\n",
       "      <td>506.000000</td>\n",
       "      <td>506.000000</td>\n",
       "      <td>506.000000</td>\n",
       "      <td>506.000000</td>\n",
       "      <td>506.000000</td>\n",
       "      <td>506.000000</td>\n",
       "      <td>506.000000</td>\n",
       "      <td>506.000000</td>\n",
       "    </tr>\n",
       "    <tr>\n",
       "      <th>mean</th>\n",
       "      <td>3.613524</td>\n",
       "      <td>11.363636</td>\n",
       "      <td>11.136779</td>\n",
       "      <td>0.069170</td>\n",
       "      <td>0.554695</td>\n",
       "      <td>6.284634</td>\n",
       "      <td>68.574901</td>\n",
       "      <td>3.795043</td>\n",
       "      <td>9.549407</td>\n",
       "      <td>408.237154</td>\n",
       "      <td>18.455534</td>\n",
       "      <td>356.674032</td>\n",
       "      <td>12.653063</td>\n",
       "      <td>22.532806</td>\n",
       "    </tr>\n",
       "    <tr>\n",
       "      <th>std</th>\n",
       "      <td>8.601545</td>\n",
       "      <td>23.322453</td>\n",
       "      <td>6.860353</td>\n",
       "      <td>0.253994</td>\n",
       "      <td>0.115878</td>\n",
       "      <td>0.702617</td>\n",
       "      <td>28.148861</td>\n",
       "      <td>2.105710</td>\n",
       "      <td>8.707259</td>\n",
       "      <td>168.537116</td>\n",
       "      <td>2.164946</td>\n",
       "      <td>91.294864</td>\n",
       "      <td>7.141062</td>\n",
       "      <td>9.197104</td>\n",
       "    </tr>\n",
       "    <tr>\n",
       "      <th>min</th>\n",
       "      <td>0.006320</td>\n",
       "      <td>0.000000</td>\n",
       "      <td>0.460000</td>\n",
       "      <td>0.000000</td>\n",
       "      <td>0.385000</td>\n",
       "      <td>3.561000</td>\n",
       "      <td>2.900000</td>\n",
       "      <td>1.129600</td>\n",
       "      <td>1.000000</td>\n",
       "      <td>187.000000</td>\n",
       "      <td>12.600000</td>\n",
       "      <td>0.320000</td>\n",
       "      <td>1.730000</td>\n",
       "      <td>5.000000</td>\n",
       "    </tr>\n",
       "    <tr>\n",
       "      <th>25%</th>\n",
       "      <td>0.082045</td>\n",
       "      <td>0.000000</td>\n",
       "      <td>5.190000</td>\n",
       "      <td>0.000000</td>\n",
       "      <td>0.449000</td>\n",
       "      <td>5.885500</td>\n",
       "      <td>45.025000</td>\n",
       "      <td>2.100175</td>\n",
       "      <td>4.000000</td>\n",
       "      <td>279.000000</td>\n",
       "      <td>17.400000</td>\n",
       "      <td>375.377500</td>\n",
       "      <td>6.950000</td>\n",
       "      <td>17.025000</td>\n",
       "    </tr>\n",
       "    <tr>\n",
       "      <th>50%</th>\n",
       "      <td>0.256510</td>\n",
       "      <td>0.000000</td>\n",
       "      <td>9.690000</td>\n",
       "      <td>0.000000</td>\n",
       "      <td>0.538000</td>\n",
       "      <td>6.208500</td>\n",
       "      <td>77.500000</td>\n",
       "      <td>3.207450</td>\n",
       "      <td>5.000000</td>\n",
       "      <td>330.000000</td>\n",
       "      <td>19.050000</td>\n",
       "      <td>391.440000</td>\n",
       "      <td>11.360000</td>\n",
       "      <td>21.200000</td>\n",
       "    </tr>\n",
       "    <tr>\n",
       "      <th>75%</th>\n",
       "      <td>3.677083</td>\n",
       "      <td>12.500000</td>\n",
       "      <td>18.100000</td>\n",
       "      <td>0.000000</td>\n",
       "      <td>0.624000</td>\n",
       "      <td>6.623500</td>\n",
       "      <td>94.075000</td>\n",
       "      <td>5.188425</td>\n",
       "      <td>24.000000</td>\n",
       "      <td>666.000000</td>\n",
       "      <td>20.200000</td>\n",
       "      <td>396.225000</td>\n",
       "      <td>16.955000</td>\n",
       "      <td>25.000000</td>\n",
       "    </tr>\n",
       "    <tr>\n",
       "      <th>max</th>\n",
       "      <td>88.976200</td>\n",
       "      <td>100.000000</td>\n",
       "      <td>27.740000</td>\n",
       "      <td>1.000000</td>\n",
       "      <td>0.871000</td>\n",
       "      <td>8.780000</td>\n",
       "      <td>100.000000</td>\n",
       "      <td>12.126500</td>\n",
       "      <td>24.000000</td>\n",
       "      <td>711.000000</td>\n",
       "      <td>22.000000</td>\n",
       "      <td>396.900000</td>\n",
       "      <td>37.970000</td>\n",
       "      <td>50.000000</td>\n",
       "    </tr>\n",
       "  </tbody>\n",
       "</table>\n",
       "</div>"
      ],
      "text/plain": [
       "             CRIM          ZN       INDUS        CHAS         NOX          RM  \\\n",
       "count  506.000000  506.000000  506.000000  506.000000  506.000000  506.000000   \n",
       "mean     3.613524   11.363636   11.136779    0.069170    0.554695    6.284634   \n",
       "std      8.601545   23.322453    6.860353    0.253994    0.115878    0.702617   \n",
       "min      0.006320    0.000000    0.460000    0.000000    0.385000    3.561000   \n",
       "25%      0.082045    0.000000    5.190000    0.000000    0.449000    5.885500   \n",
       "50%      0.256510    0.000000    9.690000    0.000000    0.538000    6.208500   \n",
       "75%      3.677083   12.500000   18.100000    0.000000    0.624000    6.623500   \n",
       "max     88.976200  100.000000   27.740000    1.000000    0.871000    8.780000   \n",
       "\n",
       "              AGE         DIS         RAD         TAX     PTRATIO           B  \\\n",
       "count  506.000000  506.000000  506.000000  506.000000  506.000000  506.000000   \n",
       "mean    68.574901    3.795043    9.549407  408.237154   18.455534  356.674032   \n",
       "std     28.148861    2.105710    8.707259  168.537116    2.164946   91.294864   \n",
       "min      2.900000    1.129600    1.000000  187.000000   12.600000    0.320000   \n",
       "25%     45.025000    2.100175    4.000000  279.000000   17.400000  375.377500   \n",
       "50%     77.500000    3.207450    5.000000  330.000000   19.050000  391.440000   \n",
       "75%     94.075000    5.188425   24.000000  666.000000   20.200000  396.225000   \n",
       "max    100.000000   12.126500   24.000000  711.000000   22.000000  396.900000   \n",
       "\n",
       "            LSTAT        MEDV  \n",
       "count  506.000000  506.000000  \n",
       "mean    12.653063   22.532806  \n",
       "std      7.141062    9.197104  \n",
       "min      1.730000    5.000000  \n",
       "25%      6.950000   17.025000  \n",
       "50%     11.360000   21.200000  \n",
       "75%     16.955000   25.000000  \n",
       "max     37.970000   50.000000  "
      ]
     },
     "execution_count": 5,
     "metadata": {},
     "output_type": "execute_result"
    }
   ],
   "source": [
    "boston_df.describe()"
   ]
  },
  {
   "cell_type": "markdown",
   "metadata": {
    "papermill": {
     "duration": 0.013256,
     "end_time": "2020-09-09T16:14:55.600727",
     "exception": false,
     "start_time": "2020-09-09T16:14:55.587471",
     "status": "completed"
    },
    "tags": []
   },
   "source": [
    "Não há dados faltantes."
   ]
  },
  {
   "cell_type": "markdown",
   "metadata": {
    "papermill": {
     "duration": 0.015817,
     "end_time": "2020-09-09T16:14:55.630491",
     "exception": false,
     "start_time": "2020-09-09T16:14:55.614674",
     "status": "completed"
    },
    "tags": []
   },
   "source": [
    "### Machine Learning\n",
    "\n",
    "Como modelo será usado arvore de decisão, regressão linear, KNN e florestas aleatorias.  \n",
    "Será medido a qualidade do modelo com a média quadrada do erro, media absoluta do erro.\n",
    "\n",
    "(para alguns métodos serem mais precisos é necessário normalizar os dados de entrada com média 0 e devio padrão 1)"
   ]
  },
  {
   "cell_type": "code",
   "execution_count": 6,
   "metadata": {
    "execution": {
     "iopub.execute_input": "2020-09-09T16:14:55.667087Z",
     "iopub.status.busy": "2020-09-09T16:14:55.666158Z",
     "iopub.status.idle": "2020-09-09T16:14:55.711086Z",
     "shell.execute_reply": "2020-09-09T16:14:55.710418Z"
    },
    "papermill": {
     "duration": 0.065069,
     "end_time": "2020-09-09T16:14:55.711208",
     "exception": false,
     "start_time": "2020-09-09T16:14:55.646139",
     "status": "completed"
    },
    "tags": []
   },
   "outputs": [
    {
     "data": {
      "text/html": [
       "<div>\n",
       "<style scoped>\n",
       "    .dataframe tbody tr th:only-of-type {\n",
       "        vertical-align: middle;\n",
       "    }\n",
       "\n",
       "    .dataframe tbody tr th {\n",
       "        vertical-align: top;\n",
       "    }\n",
       "\n",
       "    .dataframe thead th {\n",
       "        text-align: right;\n",
       "    }\n",
       "</style>\n",
       "<table border=\"1\" class=\"dataframe\">\n",
       "  <thead>\n",
       "    <tr style=\"text-align: right;\">\n",
       "      <th></th>\n",
       "      <th>CRIM</th>\n",
       "      <th>ZN</th>\n",
       "      <th>INDUS</th>\n",
       "      <th>CHAS</th>\n",
       "      <th>NOX</th>\n",
       "      <th>RM</th>\n",
       "      <th>AGE</th>\n",
       "      <th>DIS</th>\n",
       "      <th>RAD</th>\n",
       "      <th>TAX</th>\n",
       "      <th>PTRATIO</th>\n",
       "      <th>B</th>\n",
       "      <th>LSTAT</th>\n",
       "    </tr>\n",
       "  </thead>\n",
       "  <tbody>\n",
       "    <tr>\n",
       "      <th>0</th>\n",
       "      <td>-0.419367</td>\n",
       "      <td>0.284548</td>\n",
       "      <td>-1.286636</td>\n",
       "      <td>-0.272329</td>\n",
       "      <td>-0.144075</td>\n",
       "      <td>0.413263</td>\n",
       "      <td>-0.119895</td>\n",
       "      <td>0.140075</td>\n",
       "      <td>-0.981871</td>\n",
       "      <td>-0.665949</td>\n",
       "      <td>-1.457558</td>\n",
       "      <td>0.440616</td>\n",
       "      <td>-1.074499</td>\n",
       "    </tr>\n",
       "    <tr>\n",
       "      <th>1</th>\n",
       "      <td>-0.416927</td>\n",
       "      <td>-0.487240</td>\n",
       "      <td>-0.592794</td>\n",
       "      <td>-0.272329</td>\n",
       "      <td>-0.739530</td>\n",
       "      <td>0.194082</td>\n",
       "      <td>0.366803</td>\n",
       "      <td>0.556609</td>\n",
       "      <td>-0.867024</td>\n",
       "      <td>-0.986353</td>\n",
       "      <td>-0.302794</td>\n",
       "      <td>0.440616</td>\n",
       "      <td>-0.491953</td>\n",
       "    </tr>\n",
       "    <tr>\n",
       "      <th>2</th>\n",
       "      <td>-0.416929</td>\n",
       "      <td>-0.487240</td>\n",
       "      <td>-0.592794</td>\n",
       "      <td>-0.272329</td>\n",
       "      <td>-0.739530</td>\n",
       "      <td>1.281446</td>\n",
       "      <td>-0.265549</td>\n",
       "      <td>0.556609</td>\n",
       "      <td>-0.867024</td>\n",
       "      <td>-0.986353</td>\n",
       "      <td>-0.302794</td>\n",
       "      <td>0.396035</td>\n",
       "      <td>-1.207532</td>\n",
       "    </tr>\n",
       "    <tr>\n",
       "      <th>3</th>\n",
       "      <td>-0.416338</td>\n",
       "      <td>-0.487240</td>\n",
       "      <td>-1.305586</td>\n",
       "      <td>-0.272329</td>\n",
       "      <td>-0.834458</td>\n",
       "      <td>1.015298</td>\n",
       "      <td>-0.809088</td>\n",
       "      <td>1.076671</td>\n",
       "      <td>-0.752178</td>\n",
       "      <td>-1.105022</td>\n",
       "      <td>0.112920</td>\n",
       "      <td>0.415751</td>\n",
       "      <td>-1.360171</td>\n",
       "    </tr>\n",
       "    <tr>\n",
       "      <th>4</th>\n",
       "      <td>-0.412074</td>\n",
       "      <td>-0.487240</td>\n",
       "      <td>-1.305586</td>\n",
       "      <td>-0.272329</td>\n",
       "      <td>-0.834458</td>\n",
       "      <td>1.227362</td>\n",
       "      <td>-0.510674</td>\n",
       "      <td>1.076671</td>\n",
       "      <td>-0.752178</td>\n",
       "      <td>-1.105022</td>\n",
       "      <td>0.112920</td>\n",
       "      <td>0.440616</td>\n",
       "      <td>-1.025487</td>\n",
       "    </tr>\n",
       "  </tbody>\n",
       "</table>\n",
       "</div>"
      ],
      "text/plain": [
       "       CRIM        ZN     INDUS      CHAS       NOX        RM       AGE  \\\n",
       "0 -0.419367  0.284548 -1.286636 -0.272329 -0.144075  0.413263 -0.119895   \n",
       "1 -0.416927 -0.487240 -0.592794 -0.272329 -0.739530  0.194082  0.366803   \n",
       "2 -0.416929 -0.487240 -0.592794 -0.272329 -0.739530  1.281446 -0.265549   \n",
       "3 -0.416338 -0.487240 -1.305586 -0.272329 -0.834458  1.015298 -0.809088   \n",
       "4 -0.412074 -0.487240 -1.305586 -0.272329 -0.834458  1.227362 -0.510674   \n",
       "\n",
       "        DIS       RAD       TAX   PTRATIO         B     LSTAT  \n",
       "0  0.140075 -0.981871 -0.665949 -1.457558  0.440616 -1.074499  \n",
       "1  0.556609 -0.867024 -0.986353 -0.302794  0.440616 -0.491953  \n",
       "2  0.556609 -0.867024 -0.986353 -0.302794  0.396035 -1.207532  \n",
       "3  1.076671 -0.752178 -1.105022  0.112920  0.415751 -1.360171  \n",
       "4  1.076671 -0.752178 -1.105022  0.112920  0.440616 -1.025487  "
      ]
     },
     "execution_count": 6,
     "metadata": {},
     "output_type": "execute_result"
    }
   ],
   "source": [
    "n_boston_df = (boston_df.iloc[:, :-1] - boston_df.iloc[:, :-1].mean())/boston_df.iloc[:, :-1].std()\n",
    "\n",
    "n_boston_df.head()"
   ]
  },
  {
   "cell_type": "markdown",
   "metadata": {
    "papermill": {
     "duration": 0.014693,
     "end_time": "2020-09-09T16:14:55.741259",
     "exception": false,
     "start_time": "2020-09-09T16:14:55.726566",
     "status": "completed"
    },
    "tags": []
   },
   "source": [
    "### Análise de correlação"
   ]
  },
  {
   "cell_type": "code",
   "execution_count": 7,
   "metadata": {
    "execution": {
     "iopub.execute_input": "2020-09-09T16:14:55.771884Z",
     "iopub.status.busy": "2020-09-09T16:14:55.770835Z",
     "iopub.status.idle": "2020-09-09T16:14:56.302715Z",
     "shell.execute_reply": "2020-09-09T16:14:56.301690Z"
    },
    "papermill": {
     "duration": 0.548332,
     "end_time": "2020-09-09T16:14:56.302946",
     "exception": false,
     "start_time": "2020-09-09T16:14:55.754614",
     "status": "completed"
    },
    "tags": []
   },
   "outputs": [
    {
     "name": "stdout",
     "output_type": "stream",
     "text": [
      "{'model': RandomForestRegressor(), 'MSE': 8.922977730263158, 'MSA': 2.2487697368421053, 'r2': 0.9026454894635718}\n",
      "{'model': DecisionTreeRegressor(), 'MSE': 24.367039473684212, 'MSA': 3.2177631578947365, 'r2': 0.7341424272374165}\n",
      "{'model': LinearRegression(), 'MSE': 19.831323672063156, 'MSA': 3.344665503598749, 'r2': 0.783629538507629}\n",
      "{'model': KNeighborsRegressor(), 'MSE': 17.088568421052635, 'MSA': 2.8026315789473686, 'r2': 0.8135544809489537}\n"
     ]
    }
   ],
   "source": [
    "X_train, X_test, y_train, y_test = train_test_split(n_boston_df,\n",
    "                                                    boston.target,\n",
    "                                                    test_size = 0.3,\n",
    "                                                    random_state = 1)\n",
    "\n",
    "models = {\n",
    "    'random_forest': {'model': RandomForestRegressor()},\n",
    "    'decision_tree': {'model': DecisionTreeRegressor()},\n",
    "    'linear_regression': {'model': LinearRegression()},\n",
    "    'k_nearest_neighbor': {'model': KNeighborsRegressor()}\n",
    "}\n",
    "\n",
    "\n",
    "for key in models.keys():\n",
    "    models[key]['model'].fit(X_train, y_train)\n",
    "    prediction = models[key]['model'].predict(X_test)\n",
    "    models[key]['MSE'] = mean_squared_error(prediction, y_test)\n",
    "    models[key]['MSA'] = mean_absolute_error(prediction, y_test)\n",
    "    models[key]['r2'] = r2_score(y_test, prediction)\n",
    "    print(models[key])"
   ]
  },
  {
   "cell_type": "markdown",
   "metadata": {
    "papermill": {
     "duration": 0.014079,
     "end_time": "2020-09-09T16:14:56.330924",
     "exception": false,
     "start_time": "2020-09-09T16:14:56.316845",
     "status": "completed"
    },
    "tags": []
   },
   "source": [
    "O modelo que apresentou melhor ajuste aos dados foi o de florestas aleatórias."
   ]
  },
  {
   "cell_type": "markdown",
   "metadata": {
    "papermill": {
     "duration": 0.013167,
     "end_time": "2020-09-09T16:14:56.357808",
     "exception": false,
     "start_time": "2020-09-09T16:14:56.344641",
     "status": "completed"
    },
    "tags": []
   },
   "source": [
    "### Removendo colunas menos importantes"
   ]
  },
  {
   "cell_type": "code",
   "execution_count": 8,
   "metadata": {
    "execution": {
     "iopub.execute_input": "2020-09-09T16:14:56.398656Z",
     "iopub.status.busy": "2020-09-09T16:14:56.397078Z",
     "iopub.status.idle": "2020-09-09T16:14:56.416306Z",
     "shell.execute_reply": "2020-09-09T16:14:56.417054Z"
    },
    "papermill": {
     "duration": 0.045511,
     "end_time": "2020-09-09T16:14:56.417238",
     "exception": false,
     "start_time": "2020-09-09T16:14:56.371727",
     "status": "completed"
    },
    "tags": []
   },
   "outputs": [
    {
     "data": {
      "text/plain": [
       "LSTAT      0.608290\n",
       "RM         0.180092\n",
       "DIS        0.061830\n",
       "CRIM       0.038134\n",
       "NOX        0.025724\n",
       "AGE        0.024545\n",
       "PTRATIO    0.018220\n",
       "TAX        0.013850\n",
       "B          0.013748\n",
       "INDUS      0.009310\n",
       "RAD        0.004051\n",
       "CHAS       0.001212\n",
       "ZN         0.000995\n",
       "dtype: float64"
      ]
     },
     "execution_count": 8,
     "metadata": {},
     "output_type": "execute_result"
    }
   ],
   "source": [
    "m_base = models['random_forest']['model']\n",
    "columns = boston_df.drop('MEDV', axis = 1).columns\n",
    "values = m_base.feature_importances_\n",
    "\n",
    "columns_importances = pd.Series(index = columns, data = values).sort_values(ascending = False)\n",
    "columns_importances"
   ]
  },
  {
   "cell_type": "markdown",
   "metadata": {
    "papermill": {
     "duration": 0.013353,
     "end_time": "2020-09-09T16:14:56.445538",
     "exception": false,
     "start_time": "2020-09-09T16:14:56.432185",
     "status": "completed"
    },
    "tags": []
   },
   "source": [
    "Os indicadores que possuem maior influência com o preço são:\n",
    "\n",
    "LSTAT - Representa a procentagem de pessoas de baixa renda da população. Não somente possuí correlação negativa como também é uma das colunas mais influêntes no preço;  \n",
    "RM - Número médio de comodos por habitação apresenta uma correlação positiva e é bastante influênte no preço;   \n",
    "DIS - Distãncia dos centro de empregos se mostoru bem influênte no preço;  \n",
    "CRIM - Possuí uma correlação negativa e é bastante influênte no preço."
   ]
  },
  {
   "cell_type": "code",
   "execution_count": 9,
   "metadata": {
    "execution": {
     "iopub.execute_input": "2020-09-09T16:14:56.477098Z",
     "iopub.status.busy": "2020-09-09T16:14:56.475997Z",
     "iopub.status.idle": "2020-09-09T16:14:56.483132Z",
     "shell.execute_reply": "2020-09-09T16:14:56.483790Z"
    },
    "papermill": {
     "duration": 0.024927,
     "end_time": "2020-09-09T16:14:56.483955",
     "exception": false,
     "start_time": "2020-09-09T16:14:56.459028",
     "status": "completed"
    },
    "tags": []
   },
   "outputs": [],
   "source": [
    "important_columns = columns_importances[columns_importances > 0.005].index\n",
    "boston_df_clean = boston_df[list(important_columns) + ['MEDV']]"
   ]
  },
  {
   "cell_type": "markdown",
   "metadata": {
    "papermill": {
     "duration": 0.013225,
     "end_time": "2020-09-09T16:14:56.510329",
     "exception": false,
     "start_time": "2020-09-09T16:14:56.497104",
     "status": "completed"
    },
    "tags": []
   },
   "source": [
    "### Removendo colunas redundantes"
   ]
  },
  {
   "cell_type": "code",
   "execution_count": 10,
   "metadata": {
    "execution": {
     "iopub.execute_input": "2020-09-09T16:14:56.541886Z",
     "iopub.status.busy": "2020-09-09T16:14:56.540858Z",
     "iopub.status.idle": "2020-09-09T16:14:56.816725Z",
     "shell.execute_reply": "2020-09-09T16:14:56.815991Z"
    },
    "papermill": {
     "duration": 0.293086,
     "end_time": "2020-09-09T16:14:56.816860",
     "exception": false,
     "start_time": "2020-09-09T16:14:56.523774",
     "status": "completed"
    },
    "tags": []
   },
   "outputs": [
    {
     "data": {
      "image/png": "[encoded data removed]",
      "text/plain": [
       "<Figure size 1296x576 with 1 Axes>"
      ]
     },
     "metadata": {
      "needs_background": "light"
     },
     "output_type": "display_data"
    }
   ],
   "source": [
    "def dendogram_spearmanr(df, tags):\n",
    "\n",
    "    import scipy.cluster.hierarchy\n",
    "    import scipy.stats\n",
    "    \n",
    "    corr = np.round(scipy.stats.spearmanr(df).correlation, 4)\n",
    "    corr_condensed = scipy.cluster.hierarchy.distance.squareform(1-corr)\n",
    "    z = scipy.cluster.hierarchy.linkage(corr_condensed, method='average')\n",
    "    fig = plt.figure(figsize=(18,8))\n",
    "    dendrogram = scipy.cluster.hierarchy.dendrogram(z, labels=tags, orientation='left', leaf_font_size=16)\n",
    "    plt.show()\n",
    "    \n",
    "dendogram_spearmanr(boston_df_clean, boston_df_clean.columns)"
   ]
  },
  {
   "cell_type": "markdown",
   "metadata": {
    "papermill": {
     "duration": 0.013504,
     "end_time": "2020-09-09T16:14:56.844684",
     "exception": false,
     "start_time": "2020-09-09T16:14:56.831180",
     "status": "completed"
    },
    "tags": []
   },
   "source": [
    "Não há colunas muito redundantes."
   ]
  },
  {
   "cell_type": "markdown",
   "metadata": {
    "papermill": {
     "duration": 0.013403,
     "end_time": "2020-09-09T16:14:56.871671",
     "exception": false,
     "start_time": "2020-09-09T16:14:56.858268",
     "status": "completed"
    },
    "tags": []
   },
   "source": [
    "### Selecionando Modelo"
   ]
  },
  {
   "cell_type": "code",
   "execution_count": 11,
   "metadata": {
    "execution": {
     "iopub.execute_input": "2020-09-09T16:14:56.909704Z",
     "iopub.status.busy": "2020-09-09T16:14:56.908846Z",
     "iopub.status.idle": "2020-09-09T16:14:56.912373Z",
     "shell.execute_reply": "2020-09-09T16:14:56.911617Z"
    },
    "papermill": {
     "duration": 0.026984,
     "end_time": "2020-09-09T16:14:56.912518",
     "exception": false,
     "start_time": "2020-09-09T16:14:56.885534",
     "status": "completed"
    },
    "tags": []
   },
   "outputs": [],
   "source": [
    "X_train, X_test, y_train, y_test = train_test_split(boston_df_clean.drop('MEDV', axis = 1),\n",
    "                                                    boston_df_clean.MEDV,\n",
    "                                                    test_size=0.3,\n",
    "                                                    random_state = 1)"
   ]
  },
  {
   "cell_type": "code",
   "execution_count": 12,
   "metadata": {
    "execution": {
     "iopub.execute_input": "2020-09-09T16:14:56.975927Z",
     "iopub.status.busy": "2020-09-09T16:14:56.970163Z",
     "iopub.status.idle": "2020-09-09T16:14:57.611134Z",
     "shell.execute_reply": "2020-09-09T16:14:57.611842Z"
    },
    "papermill": {
     "duration": 0.685244,
     "end_time": "2020-09-09T16:14:57.612013",
     "exception": false,
     "start_time": "2020-09-09T16:14:56.926769",
     "status": "completed"
    },
    "tags": []
   },
   "outputs": [
    {
     "name": "stdout",
     "output_type": "stream",
     "text": [
      "CPU times: user 581 ms, sys: 57.9 ms, total: 639 ms\n",
      "Wall time: 657 ms\n"
     ]
    },
    {
     "data": {
      "text/plain": [
       "0.9068754203143958"
      ]
     },
     "execution_count": 12,
     "metadata": {},
     "output_type": "execute_result"
    }
   ],
   "source": [
    "%%time\n",
    "\n",
    "m_base = RandomForestRegressor(oob_score = True,\n",
    "                               n_jobs=-1,\n",
    "                               random_state=0,\n",
    "                               n_estimators=120,\n",
    "                               min_samples_leaf=1,\n",
    "                               max_features=0.90,\n",
    "                               max_depth=8,)\n",
    "m_base.fit(X_train, y_train)\n",
    "r2_score(y_test, m_base.predict(X_test))"
   ]
  },
  {
   "cell_type": "markdown",
   "metadata": {
    "papermill": {
     "duration": 0.013445,
     "end_time": "2020-09-09T16:14:57.641041",
     "exception": false,
     "start_time": "2020-09-09T16:14:57.627596",
     "status": "completed"
    },
    "tags": []
   },
   "source": [
    "Mesmo com a remoção das colunas que eram menos importante o R² não se alterou significativamente."
   ]
  },
  {
   "cell_type": "markdown",
   "metadata": {
    "papermill": {
     "duration": 0.013573,
     "end_time": "2020-09-09T16:14:57.668630",
     "exception": false,
     "start_time": "2020-09-09T16:14:57.655057",
     "status": "completed"
    },
    "tags": []
   },
   "source": [
    "### Análise de contribuíção"
   ]
  },
  {
   "cell_type": "code",
   "execution_count": 13,
   "metadata": {
    "execution": {
     "iopub.execute_input": "2020-09-09T16:14:57.704332Z",
     "iopub.status.busy": "2020-09-09T16:14:57.703330Z",
     "iopub.status.idle": "2020-09-09T16:15:18.175681Z",
     "shell.execute_reply": "2020-09-09T16:15:18.175038Z"
    },
    "papermill": {
     "duration": 20.492617,
     "end_time": "2020-09-09T16:15:18.175815",
     "exception": false,
     "start_time": "2020-09-09T16:14:57.683198",
     "status": "completed"
    },
    "tags": []
   },
   "outputs": [
    {
     "name": "stdout",
     "output_type": "stream",
     "text": [
      "Collecting treeinterpreter\r\n",
      "  Downloading treeinterpreter-0.2.2-py2.py3-none-any.whl (6.2 kB)\r\n",
      "Installing collected packages: treeinterpreter\r\n",
      "Successfully installed treeinterpreter-0.2.2\r\n",
      "\u001b[33mWARNING: You are using pip version 20.2.2; however, version 20.2.3 is available.\r\n",
      "You should consider upgrading via the '/opt/conda/bin/python3.7 -m pip install --upgrade pip' command.\u001b[0m\r\n",
      "Collecting waterfallcharts\r\n",
      "  Downloading waterfallcharts-3.8.tar.gz (3.9 kB)\r\n",
      "Building wheels for collected packages: waterfallcharts\r\n",
      "  Building wheel for waterfallcharts (setup.py) ... \u001b[?25l-\b \b\\\b \bdone\r\n",
      "\u001b[?25h  Created wheel for waterfallcharts: filename=waterfallcharts-3.8-py3-none-any.whl size=3411 sha256=5ad14b14f0e03e4106bd1e5d965987b113e3aa295d79c4a500374d276a308daa\r\n",
      "  Stored in directory: /root/.cache/pip/wheels/4a/b2/85/9b6eda27fab2effa580c6942fb094e8536cc46e8741ec5f586\r\n",
      "Successfully built waterfallcharts\r\n",
      "Installing collected packages: waterfallcharts\r\n",
      "Successfully installed waterfallcharts-3.8\r\n",
      "\u001b[33mWARNING: You are using pip version 20.2.2; however, version 20.2.3 is available.\r\n",
      "You should consider upgrading via the '/opt/conda/bin/python3.7 -m pip install --upgrade pip' command.\u001b[0m\r\n"
     ]
    }
   ],
   "source": [
    "!pip install treeinterpreter\n",
    "!pip install waterfallcharts"
   ]
  },
  {
   "cell_type": "code",
   "execution_count": 14,
   "metadata": {
    "execution": {
     "iopub.execute_input": "2020-09-09T16:15:18.212728Z",
     "iopub.status.busy": "2020-09-09T16:15:18.212050Z",
     "iopub.status.idle": "2020-09-09T16:15:18.223222Z",
     "shell.execute_reply": "2020-09-09T16:15:18.222564Z"
    },
    "papermill": {
     "duration": 0.031685,
     "end_time": "2020-09-09T16:15:18.223338",
     "exception": false,
     "start_time": "2020-09-09T16:15:18.191653",
     "status": "completed"
    },
    "tags": []
   },
   "outputs": [
    {
     "name": "stderr",
     "output_type": "stream",
     "text": [
      "/opt/conda/lib/python3.7/site-packages/sklearn/utils/deprecation.py:143: FutureWarning: The sklearn.ensemble.forest module is  deprecated in version 0.22 and will be removed in version 0.24. The corresponding classes / functions should instead be imported from sklearn.ensemble. Anything that cannot be imported from sklearn.ensemble is now part of the private API.\n",
      "  warnings.warn(message, FutureWarning)\n"
     ]
    }
   ],
   "source": [
    "from treeinterpreter import treeinterpreter as ti\n",
    "import waterfall_chart"
   ]
  },
  {
   "cell_type": "code",
   "execution_count": 15,
   "metadata": {
    "execution": {
     "iopub.execute_input": "2020-09-09T16:15:18.373897Z",
     "iopub.status.busy": "2020-09-09T16:15:18.356154Z",
     "iopub.status.idle": "2020-09-09T16:15:18.435482Z",
     "shell.execute_reply": "2020-09-09T16:15:18.434747Z"
    },
    "papermill": {
     "duration": 0.197009,
     "end_time": "2020-09-09T16:15:18.435658",
     "exception": false,
     "start_time": "2020-09-09T16:15:18.238649",
     "status": "completed"
    },
    "tags": []
   },
   "outputs": [
    {
     "data": {
      "text/plain": [
       "[('AGE', 70.3, -0.20595242639011746),\n",
       " ('B', 396.9, -0.19311028395300106),\n",
       " ('DIS', 3.1827, -0.18826098722075388),\n",
       " ('CRIM', 0.04932, -0.14226706852419727),\n",
       " ('PTRATIO', 18.4, -0.11754617405864692),\n",
       " ('NOX', 0.472, 0.16092322483831029),\n",
       " ('INDUS', 2.18, 0.7195398507979298),\n",
       " ('TAX', 222.0, 0.7841581329025319),\n",
       " ('LSTAT', 7.53, 2.639377308696379),\n",
       " ('RM', 6.849, 3.0893968332120467)]"
      ]
     },
     "execution_count": 15,
     "metadata": {},
     "output_type": "execute_result"
    }
   ],
   "source": [
    "row = X_test.values[np.newaxis,0]\n",
    "\n",
    "prediction, bias, contributions = ti.predict(m_base, row)\n",
    "\n",
    "idxs = np.argsort(contributions[0])\n",
    "[o for o in zip(X_test.columns[idxs], X_test.iloc[0][idxs], contributions[0][idxs])]"
   ]
  },
  {
   "cell_type": "code",
   "execution_count": 16,
   "metadata": {
    "execution": {
     "iopub.execute_input": "2020-09-09T16:15:18.482079Z",
     "iopub.status.busy": "2020-09-09T16:15:18.480628Z",
     "iopub.status.idle": "2020-09-09T16:15:18.696257Z",
     "shell.execute_reply": "2020-09-09T16:15:18.695689Z"
    },
    "papermill": {
     "duration": 0.244976,
     "end_time": "2020-09-09T16:15:18.696385",
     "exception": false,
     "start_time": "2020-09-09T16:15:18.451409",
     "status": "completed"
    },
    "tags": []
   },
   "outputs": [
    {
     "data": {
      "image/png": "[encoded data removed]",
      "text/plain": [
       "<Figure size 432x288 with 1 Axes>"
      ]
     },
     "metadata": {
      "needs_background": "light"
     },
     "output_type": "display_data"
    }
   ],
   "source": [
    "waterfall_chart.plot(X_test.columns, contributions[0], threshold=0.08, \n",
    "                     rotation_value=90,formatting='{:,.3f}');"
   ]
  },
  {
   "cell_type": "markdown",
   "metadata": {
    "papermill": {
     "duration": 0.014962,
     "end_time": "2020-09-09T16:15:18.726792",
     "exception": false,
     "start_time": "2020-09-09T16:15:18.711830",
     "status": "completed"
    },
    "tags": []
   },
   "source": [
    "O fatores que tiveram a influência mais positiva no preço dos imóveis foram a alta média de cômodos nas casas e a baixa porcentagem de pessoas de baixa renda."
   ]
  },
  {
   "cell_type": "markdown",
   "metadata": {
    "papermill": {
     "duration": 0.014967,
     "end_time": "2020-09-09T16:15:18.756979",
     "exception": false,
     "start_time": "2020-09-09T16:15:18.742012",
     "status": "completed"
    },
    "tags": []
   },
   "source": [
    "## Diabets"
   ]
  },
  {
   "cell_type": "markdown",
   "metadata": {
    "papermill": {
     "duration": 0.015048,
     "end_time": "2020-09-09T16:15:18.787419",
     "exception": false,
     "start_time": "2020-09-09T16:15:18.772371",
     "status": "completed"
    },
    "tags": []
   },
   "source": [
    "### Importando Dados"
   ]
  },
  {
   "cell_type": "code",
   "execution_count": 17,
   "metadata": {
    "execution": {
     "iopub.execute_input": "2020-09-09T16:15:18.823996Z",
     "iopub.status.busy": "2020-09-09T16:15:18.823208Z",
     "iopub.status.idle": "2020-09-09T16:15:18.970780Z",
     "shell.execute_reply": "2020-09-09T16:15:18.969874Z"
    },
    "papermill": {
     "duration": 0.168174,
     "end_time": "2020-09-09T16:15:18.970978",
     "exception": false,
     "start_time": "2020-09-09T16:15:18.802804",
     "status": "completed"
    },
    "tags": []
   },
   "outputs": [
    {
     "name": "stdout",
     "output_type": "stream",
     "text": [
      ".. _diabetes_dataset:\n",
      "\n",
      "Diabetes dataset\n",
      "----------------\n",
      "\n",
      "Ten baseline variables, age, sex, body mass index, average blood\n",
      "pressure, and six blood serum measurements were obtained for each of n =\n",
      "442 diabetes patients, as well as the response of interest, a\n",
      "quantitative measure of disease progression one year after baseline.\n",
      "\n",
      "**Data Set Characteristics:**\n",
      "\n",
      "  :Number of Instances: 442\n",
      "\n",
      "  :Number of Attributes: First 10 columns are numeric predictive values\n",
      "\n",
      "  :Target: Column 11 is a quantitative measure of disease progression one year after baseline\n",
      "\n",
      "  :Attribute Information:\n",
      "      - age     age in years\n",
      "      - sex\n",
      "      - bmi     body mass index\n",
      "      - bp      average blood pressure\n",
      "      - s1      tc, T-Cells (a type of white blood cells)\n",
      "      - s2      ldl, low-density lipoproteins\n",
      "      - s3      hdl, high-density lipoproteins\n",
      "      - s4      tch, thyroid stimulating hormone\n",
      "      - s5      ltg, lamotrigine\n",
      "      - s6      glu, blood sugar level\n",
      "\n",
      "Note: Each of these 10 feature variables have been mean centered and scaled by the standard deviation times `n_samples` (i.e. the sum of squares of each column totals 1).\n",
      "\n",
      "Source URL:\n",
      "https://www4.stat.ncsu.edu/~boos/var.select/diabetes.html\n",
      "\n",
      "For more information see:\n",
      "Bradley Efron, Trevor Hastie, Iain Johnstone and Robert Tibshirani (2004) \"Least Angle Regression,\" Annals of Statistics (with discussion), 407-499.\n",
      "(https://web.stanford.edu/~hastie/Papers/LARS/LeastAngle_2002.pdf)\n"
     ]
    }
   ],
   "source": [
    "diabets = datasets.load_diabetes()\n",
    "\n",
    "print(diabets.DESCR)"
   ]
  },
  {
   "cell_type": "markdown",
   "metadata": {
    "papermill": {
     "duration": 0.016158,
     "end_time": "2020-09-09T16:15:19.003612",
     "exception": false,
     "start_time": "2020-09-09T16:15:18.987454",
     "status": "completed"
    },
    "tags": []
   },
   "source": [
    "### Análise dos dados"
   ]
  },
  {
   "cell_type": "code",
   "execution_count": 18,
   "metadata": {
    "execution": {
     "iopub.execute_input": "2020-09-09T16:15:19.056613Z",
     "iopub.status.busy": "2020-09-09T16:15:19.055732Z",
     "iopub.status.idle": "2020-09-09T16:15:19.059338Z",
     "shell.execute_reply": "2020-09-09T16:15:19.059908Z"
    },
    "papermill": {
     "duration": 0.040386,
     "end_time": "2020-09-09T16:15:19.060057",
     "exception": false,
     "start_time": "2020-09-09T16:15:19.019671",
     "status": "completed"
    },
    "tags": []
   },
   "outputs": [
    {
     "data": {
      "text/html": [
       "<div>\n",
       "<style scoped>\n",
       "    .dataframe tbody tr th:only-of-type {\n",
       "        vertical-align: middle;\n",
       "    }\n",
       "\n",
       "    .dataframe tbody tr th {\n",
       "        vertical-align: top;\n",
       "    }\n",
       "\n",
       "    .dataframe thead th {\n",
       "        text-align: right;\n",
       "    }\n",
       "</style>\n",
       "<table border=\"1\" class=\"dataframe\">\n",
       "  <thead>\n",
       "    <tr style=\"text-align: right;\">\n",
       "      <th></th>\n",
       "      <th>age</th>\n",
       "      <th>sex</th>\n",
       "      <th>bmi</th>\n",
       "      <th>bp</th>\n",
       "      <th>s1</th>\n",
       "      <th>s2</th>\n",
       "      <th>s3</th>\n",
       "      <th>s4</th>\n",
       "      <th>s5</th>\n",
       "      <th>s6</th>\n",
       "      <th>target</th>\n",
       "    </tr>\n",
       "  </thead>\n",
       "  <tbody>\n",
       "    <tr>\n",
       "      <th>0</th>\n",
       "      <td>0.038076</td>\n",
       "      <td>0.050680</td>\n",
       "      <td>0.061696</td>\n",
       "      <td>0.021872</td>\n",
       "      <td>-0.044223</td>\n",
       "      <td>-0.034821</td>\n",
       "      <td>-0.043401</td>\n",
       "      <td>-0.002592</td>\n",
       "      <td>0.019908</td>\n",
       "      <td>-0.017646</td>\n",
       "      <td>151.0</td>\n",
       "    </tr>\n",
       "    <tr>\n",
       "      <th>1</th>\n",
       "      <td>-0.001882</td>\n",
       "      <td>-0.044642</td>\n",
       "      <td>-0.051474</td>\n",
       "      <td>-0.026328</td>\n",
       "      <td>-0.008449</td>\n",
       "      <td>-0.019163</td>\n",
       "      <td>0.074412</td>\n",
       "      <td>-0.039493</td>\n",
       "      <td>-0.068330</td>\n",
       "      <td>-0.092204</td>\n",
       "      <td>75.0</td>\n",
       "    </tr>\n",
       "    <tr>\n",
       "      <th>2</th>\n",
       "      <td>0.085299</td>\n",
       "      <td>0.050680</td>\n",
       "      <td>0.044451</td>\n",
       "      <td>-0.005671</td>\n",
       "      <td>-0.045599</td>\n",
       "      <td>-0.034194</td>\n",
       "      <td>-0.032356</td>\n",
       "      <td>-0.002592</td>\n",
       "      <td>0.002864</td>\n",
       "      <td>-0.025930</td>\n",
       "      <td>141.0</td>\n",
       "    </tr>\n",
       "    <tr>\n",
       "      <th>3</th>\n",
       "      <td>-0.089063</td>\n",
       "      <td>-0.044642</td>\n",
       "      <td>-0.011595</td>\n",
       "      <td>-0.036656</td>\n",
       "      <td>0.012191</td>\n",
       "      <td>0.024991</td>\n",
       "      <td>-0.036038</td>\n",
       "      <td>0.034309</td>\n",
       "      <td>0.022692</td>\n",
       "      <td>-0.009362</td>\n",
       "      <td>206.0</td>\n",
       "    </tr>\n",
       "    <tr>\n",
       "      <th>4</th>\n",
       "      <td>0.005383</td>\n",
       "      <td>-0.044642</td>\n",
       "      <td>-0.036385</td>\n",
       "      <td>0.021872</td>\n",
       "      <td>0.003935</td>\n",
       "      <td>0.015596</td>\n",
       "      <td>0.008142</td>\n",
       "      <td>-0.002592</td>\n",
       "      <td>-0.031991</td>\n",
       "      <td>-0.046641</td>\n",
       "      <td>135.0</td>\n",
       "    </tr>\n",
       "  </tbody>\n",
       "</table>\n",
       "</div>"
      ],
      "text/plain": [
       "        age       sex       bmi        bp        s1        s2        s3  \\\n",
       "0  0.038076  0.050680  0.061696  0.021872 -0.044223 -0.034821 -0.043401   \n",
       "1 -0.001882 -0.044642 -0.051474 -0.026328 -0.008449 -0.019163  0.074412   \n",
       "2  0.085299  0.050680  0.044451 -0.005671 -0.045599 -0.034194 -0.032356   \n",
       "3 -0.089063 -0.044642 -0.011595 -0.036656  0.012191  0.024991 -0.036038   \n",
       "4  0.005383 -0.044642 -0.036385  0.021872  0.003935  0.015596  0.008142   \n",
       "\n",
       "         s4        s5        s6  target  \n",
       "0 -0.002592  0.019908 -0.017646   151.0  \n",
       "1 -0.039493 -0.068330 -0.092204    75.0  \n",
       "2 -0.002592  0.002864 -0.025930   141.0  \n",
       "3  0.034309  0.022692 -0.009362   206.0  \n",
       "4 -0.002592 -0.031991 -0.046641   135.0  "
      ]
     },
     "execution_count": 18,
     "metadata": {},
     "output_type": "execute_result"
    }
   ],
   "source": [
    "diabets_df = pd.DataFrame(diabets.data, columns = diabets.feature_names)\n",
    "diabets_df['target'] = diabets.target\n",
    "\n",
    "diabets_df.head()"
   ]
  },
  {
   "cell_type": "code",
   "execution_count": 19,
   "metadata": {
    "execution": {
     "iopub.execute_input": "2020-09-09T16:15:19.095889Z",
     "iopub.status.busy": "2020-09-09T16:15:19.095169Z",
     "iopub.status.idle": "2020-09-09T16:15:19.143470Z",
     "shell.execute_reply": "2020-09-09T16:15:19.144013Z"
    },
    "papermill": {
     "duration": 0.067896,
     "end_time": "2020-09-09T16:15:19.144169",
     "exception": false,
     "start_time": "2020-09-09T16:15:19.076273",
     "status": "completed"
    },
    "tags": []
   },
   "outputs": [
    {
     "data": {
      "text/html": [
       "<div>\n",
       "<style scoped>\n",
       "    .dataframe tbody tr th:only-of-type {\n",
       "        vertical-align: middle;\n",
       "    }\n",
       "\n",
       "    .dataframe tbody tr th {\n",
       "        vertical-align: top;\n",
       "    }\n",
       "\n",
       "    .dataframe thead th {\n",
       "        text-align: right;\n",
       "    }\n",
       "</style>\n",
       "<table border=\"1\" class=\"dataframe\">\n",
       "  <thead>\n",
       "    <tr style=\"text-align: right;\">\n",
       "      <th></th>\n",
       "      <th>age</th>\n",
       "      <th>sex</th>\n",
       "      <th>bmi</th>\n",
       "      <th>bp</th>\n",
       "      <th>s1</th>\n",
       "      <th>s2</th>\n",
       "      <th>s3</th>\n",
       "      <th>s4</th>\n",
       "      <th>s5</th>\n",
       "      <th>s6</th>\n",
       "      <th>target</th>\n",
       "    </tr>\n",
       "  </thead>\n",
       "  <tbody>\n",
       "    <tr>\n",
       "      <th>count</th>\n",
       "      <td>4.420000e+02</td>\n",
       "      <td>4.420000e+02</td>\n",
       "      <td>4.420000e+02</td>\n",
       "      <td>4.420000e+02</td>\n",
       "      <td>4.420000e+02</td>\n",
       "      <td>4.420000e+02</td>\n",
       "      <td>4.420000e+02</td>\n",
       "      <td>4.420000e+02</td>\n",
       "      <td>4.420000e+02</td>\n",
       "      <td>4.420000e+02</td>\n",
       "      <td>442.000000</td>\n",
       "    </tr>\n",
       "    <tr>\n",
       "      <th>mean</th>\n",
       "      <td>-3.634285e-16</td>\n",
       "      <td>1.308343e-16</td>\n",
       "      <td>-8.045349e-16</td>\n",
       "      <td>1.281655e-16</td>\n",
       "      <td>-8.835316e-17</td>\n",
       "      <td>1.327024e-16</td>\n",
       "      <td>-4.574646e-16</td>\n",
       "      <td>3.777301e-16</td>\n",
       "      <td>-3.830854e-16</td>\n",
       "      <td>-3.412882e-16</td>\n",
       "      <td>152.133484</td>\n",
       "    </tr>\n",
       "    <tr>\n",
       "      <th>std</th>\n",
       "      <td>4.761905e-02</td>\n",
       "      <td>4.761905e-02</td>\n",
       "      <td>4.761905e-02</td>\n",
       "      <td>4.761905e-02</td>\n",
       "      <td>4.761905e-02</td>\n",
       "      <td>4.761905e-02</td>\n",
       "      <td>4.761905e-02</td>\n",
       "      <td>4.761905e-02</td>\n",
       "      <td>4.761905e-02</td>\n",
       "      <td>4.761905e-02</td>\n",
       "      <td>77.093005</td>\n",
       "    </tr>\n",
       "    <tr>\n",
       "      <th>min</th>\n",
       "      <td>-1.072256e-01</td>\n",
       "      <td>-4.464164e-02</td>\n",
       "      <td>-9.027530e-02</td>\n",
       "      <td>-1.123996e-01</td>\n",
       "      <td>-1.267807e-01</td>\n",
       "      <td>-1.156131e-01</td>\n",
       "      <td>-1.023071e-01</td>\n",
       "      <td>-7.639450e-02</td>\n",
       "      <td>-1.260974e-01</td>\n",
       "      <td>-1.377672e-01</td>\n",
       "      <td>25.000000</td>\n",
       "    </tr>\n",
       "    <tr>\n",
       "      <th>25%</th>\n",
       "      <td>-3.729927e-02</td>\n",
       "      <td>-4.464164e-02</td>\n",
       "      <td>-3.422907e-02</td>\n",
       "      <td>-3.665645e-02</td>\n",
       "      <td>-3.424784e-02</td>\n",
       "      <td>-3.035840e-02</td>\n",
       "      <td>-3.511716e-02</td>\n",
       "      <td>-3.949338e-02</td>\n",
       "      <td>-3.324879e-02</td>\n",
       "      <td>-3.317903e-02</td>\n",
       "      <td>87.000000</td>\n",
       "    </tr>\n",
       "    <tr>\n",
       "      <th>50%</th>\n",
       "      <td>5.383060e-03</td>\n",
       "      <td>-4.464164e-02</td>\n",
       "      <td>-7.283766e-03</td>\n",
       "      <td>-5.670611e-03</td>\n",
       "      <td>-4.320866e-03</td>\n",
       "      <td>-3.819065e-03</td>\n",
       "      <td>-6.584468e-03</td>\n",
       "      <td>-2.592262e-03</td>\n",
       "      <td>-1.947634e-03</td>\n",
       "      <td>-1.077698e-03</td>\n",
       "      <td>140.500000</td>\n",
       "    </tr>\n",
       "    <tr>\n",
       "      <th>75%</th>\n",
       "      <td>3.807591e-02</td>\n",
       "      <td>5.068012e-02</td>\n",
       "      <td>3.124802e-02</td>\n",
       "      <td>3.564384e-02</td>\n",
       "      <td>2.835801e-02</td>\n",
       "      <td>2.984439e-02</td>\n",
       "      <td>2.931150e-02</td>\n",
       "      <td>3.430886e-02</td>\n",
       "      <td>3.243323e-02</td>\n",
       "      <td>2.791705e-02</td>\n",
       "      <td>211.500000</td>\n",
       "    </tr>\n",
       "    <tr>\n",
       "      <th>max</th>\n",
       "      <td>1.107267e-01</td>\n",
       "      <td>5.068012e-02</td>\n",
       "      <td>1.705552e-01</td>\n",
       "      <td>1.320442e-01</td>\n",
       "      <td>1.539137e-01</td>\n",
       "      <td>1.987880e-01</td>\n",
       "      <td>1.811791e-01</td>\n",
       "      <td>1.852344e-01</td>\n",
       "      <td>1.335990e-01</td>\n",
       "      <td>1.356118e-01</td>\n",
       "      <td>346.000000</td>\n",
       "    </tr>\n",
       "  </tbody>\n",
       "</table>\n",
       "</div>"
      ],
      "text/plain": [
       "                age           sex           bmi            bp            s1  \\\n",
       "count  4.420000e+02  4.420000e+02  4.420000e+02  4.420000e+02  4.420000e+02   \n",
       "mean  -3.634285e-16  1.308343e-16 -8.045349e-16  1.281655e-16 -8.835316e-17   \n",
       "std    4.761905e-02  4.761905e-02  4.761905e-02  4.761905e-02  4.761905e-02   \n",
       "min   -1.072256e-01 -4.464164e-02 -9.027530e-02 -1.123996e-01 -1.267807e-01   \n",
       "25%   -3.729927e-02 -4.464164e-02 -3.422907e-02 -3.665645e-02 -3.424784e-02   \n",
       "50%    5.383060e-03 -4.464164e-02 -7.283766e-03 -5.670611e-03 -4.320866e-03   \n",
       "75%    3.807591e-02  5.068012e-02  3.124802e-02  3.564384e-02  2.835801e-02   \n",
       "max    1.107267e-01  5.068012e-02  1.705552e-01  1.320442e-01  1.539137e-01   \n",
       "\n",
       "                 s2            s3            s4            s5            s6  \\\n",
       "count  4.420000e+02  4.420000e+02  4.420000e+02  4.420000e+02  4.420000e+02   \n",
       "mean   1.327024e-16 -4.574646e-16  3.777301e-16 -3.830854e-16 -3.412882e-16   \n",
       "std    4.761905e-02  4.761905e-02  4.761905e-02  4.761905e-02  4.761905e-02   \n",
       "min   -1.156131e-01 -1.023071e-01 -7.639450e-02 -1.260974e-01 -1.377672e-01   \n",
       "25%   -3.035840e-02 -3.511716e-02 -3.949338e-02 -3.324879e-02 -3.317903e-02   \n",
       "50%   -3.819065e-03 -6.584468e-03 -2.592262e-03 -1.947634e-03 -1.077698e-03   \n",
       "75%    2.984439e-02  2.931150e-02  3.430886e-02  3.243323e-02  2.791705e-02   \n",
       "max    1.987880e-01  1.811791e-01  1.852344e-01  1.335990e-01  1.356118e-01   \n",
       "\n",
       "           target  \n",
       "count  442.000000  \n",
       "mean   152.133484  \n",
       "std     77.093005  \n",
       "min     25.000000  \n",
       "25%     87.000000  \n",
       "50%    140.500000  \n",
       "75%    211.500000  \n",
       "max    346.000000  "
      ]
     },
     "execution_count": 19,
     "metadata": {},
     "output_type": "execute_result"
    }
   ],
   "source": [
    "diabets_df.describe()"
   ]
  },
  {
   "cell_type": "markdown",
   "metadata": {
    "papermill": {
     "duration": 0.015996,
     "end_time": "2020-09-09T16:15:19.176665",
     "exception": false,
     "start_time": "2020-09-09T16:15:19.160669",
     "status": "completed"
    },
    "tags": []
   },
   "source": [
    "Não há dados faltantes."
   ]
  },
  {
   "cell_type": "code",
   "execution_count": 20,
   "metadata": {
    "execution": {
     "iopub.execute_input": "2020-09-09T16:15:19.213103Z",
     "iopub.status.busy": "2020-09-09T16:15:19.212419Z",
     "iopub.status.idle": "2020-09-09T16:15:19.221888Z",
     "shell.execute_reply": "2020-09-09T16:15:19.222403Z"
    },
    "papermill": {
     "duration": 0.02939,
     "end_time": "2020-09-09T16:15:19.222583",
     "exception": false,
     "start_time": "2020-09-09T16:15:19.193193",
     "status": "completed"
    },
    "tags": []
   },
   "outputs": [
    {
     "data": {
      "text/plain": [
       "bmi    0.586450\n",
       "s5     0.565883\n",
       "bp     0.441484\n",
       "s4     0.430453\n",
       "s6     0.382483\n",
       "s1     0.212022\n",
       "age    0.187889\n",
       "s2     0.174054\n",
       "sex    0.043062\n",
       "s3    -0.394789\n",
       "Name: target, dtype: float64"
      ]
     },
     "execution_count": 20,
     "metadata": {},
     "output_type": "execute_result"
    }
   ],
   "source": [
    "diabets_corr = diabets_df.corr().target.drop('target').sort_values(ascending = False)\n",
    "\n",
    "diabets_corr"
   ]
  },
  {
   "cell_type": "markdown",
   "metadata": {
    "papermill": {
     "duration": 0.017569,
     "end_time": "2020-09-09T16:15:19.256703",
     "exception": false,
     "start_time": "2020-09-09T16:15:19.239134",
     "status": "completed"
    },
    "tags": []
   },
   "source": [
    "### Removendo colunas redundantes"
   ]
  },
  {
   "cell_type": "code",
   "execution_count": 21,
   "metadata": {
    "execution": {
     "iopub.execute_input": "2020-09-09T16:15:19.302847Z",
     "iopub.status.busy": "2020-09-09T16:15:19.302039Z",
     "iopub.status.idle": "2020-09-09T16:15:19.540780Z",
     "shell.execute_reply": "2020-09-09T16:15:19.541329Z"
    },
    "papermill": {
     "duration": 0.265461,
     "end_time": "2020-09-09T16:15:19.541571",
     "exception": false,
     "start_time": "2020-09-09T16:15:19.276110",
     "status": "completed"
    },
    "tags": []
   },
   "outputs": [
    {
     "data": {
      "image/png": "[encoded data removed]",
      "text/plain": [
       "<Figure size 1296x576 with 1 Axes>"
      ]
     },
     "metadata": {
      "needs_background": "light"
     },
     "output_type": "display_data"
    }
   ],
   "source": [
    "def dendogram_spearmanr(df, tags):\n",
    "\n",
    "    import scipy.cluster.hierarchy\n",
    "    import scipy.stats\n",
    "    \n",
    "    corr = np.round(scipy.stats.spearmanr(df).correlation, 4)\n",
    "    corr_condensed = scipy.cluster.hierarchy.distance.squareform(1-corr)\n",
    "    z = scipy.cluster.hierarchy.linkage(corr_condensed, method='average')\n",
    "    fig = plt.figure(figsize=(18,8))\n",
    "    dendrogram = scipy.cluster.hierarchy.dendrogram(z, labels=tags, orientation='left', leaf_font_size=16)\n",
    "    plt.show()\n",
    "    \n",
    "dendogram_spearmanr(diabets_df, diabets_df.columns)"
   ]
  },
  {
   "cell_type": "markdown",
   "metadata": {
    "papermill": {
     "duration": 0.017383,
     "end_time": "2020-09-09T16:15:19.576791",
     "exception": false,
     "start_time": "2020-09-09T16:15:19.559408",
     "status": "completed"
    },
    "tags": []
   },
   "source": [
    "Não há colunas muito redundantes"
   ]
  },
  {
   "cell_type": "markdown",
   "metadata": {
    "papermill": {
     "duration": 0.017004,
     "end_time": "2020-09-09T16:15:19.610868",
     "exception": false,
     "start_time": "2020-09-09T16:15:19.593864",
     "status": "completed"
    },
    "tags": []
   },
   "source": [
    "### Model Selection"
   ]
  },
  {
   "cell_type": "code",
   "execution_count": 22,
   "metadata": {
    "execution": {
     "iopub.execute_input": "2020-09-09T16:15:19.649209Z",
     "iopub.status.busy": "2020-09-09T16:15:19.648417Z",
     "iopub.status.idle": "2020-09-09T16:15:19.661272Z",
     "shell.execute_reply": "2020-09-09T16:15:19.660652Z"
    },
    "papermill": {
     "duration": 0.033392,
     "end_time": "2020-09-09T16:15:19.661392",
     "exception": false,
     "start_time": "2020-09-09T16:15:19.628000",
     "status": "completed"
    },
    "tags": []
   },
   "outputs": [],
   "source": [
    "def select_model(features, target):\n",
    "    models = [\n",
    "        {\n",
    "            'name': 'Random Forest',\n",
    "            'estimator': RandomForestRegressor(),\n",
    "            'hyperparameters': {\n",
    "                'n_estimators': [1, 5, 10, 20, 50, 100], # 1 estimator é igual a arvore de decisão\n",
    "                'max_depth': [2, 5, 10],\n",
    "                \"min_samples_leaf\": [1, 5, 8],\n",
    "                \"min_samples_split\": [2, 3, 5]\n",
    "            }\n",
    "        },\n",
    "        {\n",
    "            'name': 'Linear Regression',\n",
    "            'estimator': LinearRegression(),\n",
    "            'hyperparameters': {\n",
    "                'normalize': [True, False]\n",
    "            }\n",
    "        },\n",
    "#         {\n",
    "#             'name': 'K Nearest Neighbor',\n",
    "#             'estimator': KNeighborsRegressor(),\n",
    "#             'hyperparameters':{\n",
    "#                 \"n_neighbors\": range(1,20,2),\n",
    "#                 \"weights\": [\"distance\", \"uniform\"],\n",
    "#                 \"algorithm\": [\"ball_tree\", \"kd_tree\", \"brute\"],\n",
    "#                 \"p\": [1,2]\n",
    "#             }\n",
    "#         }\n",
    "    ]\n",
    "    \n",
    "    best_parameters = dict()\n",
    "    best_estimator = dict()\n",
    "    best_score = dict()\n",
    "    \n",
    "    for model in models:\n",
    "        grid = GridSearchCV(model['estimator'],\n",
    "                            param_grid = model['hyperparameters'],\n",
    "                            cv = 5)\n",
    "        grid.fit(features, target)\n",
    "        best_estimator[model['name']] = grid.best_estimator_\n",
    "        best_parameters[model['name']] = grid.best_params_\n",
    "        best_score[model['name']] = grid.best_score_\n",
    "        \n",
    "    return best_estimator, best_parameters, best_score"
   ]
  },
  {
   "cell_type": "code",
   "execution_count": 23,
   "metadata": {
    "execution": {
     "iopub.execute_input": "2020-09-09T16:15:19.710912Z",
     "iopub.status.busy": "2020-09-09T16:15:19.710241Z",
     "iopub.status.idle": "2020-09-09T16:16:30.072936Z",
     "shell.execute_reply": "2020-09-09T16:16:30.073627Z"
    },
    "papermill": {
     "duration": 70.395047,
     "end_time": "2020-09-09T16:16:30.073817",
     "exception": false,
     "start_time": "2020-09-09T16:15:19.678770",
     "status": "completed"
    },
    "tags": []
   },
   "outputs": [
    {
     "name": "stdout",
     "output_type": "stream",
     "text": [
      "{'Random Forest': 0.4591189272221728, 'Linear Regression': 0.48231812211149394}\n",
      "{'Random Forest': RandomForestRegressor(max_depth=10, min_samples_leaf=8, min_samples_split=3,\n",
      "                      n_estimators=20), 'Linear Regression': LinearRegression()}\n"
     ]
    }
   ],
   "source": [
    "best_estimator, best_parameters, best_score = select_model(diabets_df.drop('target', axis = 1), diabets.target)\n",
    "\n",
    "print(best_score)\n",
    "print(best_estimator)"
   ]
  },
  {
   "cell_type": "markdown",
   "metadata": {
    "papermill": {
     "duration": 0.017503,
     "end_time": "2020-09-09T16:16:30.108989",
     "exception": false,
     "start_time": "2020-09-09T16:16:30.091486",
     "status": "completed"
    },
    "tags": []
   },
   "source": [
    "O modelo que se ajustou mais aos dados foi de regressão linear normalizado. Para classificação das variáveis mais influêntes será utilizado o Random Forest e o Linear Regression"
   ]
  },
  {
   "cell_type": "code",
   "execution_count": 24,
   "metadata": {
    "execution": {
     "iopub.execute_input": "2020-09-09T16:16:30.154803Z",
     "iopub.status.busy": "2020-09-09T16:16:30.153893Z",
     "iopub.status.idle": "2020-09-09T16:16:30.304735Z",
     "shell.execute_reply": "2020-09-09T16:16:30.305347Z"
    },
    "papermill": {
     "duration": 0.178826,
     "end_time": "2020-09-09T16:16:30.305587",
     "exception": false,
     "start_time": "2020-09-09T16:16:30.126761",
     "status": "completed"
    },
    "tags": []
   },
   "outputs": [
    {
     "name": "stdout",
     "output_type": "stream",
     "text": [
      "Linear Model R2:  0.3928939845074759\n",
      "Random Forest Model R2:  0.3367223486497658\n"
     ]
    }
   ],
   "source": [
    "X_train, X_test, y_train, y_test = train_test_split(diabets_df.drop(['target'], axis = 1),\n",
    "                                                    diabets_df.target,\n",
    "                                                    test_size=0.3,\n",
    "                                                    random_state = 0)\n",
    "\n",
    "\n",
    "linear_model = LinearRegression()\n",
    "linear_model.fit(X_train, y_train)\n",
    "\n",
    "forest_model = RandomForestRegressor(max_depth=10, min_samples_leaf=8, min_samples_split=3,\n",
    "                      n_estimators=50)\n",
    "forest_model.fit(X_train, y_train)\n",
    "\n",
    "print('Linear Model R2: ',r2_score(y_test, linear_model.predict(X_test)))\n",
    "print('Random Forest Model R2: ',r2_score(y_test, forest_model.predict(X_test)))"
   ]
  },
  {
   "cell_type": "markdown",
   "metadata": {
    "papermill": {
     "duration": 0.019391,
     "end_time": "2020-09-09T16:16:30.345107",
     "exception": false,
     "start_time": "2020-09-09T16:16:30.325716",
     "status": "completed"
    },
    "tags": []
   },
   "source": [
    "### Importância das Colunas"
   ]
  },
  {
   "cell_type": "code",
   "execution_count": 25,
   "metadata": {
    "execution": {
     "iopub.execute_input": "2020-09-09T16:16:30.400680Z",
     "iopub.status.busy": "2020-09-09T16:16:30.396613Z",
     "iopub.status.idle": "2020-09-09T16:16:30.406287Z",
     "shell.execute_reply": "2020-09-09T16:16:30.405604Z"
    },
    "papermill": {
     "duration": 0.042554,
     "end_time": "2020-09-09T16:16:30.406406",
     "exception": false,
     "start_time": "2020-09-09T16:16:30.363852",
     "status": "completed"
    },
    "tags": []
   },
   "outputs": [
    {
     "data": {
      "text/plain": [
       "s5     0.406912\n",
       "bmi    0.339528\n",
       "bp     0.075311\n",
       "s3     0.053750\n",
       "s6     0.033868\n",
       "s2     0.026007\n",
       "age    0.021488\n",
       "s1     0.020197\n",
       "s4     0.016570\n",
       "sex    0.006369\n",
       "dtype: float64"
      ]
     },
     "execution_count": 25,
     "metadata": {},
     "output_type": "execute_result"
    }
   ],
   "source": [
    "columns =diabets_df.drop(['target'], axis = 1).columns\n",
    "values = forest_model.feature_importances_\n",
    "\n",
    "columns_importances = pd.Series(index = columns, data = values).sort_values(ascending = False)\n",
    "columns_importances"
   ]
  },
  {
   "cell_type": "code",
   "execution_count": 26,
   "metadata": {
    "execution": {
     "iopub.execute_input": "2020-09-09T16:16:30.446025Z",
     "iopub.status.busy": "2020-09-09T16:16:30.445258Z",
     "iopub.status.idle": "2020-09-09T16:16:30.455667Z",
     "shell.execute_reply": "2020-09-09T16:16:30.454947Z"
    },
    "papermill": {
     "duration": 0.031158,
     "end_time": "2020-09-09T16:16:30.455789",
     "exception": false,
     "start_time": "2020-09-09T16:16:30.424631",
     "status": "completed"
    },
    "tags": []
   },
   "outputs": [
    {
     "data": {
      "text/plain": [
       "s5     721.955802\n",
       "bmi    579.482776\n",
       "s1     504.724014\n",
       "bp     272.464042\n",
       "s2     241.684419\n",
       "sex    193.510646\n",
       "s4      86.620185\n",
       "s3      69.736188\n",
       "age     52.469908\n",
       "s6      26.778870\n",
       "dtype: float64"
      ]
     },
     "execution_count": 26,
     "metadata": {},
     "output_type": "execute_result"
    }
   ],
   "source": [
    "columns_importances = pd.Series(index = columns, data = linear_model.coef_).abs().sort_values(ascending = False)\n",
    "columns_importances"
   ]
  },
  {
   "cell_type": "markdown",
   "metadata": {
    "papermill": {
     "duration": 0.017594,
     "end_time": "2020-09-09T16:16:30.491318",
     "exception": false,
     "start_time": "2020-09-09T16:16:30.473724",
     "status": "completed"
    },
    "tags": []
   },
   "source": [
    "Claramente as colunas bmi e s5 são as mais importantes. Mas o modelo não está se ajustando bem aos dados e os modelos estão apresentando uma instabilidade, o simples fato de mudar o random state altera muito o resultado. O uma regressão só com o bmi algumas vezes é mais eficiênte que o modelo."
   ]
  },
  {
   "cell_type": "markdown",
   "metadata": {
    "papermill": {
     "duration": 0.017696,
     "end_time": "2020-09-09T16:16:30.527474",
     "exception": false,
     "start_time": "2020-09-09T16:16:30.509778",
     "status": "completed"
    },
    "tags": []
   },
   "source": [
    "### Análise de contribuíção"
   ]
  },
  {
   "cell_type": "code",
   "execution_count": 27,
   "metadata": {
    "execution": {
     "iopub.execute_input": "2020-09-09T16:16:30.687643Z",
     "iopub.status.busy": "2020-09-09T16:16:30.638970Z",
     "iopub.status.idle": "2020-09-09T16:16:30.739521Z",
     "shell.execute_reply": "2020-09-09T16:16:30.738777Z"
    },
    "papermill": {
     "duration": 0.194493,
     "end_time": "2020-09-09T16:16:30.739650",
     "exception": false,
     "start_time": "2020-09-09T16:16:30.545157",
     "status": "completed"
    },
    "tags": []
   },
   "outputs": [
    {
     "data": {
      "text/plain": [
       "[('sex', 0.0506801187398187, -3.766195143243483),\n",
       " ('s2', -0.0266789028311707, -0.8119809268010159),\n",
       " ('bp', 0.0700725447072635, -0.1147825469682946),\n",
       " ('s1', -0.0359677812752396, -0.06347282436178864),\n",
       " ('s6', 0.0403433716478807, 0.08694623612902659),\n",
       " ('s5', 0.00371173823343597, 0.15870064092602668),\n",
       " ('s4', -0.00259226199818282, 0.5736668373016954),\n",
       " ('s3', -0.0249926566315915, 0.6477455244205852),\n",
       " ('bmi', 0.104808689473925, 8.324686776767676),\n",
       " ('age', 0.0199132141783263, 12.156573137693973)]"
      ]
     },
     "execution_count": 27,
     "metadata": {},
     "output_type": "execute_result"
    }
   ],
   "source": [
    "row = X_test.values[np.newaxis,0]\n",
    "\n",
    "prediction, bias, contributions = ti.predict(m_base, row)\n",
    "\n",
    "idxs = np.argsort(contributions[0])\n",
    "[o for o in zip(X_test.columns[idxs], X_test.iloc[0][idxs], contributions[0][idxs])]"
   ]
  },
  {
   "cell_type": "code",
   "execution_count": 28,
   "metadata": {
    "execution": {
     "iopub.execute_input": "2020-09-09T16:16:30.796456Z",
     "iopub.status.busy": "2020-09-09T16:16:30.794053Z",
     "iopub.status.idle": "2020-09-09T16:16:30.984816Z",
     "shell.execute_reply": "2020-09-09T16:16:30.984220Z"
    },
    "papermill": {
     "duration": 0.227207,
     "end_time": "2020-09-09T16:16:30.984936",
     "exception": false,
     "start_time": "2020-09-09T16:16:30.757729",
     "status": "completed"
    },
    "tags": []
   },
   "outputs": [
    {
     "data": {
      "image/png": "[encoded data removed]",
      "text/plain": [
       "<Figure size 432x288 with 1 Axes>"
      ]
     },
     "metadata": {
      "needs_background": "light"
     },
     "output_type": "display_data"
    }
   ],
   "source": [
    "waterfall_chart.plot(X_test.columns, contributions[0], threshold=0.08, \n",
    "                     rotation_value=90,formatting='{:,.3f}');"
   ]
  },
  {
   "cell_type": "markdown",
   "metadata": {
    "papermill": {
     "duration": 0.019155,
     "end_time": "2020-09-09T16:16:31.022505",
     "exception": false,
     "start_time": "2020-09-09T16:16:31.003350",
     "status": "completed"
    },
    "tags": []
   },
   "source": [
    "Na análise de contribuição vemos que o parâmetro 'sex'é pouco influênte no modelo teve um fator significativo na predição do modelo, novamente mostrando a instabilidade do modelo que pode ser causada por ter muitos mais dados que influênciam o problema que não estão no data frame."
   ]
  }
 ],
 "metadata": {
  "kernelspec": {
   "display_name": "Python 3",
   "language": "python",
   "name": "python3"
  },
  "language_info": {
   "codemirror_mode": {
    "name": "ipython",
    "version": 3
   },
   "file_extension": ".py",
   "mimetype": "text/x-python",
   "name": "python",
   "nbconvert_exporter": "python",
   "pygments_lexer": "ipython3",
   "version": "3.8.1"
  },
  "papermill": {
   "duration": 102.939143,
   "end_time": "2020-09-09T16:16:31.150011",
   "environment_variables": {},
   "exception": null,
   "input_path": "__notebook__.ipynb",
   "output_path": "__notebook__.ipynb",
   "parameters": {},
   "start_time": "2020-09-09T16:14:48.210868",
   "version": "2.1.0"
  }
 },
 "nbformat": 4,
 "nbformat_minor": 4
}
