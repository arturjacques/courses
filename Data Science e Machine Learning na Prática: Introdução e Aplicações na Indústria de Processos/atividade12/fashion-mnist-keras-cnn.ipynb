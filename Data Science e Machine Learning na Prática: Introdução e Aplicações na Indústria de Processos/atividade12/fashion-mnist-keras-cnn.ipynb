{
 "cells": [
  {
   "cell_type": "markdown",
   "metadata": {
    "_cell_guid": "b1076dfc-b9ad-4769-8c92-a6c4dae69d19",
    "_uuid": "8f2839f25d086af736a60e9eeb907d3b93b6e0e5",
    "papermill": {
     "duration": 0.024051,
     "end_time": "2020-10-23T14:49:46.739677",
     "exception": false,
     "start_time": "2020-10-23T14:49:46.715626",
     "status": "completed"
    },
    "tags": []
   },
   "source": [
    "Tente aprimorar os desempenhos dos modelos do notebook. Há margem para melhorias nos resultados e nas eficiências computacionais. Algumas sugestões:\n",
    "\n",
    "* Varie as arquiteturas das redes e os demais hiperparâmetros (números de filtros, taxas de dropout, etc.).  \n",
    "* Crie ensembles nos casos em que usamos apenas um modelo (MNIST e Fashion MNIST). Teste várias estruturas para os ensembles (número de modelos, arquitetura de cada modelo individual, maneira de agregar os resultados, etc.).  \n",
    "* Use a estratégia de aumento de dados, que consiste em alimentar aos modelos não apenas as imagens originais e sim um conjunto potencialmente muito maior, composto por imagens com pequenas variações das originais. Você pode implementar o aumento de dados facilmente fornecendo hiperparâmetros descrevendo as variações das imagens à classe ImageDataGenerator (cheque a referência para mais detalhes).  \n",
    "* Use modelos pré-treinados para introduzir parâmetros não-treináveis nas primeiras camadas (transferência de aprendizado).  \n",
    "* etc, etc.  \n",
    "* \n",
    "Durante seus testes, é instrutivo verificar também quais modificações não ajudam ou mesmo pioram o desempenho.  \n",
    "\n",
    "Na Internet, em particular no Kaggle e principalmente para o MNIST, você pode encontrar implementações das ideias citadas acima ou de outras ideias. Há material de sobra para estudo e exploração. Boa jornada!"
   ]
  },
  {
   "cell_type": "code",
   "execution_count": 1,
   "metadata": {
    "_cell_guid": "79c7e3d0-c299-4dcb-8224-4455121ee9b0",
    "_uuid": "d629ff2d2480ee46fbb7e2d37f6b5fab8052498a",
    "execution": {
     "iopub.execute_input": "2020-10-23T14:49:46.792516Z",
     "iopub.status.busy": "2020-10-23T14:49:46.791666Z",
     "iopub.status.idle": "2020-10-23T14:49:52.771760Z",
     "shell.execute_reply": "2020-10-23T14:49:52.770584Z"
    },
    "papermill": {
     "duration": 6.009701,
     "end_time": "2020-10-23T14:49:52.771900",
     "exception": false,
     "start_time": "2020-10-23T14:49:46.762199",
     "status": "completed"
    },
    "tags": []
   },
   "outputs": [],
   "source": [
    "import pandas as pd\n",
    "import matplotlib.pyplot as plt\n",
    "from tensorflow import keras\n",
    "from sklearn.model_selection import train_test_split\n",
    "import numpy as np\n",
    "from sklearn.metrics import accuracy_score\n",
    "from sklearn.metrics import confusion_matrix\n",
    "import seaborn as sns\n",
    "from sklearn.utils import shuffle\n",
    "sns.set()\n",
    "\n",
    "from random import choices\n",
    "from random import seed"
   ]
  },
  {
   "cell_type": "markdown",
   "metadata": {
    "papermill": {
     "duration": 0.023549,
     "end_time": "2020-10-23T14:49:52.817579",
     "exception": false,
     "start_time": "2020-10-23T14:49:52.794030",
     "status": "completed"
    },
    "tags": []
   },
   "source": [
    "# Fashion MNIST"
   ]
  },
  {
   "cell_type": "markdown",
   "metadata": {
    "papermill": {
     "duration": 0.02212,
     "end_time": "2020-10-23T14:49:52.861390",
     "exception": false,
     "start_time": "2020-10-23T14:49:52.839270",
     "status": "completed"
    },
    "tags": []
   },
   "source": [
    "## Importando Dataset"
   ]
  },
  {
   "cell_type": "code",
   "execution_count": 2,
   "metadata": {
    "execution": {
     "iopub.execute_input": "2020-10-23T14:49:52.917538Z",
     "iopub.status.busy": "2020-10-23T14:49:52.916780Z",
     "iopub.status.idle": "2020-10-23T14:50:00.193465Z",
     "shell.execute_reply": "2020-10-23T14:50:00.192175Z"
    },
    "papermill": {
     "duration": 7.309625,
     "end_time": "2020-10-23T14:50:00.193620",
     "exception": false,
     "start_time": "2020-10-23T14:49:52.883995",
     "status": "completed"
    },
    "tags": []
   },
   "outputs": [],
   "source": [
    "fashion_PATH = '/kaggle/input/fashionmnist/'\n",
    "\n",
    "fashion_train = pd.read_csv(fashion_PATH+'fashion-mnist_train.csv')\n",
    "fashion_test = pd.read_csv(fashion_PATH+'fashion-mnist_test.csv')"
   ]
  },
  {
   "cell_type": "code",
   "execution_count": 3,
   "metadata": {
    "execution": {
     "iopub.execute_input": "2020-10-23T14:50:00.245572Z",
     "iopub.status.busy": "2020-10-23T14:50:00.244580Z",
     "iopub.status.idle": "2020-10-23T14:50:00.420332Z",
     "shell.execute_reply": "2020-10-23T14:50:00.419703Z"
    },
    "papermill": {
     "duration": 0.204949,
     "end_time": "2020-10-23T14:50:00.420445",
     "exception": false,
     "start_time": "2020-10-23T14:50:00.215496",
     "status": "completed"
    },
    "tags": []
   },
   "outputs": [],
   "source": [
    "X_train, y_train = fashion_train.iloc[:,1:].values/255, fashion_train.iloc[:,0].values\n",
    "X_test, y_test = fashion_test.iloc[:,1:].values/255, fashion_test.iloc[:,0].values\n",
    "\n",
    "X_train = X_train.reshape(-1,28, 28, 1)\n",
    "X_test = X_test.reshape(-1,28, 28, 1)"
   ]
  },
  {
   "cell_type": "code",
   "execution_count": 4,
   "metadata": {
    "execution": {
     "iopub.execute_input": "2020-10-23T14:50:00.470594Z",
     "iopub.status.busy": "2020-10-23T14:50:00.469818Z",
     "iopub.status.idle": "2020-10-23T14:50:00.473328Z",
     "shell.execute_reply": "2020-10-23T14:50:00.473845Z"
    },
    "papermill": {
     "duration": 0.031659,
     "end_time": "2020-10-23T14:50:00.474000",
     "exception": false,
     "start_time": "2020-10-23T14:50:00.442341",
     "status": "completed"
    },
    "tags": []
   },
   "outputs": [],
   "source": [
    "label = {\n",
    "0:'T-shirt/top',\n",
    "1:'Trouser',\n",
    "2:'Pullover',\n",
    "3:'Dress',\n",
    "4:'Coat',\n",
    "5:'Sandal',\n",
    "6:'Shirt',\n",
    "7:'Sneaker',\n",
    "8:'Bag',\n",
    "9:'Ankle boot'\n",
    "}"
   ]
  },
  {
   "cell_type": "code",
   "execution_count": 5,
   "metadata": {
    "execution": {
     "iopub.execute_input": "2020-10-23T14:50:00.528828Z",
     "iopub.status.busy": "2020-10-23T14:50:00.528092Z",
     "iopub.status.idle": "2020-10-23T14:50:08.450667Z",
     "shell.execute_reply": "2020-10-23T14:50:08.451242Z"
    },
    "papermill": {
     "duration": 7.95513,
     "end_time": "2020-10-23T14:50:08.451396",
     "exception": false,
     "start_time": "2020-10-23T14:50:00.496266",
     "status": "completed"
    },
    "tags": []
   },
   "outputs": [
    {
     "data": {
      "image/png": "[encoded data removed]",
      "text/plain": [
       "<Figure size 1296x720 with 50 Axes>"
      ]
     },
     "metadata": {},
     "output_type": "display_data"
    }
   ],
   "source": [
    "N_images = 50\n",
    "\n",
    "# localização dos exemplos na matriz de dados \n",
    "rows = choices(range(0, 60000), k=N_images)\n",
    "\n",
    "# selecionando os dígitos, já no formato de matriz\n",
    "digitos = [X_train[i].reshape(28,28) for i in rows]\n",
    "label_value = y_train[rows]\n",
    "\n",
    "# criando figura do matplotlib\n",
    "fig, ax = plt.subplots(5, int(len(rows)/5),figsize=(18,10))\n",
    "\n",
    "# plotando!\n",
    "for i in range(len(rows)):\n",
    "    j = int(i/10)\n",
    "    k = i - j*10\n",
    "    ax[j, k].imshow(digitos[i], cmap = plt.cm.binary, interpolation=\"nearest\")\n",
    "    ax[j, k].set_title(label[label_value[i]])\n",
    "    ax[j, k].axis('off')"
   ]
  },
  {
   "cell_type": "code",
   "execution_count": 6,
   "metadata": {
    "execution": {
     "iopub.execute_input": "2020-10-23T14:50:08.518471Z",
     "iopub.status.busy": "2020-10-23T14:50:08.516902Z",
     "iopub.status.idle": "2020-10-23T14:50:08.987592Z",
     "shell.execute_reply": "2020-10-23T14:50:08.988197Z"
    },
    "papermill": {
     "duration": 0.510868,
     "end_time": "2020-10-23T14:50:08.988360",
     "exception": false,
     "start_time": "2020-10-23T14:50:08.477492",
     "status": "completed"
    },
    "tags": []
   },
   "outputs": [
    {
     "data": {
      "text/plain": [
       "[]"
      ]
     },
     "execution_count": 6,
     "metadata": {},
     "output_type": "execute_result"
    },
    {
     "data": {
      "image/png": "[encoded data removed]",
      "text/plain": [
       "<Figure size 864x720 with 2 Axes>"
      ]
     },
     "metadata": {},
     "output_type": "display_data"
    }
   ],
   "source": [
    "fig, ax = plt.subplots(2,figsize=(12,10))\n",
    "\n",
    "sns.countplot(y_train, ax=ax[0])\n",
    "ax[0].set_title('Distribuição do Treinamento')\n",
    "sns.countplot(y_test, ax=ax[1])\n",
    "ax[1].set_title('Distribuição do Teste')\n",
    "\n",
    "plt.plot()"
   ]
  },
  {
   "cell_type": "markdown",
   "metadata": {
    "papermill": {
     "duration": 0.029733,
     "end_time": "2020-10-23T14:50:09.047299",
     "exception": false,
     "start_time": "2020-10-23T14:50:09.017566",
     "status": "completed"
    },
    "tags": []
   },
   "source": [
    "A distribuição de teste e treinamento tem uma proporção aceitável."
   ]
  },
  {
   "cell_type": "markdown",
   "metadata": {
    "papermill": {
     "duration": 0.026109,
     "end_time": "2020-10-23T14:50:09.100018",
     "exception": false,
     "start_time": "2020-10-23T14:50:09.073909",
     "status": "completed"
    },
    "tags": []
   },
   "source": [
    "## Funções auxiliares"
   ]
  },
  {
   "cell_type": "code",
   "execution_count": 7,
   "metadata": {
    "execution": {
     "iopub.execute_input": "2020-10-23T14:50:09.176656Z",
     "iopub.status.busy": "2020-10-23T14:50:09.172605Z",
     "iopub.status.idle": "2020-10-23T14:50:09.179829Z",
     "shell.execute_reply": "2020-10-23T14:50:09.179143Z"
    },
    "papermill": {
     "duration": 0.050569,
     "end_time": "2020-10-23T14:50:09.179939",
     "exception": false,
     "start_time": "2020-10-23T14:50:09.129370",
     "status": "completed"
    },
    "tags": []
   },
   "outputs": [],
   "source": [
    "def plot_erros(model, X, target, cols=10, rows=5):\n",
    "\n",
    "    y_pred = model.predict(X)\n",
    "    y_pred = np.argmax(y_pred, axis=1)\n",
    "    \n",
    "    predicao = pd.DataFrame(data={'predicao':y_pred, 'target':target})\n",
    "    predicao_erros = predicao[predicao.predicao != predicao.target]\n",
    "    \n",
    "    digitos = predicao_erros.index\n",
    "\n",
    "    fig, ax = plt.subplots(rows, cols,figsize=(4*rows,1.2*cols))\n",
    "\n",
    "    count = 0\n",
    "    for row in range(0, rows):\n",
    "        for col in range(0, cols):\n",
    "            if count<len(digitos):\n",
    "                ax[row, col].imshow(X[digitos[count],:,:,0], cmap = plt.cm.binary, interpolation=\"nearest\")\n",
    "                ax[row, col].set_title(f'{target[digitos[count]]} confused {y_pred[digitos[count]]}')\n",
    "            ax[row, col].axis('off')\n",
    "            count +=1"
   ]
  },
  {
   "cell_type": "markdown",
   "metadata": {
    "papermill": {
     "duration": 0.026497,
     "end_time": "2020-10-23T14:50:09.235068",
     "exception": false,
     "start_time": "2020-10-23T14:50:09.208571",
     "status": "completed"
    },
    "tags": []
   },
   "source": [
    "## Keras CNN"
   ]
  },
  {
   "cell_type": "code",
   "execution_count": 8,
   "metadata": {
    "execution": {
     "iopub.execute_input": "2020-10-23T14:50:09.314011Z",
     "iopub.status.busy": "2020-10-23T14:50:09.313092Z",
     "iopub.status.idle": "2020-10-23T14:50:09.316252Z",
     "shell.execute_reply": "2020-10-23T14:50:09.315631Z"
    },
    "papermill": {
     "duration": 0.055337,
     "end_time": "2020-10-23T14:50:09.316355",
     "exception": false,
     "start_time": "2020-10-23T14:50:09.261018",
     "status": "completed"
    },
    "tags": []
   },
   "outputs": [],
   "source": [
    "class MultiCNN():\n",
    "    def __init__(self, model_generator, num_models=1):\n",
    "        self.models = []\n",
    "        self.create_models(model_generator, num_models)\n",
    "        \n",
    "    def create_models(self, model_generator, num_models=1):\n",
    "        for i in range(0,num_models):\n",
    "            m = keras.models.Sequential(model_generator())\n",
    "\n",
    "            m.compile(loss='sparse_categorical_crossentropy', optimizer='adam', metrics=['accuracy'])\n",
    "\n",
    "            self.models.append(m)\n",
    "            \n",
    "    def fit(self, train_inputs, train_targets, early_stop=True, verbose=2, batch_size=200, epochs=100):\n",
    "        callback = []\n",
    "        \n",
    "        if early_stop:\n",
    "            callback.append(keras.callbacks.EarlyStopping(monitor='val_loss', min_delta=1e-6, patience=5))\n",
    "        \n",
    "        for m in self.models:\n",
    "            X_train2, X_val2, y_train2, y_val2 = train_test_split(train_inputs, train_targets, test_size = 0.2)\n",
    "            m.fit(X_train2, y_train2, \n",
    "                  batch_size= batch_size, \n",
    "                  epochs = epochs,\n",
    "                  callbacks=callback,\n",
    "                  validation_data = (X_val2, y_val2),\n",
    "                  verbose=verbose\n",
    "                 )\n",
    "            \n",
    "    def fit_generator(self, generator, train_inputs, train_targets, early_stop=True, verbose=2, batch_size=32, epochs=100):\n",
    "        callback = []\n",
    "        \n",
    "        if early_stop:\n",
    "            callback.append(keras.callbacks.EarlyStopping(monitor='val_loss', min_delta=1e-6, patience=5))\n",
    "        \n",
    "        for m in self.models:\n",
    "            X_train2, X_val2, y_train2, y_val2 = train_test_split(train_inputs, train_targets, test_size = 0.2)\n",
    "            \n",
    "            m.fit_generator(generator.flow(X_train2,y_train2, batch_size=batch_size),\n",
    "                            epochs = epochs,\n",
    "                            callbacks=callback,\n",
    "                            validation_data = (X_val2, y_val2),\n",
    "                            verbose=verbose\n",
    "                            )\n",
    "            \n",
    "    def predict(self, test_inputs):\n",
    "        prediction = [model.predict(test_inputs) for model in self.models]\n",
    "        return sum(prediction)/len(prediction)\n",
    "    \n",
    "    def acuracia(self, test_input, test_target):\n",
    "        prediction = self.predict(test_input)\n",
    "        prediction = np.argmax(prediction, axis=1)\n",
    "        return accuracy_score(prediction, test_target)\n",
    "    \n",
    "    def confusion_matrix(self, test_input, test_target):\n",
    "        \n",
    "        y_pred = self.predict(test_input)\n",
    "\n",
    "        y_pred = np.argmax(y_pred, axis=1)\n",
    "\n",
    "        confusao = confusion_matrix(y_pred, test_target)\n",
    "\n",
    "        fig, ax = plt.subplots(1, figsize=(10,10))\n",
    "        sns.heatmap(pd.DataFrame(confusao), ax=ax, cbar=False, annot=True)\n",
    "        ax.set_title('Matriz de confusão', size=20)\n",
    "        ax.set_yticklabels(ax.get_xticklabels(), rotation=0, size=15)\n",
    "        ax.set_xticklabels(ax.get_yticklabels(), rotation=0, size=15)\n",
    "        plt.show()"
   ]
  },
  {
   "cell_type": "code",
   "execution_count": 9,
   "metadata": {
    "execution": {
     "iopub.execute_input": "2020-10-23T14:50:09.380439Z",
     "iopub.status.busy": "2020-10-23T14:50:09.379732Z",
     "iopub.status.idle": "2020-10-23T14:51:47.863041Z",
     "shell.execute_reply": "2020-10-23T14:51:47.863579Z"
    },
    "papermill": {
     "duration": 98.520665,
     "end_time": "2020-10-23T14:51:47.863732",
     "exception": false,
     "start_time": "2020-10-23T14:50:09.343067",
     "status": "completed"
    },
    "tags": []
   },
   "outputs": [
    {
     "data": {
      "text/plain": [
       "0.9287"
      ]
     },
     "execution_count": 9,
     "metadata": {},
     "output_type": "execute_result"
    }
   ],
   "source": [
    "def make_CNN():\n",
    "    return  [\n",
    "\n",
    "            keras.layers.Conv2D(filters=32, kernel_size=(3,3), activation=\"relu\", input_shape=(28, 28, 1)),\n",
    "            keras.layers.MaxPooling2D(pool_size = (2,2), strides = 2),\n",
    "\n",
    "            keras.layers.Conv2D(filters=64, kernel_size=(3,3), activation=\"relu\"),\n",
    "            keras.layers.MaxPooling2D(pool_size = (2,2), strides = 2),\n",
    "\n",
    "            keras.layers.Flatten(),\n",
    "            keras.layers.Dense(units=64, activation=\"relu\"),\n",
    "\n",
    "            keras.layers.Dropout(0.2),\n",
    "\n",
    "            keras.layers.Dense(units=10, activation=\"softmax\")\n",
    "\n",
    "            ]\n",
    "    \n",
    "\n",
    "\n",
    "multiCNN = MultiCNN(make_CNN, num_models=5)\n",
    "\n",
    "multiCNN.fit(X_train, y_train, verbose = 0, early_stop=True)\n",
    "\n",
    "multiCNN.acuracia(X_test, y_test)"
   ]
  },
  {
   "cell_type": "markdown",
   "metadata": {
    "papermill": {
     "duration": 0.026498,
     "end_time": "2020-10-23T14:51:47.916604",
     "exception": false,
     "start_time": "2020-10-23T14:51:47.890106",
     "status": "completed"
    },
    "tags": []
   },
   "source": [
    "## Adicionando uma camada ao final "
   ]
  },
  {
   "cell_type": "code",
   "execution_count": 10,
   "metadata": {
    "execution": {
     "iopub.execute_input": "2020-10-23T14:51:47.992195Z",
     "iopub.status.busy": "2020-10-23T14:51:47.991198Z",
     "iopub.status.idle": "2020-10-23T14:53:07.999330Z",
     "shell.execute_reply": "2020-10-23T14:53:07.999824Z"
    },
    "papermill": {
     "duration": 80.057061,
     "end_time": "2020-10-23T14:53:07.999970",
     "exception": false,
     "start_time": "2020-10-23T14:51:47.942909",
     "status": "completed"
    },
    "tags": []
   },
   "outputs": [
    {
     "data": {
      "text/plain": [
       "0.9288"
      ]
     },
     "execution_count": 10,
     "metadata": {},
     "output_type": "execute_result"
    }
   ],
   "source": [
    "def make_CNN():\n",
    "    return  [\n",
    "\n",
    "                keras.layers.Conv2D(filters=32, kernel_size=(3,3), activation=\"relu\", input_shape=(28, 28, 1)),\n",
    "                keras.layers.MaxPooling2D(pool_size = (2,2), strides = 2),\n",
    "\n",
    "                keras.layers.Conv2D(filters=64, kernel_size=(3,3), activation=\"relu\"),\n",
    "                keras.layers.MaxPooling2D(pool_size = (2,2), strides = 2),\n",
    "\n",
    "                keras.layers.Flatten(),\n",
    "                keras.layers.Dense(units=64, activation=\"relu\"),\n",
    "                keras.layers.Dense(units=64, activation=\"relu\"),\n",
    "\n",
    "                keras.layers.Dropout(0.2),\n",
    "\n",
    "                keras.layers.Dense(units=10, activation=\"softmax\")\n",
    "\n",
    "            ]\n",
    "\n",
    "multiCNN = MultiCNN(make_CNN, num_models=5)\n",
    "\n",
    "multiCNN.fit(X_train, y_train, verbose = 0, early_stop=True)\n",
    "\n",
    "multiCNN.acuracia(X_test, y_test)"
   ]
  },
  {
   "cell_type": "markdown",
   "metadata": {
    "papermill": {
     "duration": 0.027121,
     "end_time": "2020-10-23T14:53:08.054147",
     "exception": false,
     "start_time": "2020-10-23T14:53:08.027026",
     "status": "completed"
    },
    "tags": []
   },
   "source": [
    "Apresentou uma pequena melhora"
   ]
  },
  {
   "cell_type": "markdown",
   "metadata": {
    "papermill": {
     "duration": 0.027097,
     "end_time": "2020-10-23T14:53:08.108507",
     "exception": false,
     "start_time": "2020-10-23T14:53:08.081410",
     "status": "completed"
    },
    "tags": []
   },
   "source": [
    "## Alteração da camada de Pooling para média"
   ]
  },
  {
   "cell_type": "code",
   "execution_count": 11,
   "metadata": {
    "execution": {
     "iopub.execute_input": "2020-10-23T14:53:08.187498Z",
     "iopub.status.busy": "2020-10-23T14:53:08.173583Z",
     "iopub.status.idle": "2020-10-23T14:54:53.725427Z",
     "shell.execute_reply": "2020-10-23T14:54:53.725951Z"
    },
    "papermill": {
     "duration": 105.588254,
     "end_time": "2020-10-23T14:54:53.726120",
     "exception": false,
     "start_time": "2020-10-23T14:53:08.137866",
     "status": "completed"
    },
    "tags": []
   },
   "outputs": [
    {
     "data": {
      "text/plain": [
       "0.9236"
      ]
     },
     "execution_count": 11,
     "metadata": {},
     "output_type": "execute_result"
    }
   ],
   "source": [
    "def make_CNN():\n",
    "    return  [\n",
    "\n",
    "                keras.layers.Conv2D(filters=32, kernel_size=(3,3), activation=\"relu\", input_shape=(28, 28, 1)),\n",
    "                keras.layers.AveragePooling2D(pool_size = (2,2), strides = 2),\n",
    "\n",
    "                keras.layers.Conv2D(filters=64, kernel_size=(3,3), activation=\"relu\"),\n",
    "                keras.layers.AveragePooling2D(pool_size = (2,2), strides = 2),\n",
    "\n",
    "                keras.layers.Flatten(),\n",
    "                keras.layers.Dense(units=64, activation=\"relu\"),\n",
    "                keras.layers.Dense(units=64, activation=\"relu\"),\n",
    "\n",
    "                keras.layers.Dropout(0.2),\n",
    "\n",
    "                keras.layers.Dense(units=10, activation=\"softmax\")\n",
    "\n",
    "            ]\n",
    "\n",
    "multiCNN = MultiCNN(make_CNN, num_models=5)\n",
    "\n",
    "multiCNN.fit(X_train, y_train, verbose = 0, early_stop=True)\n",
    "\n",
    "multiCNN.acuracia(X_test, y_test)"
   ]
  },
  {
   "cell_type": "markdown",
   "metadata": {
    "papermill": {
     "duration": 0.027231,
     "end_time": "2020-10-23T14:54:53.781029",
     "exception": false,
     "start_time": "2020-10-23T14:54:53.753798",
     "status": "completed"
    },
    "tags": []
   },
   "source": [
    "Apresentou pequena melhora"
   ]
  },
  {
   "cell_type": "markdown",
   "metadata": {
    "papermill": {
     "duration": 0.027763,
     "end_time": "2020-10-23T14:54:53.836375",
     "exception": false,
     "start_time": "2020-10-23T14:54:53.808612",
     "status": "completed"
    },
    "tags": []
   },
   "source": [
    "## Normalização por lote"
   ]
  },
  {
   "cell_type": "code",
   "execution_count": 12,
   "metadata": {
    "execution": {
     "iopub.execute_input": "2020-10-23T14:54:53.918136Z",
     "iopub.status.busy": "2020-10-23T14:54:53.917024Z",
     "iopub.status.idle": "2020-10-23T14:55:50.788809Z",
     "shell.execute_reply": "2020-10-23T14:55:50.789345Z"
    },
    "papermill": {
     "duration": 56.924767,
     "end_time": "2020-10-23T14:55:50.789484",
     "exception": false,
     "start_time": "2020-10-23T14:54:53.864717",
     "status": "completed"
    },
    "tags": []
   },
   "outputs": [
    {
     "data": {
      "text/plain": [
       "0.9273"
      ]
     },
     "execution_count": 12,
     "metadata": {},
     "output_type": "execute_result"
    }
   ],
   "source": [
    "def make_CNN():\n",
    "    return  [\n",
    "\n",
    "                keras.layers.Conv2D(filters=32, kernel_size=(3,3), activation=\"relu\", input_shape=(28, 28, 1)),\n",
    "                keras.layers.AveragePooling2D(pool_size = (2,2), strides = 2),\n",
    "                keras.layers.BatchNormalization(),\n",
    "\n",
    "                keras.layers.Conv2D(filters=64, kernel_size=(3,3), activation=\"relu\"),\n",
    "                keras.layers.AveragePooling2D(pool_size = (2,2), strides = 2),\n",
    "                keras.layers.BatchNormalization(),\n",
    "\n",
    "                keras.layers.Flatten(),\n",
    "                keras.layers.Dense(units=64, activation=\"relu\"),\n",
    "                keras.layers.Dense(units=64, activation=\"relu\"),\n",
    "\n",
    "                keras.layers.Dropout(0.2),\n",
    "\n",
    "                keras.layers.Dense(units=10, activation=\"softmax\")\n",
    "\n",
    "            ]\n",
    "\n",
    "multiCNN = MultiCNN(make_CNN, num_models=5)\n",
    "\n",
    "multiCNN.fit(X_train, y_train, verbose = 0, early_stop=True)\n",
    "\n",
    "multiCNN.acuracia(X_test, y_test)"
   ]
  },
  {
   "cell_type": "markdown",
   "metadata": {
    "papermill": {
     "duration": 0.028319,
     "end_time": "2020-10-23T14:55:50.847658",
     "exception": false,
     "start_time": "2020-10-23T14:55:50.819339",
     "status": "completed"
    },
    "tags": []
   },
   "source": [
    "Houve pequena melhora"
   ]
  },
  {
   "cell_type": "markdown",
   "metadata": {
    "papermill": {
     "duration": 0.028397,
     "end_time": "2020-10-23T14:55:50.905142",
     "exception": false,
     "start_time": "2020-10-23T14:55:50.876745",
     "status": "completed"
    },
    "tags": []
   },
   "source": [
    "## Adição de mais camadas de dropout"
   ]
  },
  {
   "cell_type": "code",
   "execution_count": 13,
   "metadata": {
    "execution": {
     "iopub.execute_input": "2020-10-23T14:55:50.991704Z",
     "iopub.status.busy": "2020-10-23T14:55:50.990643Z",
     "iopub.status.idle": "2020-10-23T14:57:37.369818Z",
     "shell.execute_reply": "2020-10-23T14:57:37.370341Z"
    },
    "papermill": {
     "duration": 106.435668,
     "end_time": "2020-10-23T14:57:37.370485",
     "exception": false,
     "start_time": "2020-10-23T14:55:50.934817",
     "status": "completed"
    },
    "tags": []
   },
   "outputs": [
    {
     "data": {
      "text/plain": [
       "0.9265"
      ]
     },
     "execution_count": 13,
     "metadata": {},
     "output_type": "execute_result"
    }
   ],
   "source": [
    "def make_CNN():\n",
    "    return  [\n",
    "\n",
    "                keras.layers.Conv2D(filters=32, kernel_size=(3,3), activation=\"relu\", input_shape=(28, 28, 1)),\n",
    "                keras.layers.AveragePooling2D(pool_size = (2,2), strides = 2),\n",
    "        \n",
    "                keras.layers.Dropout(0.2),\n",
    "                keras.layers.BatchNormalization(),\n",
    "\n",
    "                keras.layers.Conv2D(filters=64, kernel_size=(3,3), activation=\"relu\"),\n",
    "                keras.layers.AveragePooling2D(pool_size = (2,2), strides = 2),\n",
    "        \n",
    "                keras.layers.Dropout(0.2),\n",
    "                keras.layers.BatchNormalization(),\n",
    "\n",
    "                keras.layers.Flatten(),\n",
    "                keras.layers.Dense(units=64, activation=\"relu\"),\n",
    "        \n",
    "                keras.layers.Dropout(0.2),\n",
    "        \n",
    "                keras.layers.Dense(units=64, activation=\"relu\"),\n",
    "\n",
    "                keras.layers.Dropout(0.2),\n",
    "\n",
    "                keras.layers.Dense(units=10, activation=\"softmax\")\n",
    "\n",
    "            ]\n",
    "\n",
    "\n",
    "multiCNN = MultiCNN(make_CNN, num_models=5)\n",
    "\n",
    "multiCNN.fit(X_train, y_train, verbose = 0, early_stop=True)\n",
    "\n",
    "multiCNN.acuracia(X_test, y_test)"
   ]
  },
  {
   "cell_type": "markdown",
   "metadata": {
    "papermill": {
     "duration": 0.028627,
     "end_time": "2020-10-23T14:57:37.428855",
     "exception": false,
     "start_time": "2020-10-23T14:57:37.400228",
     "status": "completed"
    },
    "tags": []
   },
   "source": [
    "Não houve alteração significativa"
   ]
  },
  {
   "cell_type": "markdown",
   "metadata": {
    "papermill": {
     "duration": 0.028803,
     "end_time": "2020-10-23T14:57:37.486509",
     "exception": false,
     "start_time": "2020-10-23T14:57:37.457706",
     "status": "completed"
    },
    "tags": []
   },
   "source": [
    "## Aumento do número de neurônios nas últimas camada"
   ]
  },
  {
   "cell_type": "code",
   "execution_count": 14,
   "metadata": {
    "execution": {
     "iopub.execute_input": "2020-10-23T14:57:37.573932Z",
     "iopub.status.busy": "2020-10-23T14:57:37.560285Z",
     "iopub.status.idle": "2020-10-23T14:58:33.984908Z",
     "shell.execute_reply": "2020-10-23T14:58:33.985467Z"
    },
    "papermill": {
     "duration": 56.469513,
     "end_time": "2020-10-23T14:58:33.985621",
     "exception": false,
     "start_time": "2020-10-23T14:57:37.516108",
     "status": "completed"
    },
    "tags": []
   },
   "outputs": [
    {
     "data": {
      "text/plain": [
       "0.9322"
      ]
     },
     "execution_count": 14,
     "metadata": {},
     "output_type": "execute_result"
    }
   ],
   "source": [
    "def make_CNN():\n",
    "    return  [\n",
    "\n",
    "                keras.layers.Conv2D(filters=32, kernel_size=(3,3), activation=\"relu\", input_shape=(28, 28, 1)),\n",
    "                keras.layers.AveragePooling2D(pool_size = (2,2), strides = 2),\n",
    "                keras.layers.BatchNormalization(),\n",
    "\n",
    "                keras.layers.Conv2D(filters=64, kernel_size=(3,3), activation=\"relu\"),\n",
    "                keras.layers.AveragePooling2D(pool_size = (2,2), strides = 2),\n",
    "                keras.layers.BatchNormalization(),\n",
    "\n",
    "                keras.layers.Flatten(),\n",
    "                keras.layers.Dense(units=100, activation=\"relu\"),\n",
    "                keras.layers.Dense(units=100, activation=\"relu\"),\n",
    "\n",
    "                keras.layers.Dropout(0.2),\n",
    "\n",
    "                keras.layers.Dense(units=10, activation=\"softmax\")\n",
    "\n",
    "            ]\n",
    "\n",
    "multiCNN = MultiCNN(make_CNN, num_models=5)\n",
    "\n",
    "multiCNN.fit(X_train, y_train, verbose = 0, early_stop=True)\n",
    "\n",
    "multiCNN.acuracia(X_test, y_test)"
   ]
  },
  {
   "cell_type": "markdown",
   "metadata": {
    "papermill": {
     "duration": 0.030209,
     "end_time": "2020-10-23T14:58:34.047061",
     "exception": false,
     "start_time": "2020-10-23T14:58:34.016852",
     "status": "completed"
    },
    "tags": []
   },
   "source": [
    "Não houve alteração significativa"
   ]
  },
  {
   "cell_type": "markdown",
   "metadata": {
    "papermill": {
     "duration": 0.029221,
     "end_time": "2020-10-23T14:58:34.107523",
     "exception": false,
     "start_time": "2020-10-23T14:58:34.078302",
     "status": "completed"
    },
    "tags": []
   },
   "source": [
    "## Aumento do tamanho do Kernel"
   ]
  },
  {
   "cell_type": "code",
   "execution_count": 15,
   "metadata": {
    "execution": {
     "iopub.execute_input": "2020-10-23T14:58:34.191386Z",
     "iopub.status.busy": "2020-10-23T14:58:34.190443Z",
     "iopub.status.idle": "2020-10-23T14:59:31.693423Z",
     "shell.execute_reply": "2020-10-23T14:59:31.694012Z"
    },
    "papermill": {
     "duration": 57.556972,
     "end_time": "2020-10-23T14:59:31.694162",
     "exception": false,
     "start_time": "2020-10-23T14:58:34.137190",
     "status": "completed"
    },
    "tags": []
   },
   "outputs": [
    {
     "data": {
      "text/plain": [
       "0.9335"
      ]
     },
     "execution_count": 15,
     "metadata": {},
     "output_type": "execute_result"
    }
   ],
   "source": [
    "def make_CNN():\n",
    "    return  [\n",
    "\n",
    "                keras.layers.Conv2D(filters=32, kernel_size=(5,5), activation=\"relu\", input_shape=(28, 28, 1)),\n",
    "                keras.layers.AveragePooling2D(pool_size = (2,2), strides = 2),\n",
    "                keras.layers.BatchNormalization(),\n",
    "\n",
    "                keras.layers.Conv2D(filters=64, kernel_size=(3,3), activation=\"relu\"),\n",
    "                keras.layers.AveragePooling2D(pool_size = (2,2), strides = 2),\n",
    "                keras.layers.BatchNormalization(),\n",
    "\n",
    "                keras.layers.Flatten(),\n",
    "                keras.layers.Dense(units=64, activation=\"relu\"),\n",
    "                keras.layers.Dense(units=64, activation=\"relu\"),\n",
    "\n",
    "                keras.layers.Dropout(0.2),\n",
    "\n",
    "                keras.layers.Dense(units=10, activation=\"softmax\")\n",
    "\n",
    "            ]\n",
    "\n",
    "multiCNN = MultiCNN(make_CNN, num_models=5)\n",
    "\n",
    "multiCNN.fit(X_train, y_train, verbose = 0, early_stop=True)\n",
    "\n",
    "multiCNN.acuracia(X_test, y_test)"
   ]
  },
  {
   "cell_type": "markdown",
   "metadata": {
    "papermill": {
     "duration": 0.030635,
     "end_time": "2020-10-23T14:59:31.756288",
     "exception": false,
     "start_time": "2020-10-23T14:59:31.725653",
     "status": "completed"
    },
    "tags": []
   },
   "source": [
    "Não afetou de forma significativa"
   ]
  },
  {
   "cell_type": "markdown",
   "metadata": {
    "papermill": {
     "duration": 0.031113,
     "end_time": "2020-10-23T14:59:31.817889",
     "exception": false,
     "start_time": "2020-10-23T14:59:31.786776",
     "status": "completed"
    },
    "tags": []
   },
   "source": [
    "## Adição de dados"
   ]
  },
  {
   "cell_type": "code",
   "execution_count": 16,
   "metadata": {
    "execution": {
     "iopub.execute_input": "2020-10-23T14:59:31.889573Z",
     "iopub.status.busy": "2020-10-23T14:59:31.888370Z",
     "iopub.status.idle": "2020-10-23T14:59:32.058172Z",
     "shell.execute_reply": "2020-10-23T14:59:32.057218Z"
    },
    "papermill": {
     "duration": 0.209502,
     "end_time": "2020-10-23T14:59:32.058347",
     "exception": false,
     "start_time": "2020-10-23T14:59:31.848845",
     "status": "completed"
    },
    "tags": []
   },
   "outputs": [],
   "source": [
    "datagen = keras.preprocessing.image.ImageDataGenerator(\n",
    "                                                        featurewise_center=False,\n",
    "                                                        samplewise_center=False,\n",
    "                                                        featurewise_std_normalization=False,\n",
    "                                                        samplewise_std_normalization=False,\n",
    "                                                        zca_whitening=False,\n",
    "                                                        zca_epsilon=1e-06,\n",
    "                                                        rotation_range=0, # não será adicionado rotação pois as imagens estão sempre alinhadas\n",
    "                                                        width_shift_range=0.2,\n",
    "                                                        height_shift_range=0.2,\n",
    "                                                        brightness_range=None,\n",
    "                                                        shear_range=0.2,\n",
    "                                                        zoom_range=0.2,\n",
    "                                                        channel_shift_range=0.0,\n",
    "                                                        fill_mode=\"nearest\",\n",
    "                                                        cval=0.0,\n",
    "                                                        horizontal_flip=False,\n",
    "                                                        vertical_flip=False,\n",
    "                                                        rescale=None,\n",
    "                                                        preprocessing_function=None,\n",
    "                                                        data_format=None,\n",
    "                                                        validation_split=0.0,\n",
    "                                                        dtype=None,\n",
    "                                                    )\n",
    "\n",
    "datagen.fit(X_train)"
   ]
  },
  {
   "cell_type": "code",
   "execution_count": 17,
   "metadata": {
    "execution": {
     "iopub.execute_input": "2020-10-23T14:59:32.178104Z",
     "iopub.status.busy": "2020-10-23T14:59:32.177118Z",
     "iopub.status.idle": "2020-10-23T15:27:55.338401Z",
     "shell.execute_reply": "2020-10-23T15:27:55.339032Z"
    },
    "papermill": {
     "duration": 1703.23279,
     "end_time": "2020-10-23T15:27:55.339207",
     "exception": false,
     "start_time": "2020-10-23T14:59:32.106417",
     "status": "completed"
    },
    "tags": []
   },
   "outputs": [
    {
     "data": {
      "text/plain": [
       "0.9041"
      ]
     },
     "execution_count": 17,
     "metadata": {},
     "output_type": "execute_result"
    }
   ],
   "source": [
    "def make_CNN():\n",
    "    return  [\n",
    "\n",
    "                keras.layers.Conv2D(filters=32, kernel_size=(3,3), activation=\"relu\", input_shape=(28, 28, 1)),\n",
    "                keras.layers.AveragePooling2D(pool_size = (2,2), strides = 2),\n",
    "                keras.layers.BatchNormalization(),\n",
    "\n",
    "                keras.layers.Conv2D(filters=64, kernel_size=(3,3), activation=\"relu\"),\n",
    "                keras.layers.AveragePooling2D(pool_size = (2,2), strides = 2),\n",
    "                keras.layers.BatchNormalization(),\n",
    "\n",
    "                keras.layers.Flatten(),\n",
    "                keras.layers.Dense(units=64, activation=\"relu\"),\n",
    "                keras.layers.Dense(units=64, activation=\"relu\"),\n",
    "\n",
    "                keras.layers.Dropout(0.2),\n",
    "\n",
    "                keras.layers.Dense(units=10, activation=\"softmax\")\n",
    "\n",
    "            ]\n",
    "\n",
    "\n",
    "multiCNN = MultiCNN(make_CNN, num_models=5)\n",
    "\n",
    "multiCNN.fit_generator(datagen, X_train, y_train, verbose = 0, early_stop=True)\n",
    "\n",
    "multiCNN.acuracia(X_test, y_test)"
   ]
  },
  {
   "cell_type": "markdown",
   "metadata": {
    "papermill": {
     "duration": 0.031715,
     "end_time": "2020-10-23T15:27:55.404018",
     "exception": false,
     "start_time": "2020-10-23T15:27:55.372303",
     "status": "completed"
    },
    "tags": []
   },
   "source": [
    "A adição de novas imagens geradas piorou o modelo. Como esperado pois cada classe não possui somente pequenas variações de rotação e centro "
   ]
  }
 ],
 "metadata": {
  "kernelspec": {
   "display_name": "Python 3",
   "language": "python",
   "name": "python3"
  },
  "language_info": {
   "codemirror_mode": {
    "name": "ipython",
    "version": 3
   },
   "file_extension": ".py",
   "mimetype": "text/x-python",
   "name": "python",
   "nbconvert_exporter": "python",
   "pygments_lexer": "ipython3",
   "version": "3.7.6"
  },
  "papermill": {
   "duration": 2294.471436,
   "end_time": "2020-10-23T15:27:57.037699",
   "environment_variables": {},
   "exception": null,
   "input_path": "__notebook__.ipynb",
   "output_path": "__notebook__.ipynb",
   "parameters": {},
   "start_time": "2020-10-23T14:49:42.566263",
   "version": "2.1.0"
  }
 },
 "nbformat": 4,
 "nbformat_minor": 4
}
