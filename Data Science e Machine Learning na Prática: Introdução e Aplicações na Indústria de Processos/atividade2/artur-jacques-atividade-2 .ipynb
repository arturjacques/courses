{
 "cells": [
  {
   "cell_type": "markdown",
   "metadata": {
    "_cell_guid": "b1076dfc-b9ad-4769-8c92-a6c4dae69d19",
    "_uuid": "8f2839f25d086af736a60e9eeb907d3b93b6e0e5"
   },
   "source": [
    "***Mão na massa 2!***\n",
    "\n",
    "* Treine o modelo mais algumas vezes, variando os valores dos hiperparâmetros apresentados. Analise os efeitos nos resultados. Leia a [referência do modelo](https://scikit-learn.org/stable/modules/generated/sklearn.ensemble.RandomForestRegressor.html) e faça o mesmo com outros hiperparâmetros que não discutimos. Tente superar o desempenho acima :)"
   ]
  },
  {
   "cell_type": "code",
   "execution_count": 24,
   "metadata": {
    "_cell_guid": "79c7e3d0-c299-4dcb-8224-4455121ee9b0",
    "_uuid": "d629ff2d2480ee46fbb7e2d37f6b5fab8052498a"
   },
   "outputs": [],
   "source": [
    "# importação de bibliotecas\n",
    "\n",
    "import pandas as pd\n",
    "import numpy as np\n",
    "import matplotlib.pyplot as plt\n",
    "\n",
    "from sklearn import datasets\n",
    "from sklearn.model_selection import train_test_split\n",
    "from sklearn.ensemble import RandomForestRegressor\n",
    "from sklearn.linear_model import LinearRegression\n",
    "from sklearn.metrics import mean_squared_error\n",
    "from sklearn.metrics import mean_absolute_error\n",
    "from sklearn.metrics import r2_score\n",
    "from sklearn.model_selection import GridSearchCV\n",
    "\n",
    "from os import system\n",
    "\n",
    "%matplotlib inline"
   ]
  },
  {
   "cell_type": "code",
   "execution_count": 25,
   "metadata": {},
   "outputs": [
    {
     "data": {
      "application/javascript": [
       "(function(){\n",
       "    var startTime;\n",
       "    $([Jupyter.events]).on('execute.CodeCell', function(event, target)\n",
       "    {\n",
       "        startTime = performance.now();\n",
       "    });\n",
       "    $([Jupyter.events]).on('finished_iopub.Kernel', function(event, target)\n",
       "    {\n",
       "        var endTime = performance.now();\n",
       "\n",
       "        if(endTime - startTime > 10 * 1000)\n",
       "        {\n",
       "            var audio = new Audio('http://www.soundjay.com/button/beep-07.wav');\n",
       "            audio.play();    \n",
       "        }\n",
       "    });\n",
       "})()\n"
      ],
      "text/plain": [
       "<IPython.core.display.Javascript object>"
      ]
     },
     "metadata": {},
     "output_type": "display_data"
    }
   ],
   "source": [
    "%%javascript\n",
    "(function(){\n",
    "    var startTime;\n",
    "    $([Jupyter.events]).on('execute.CodeCell', function(event, target)\n",
    "    {\n",
    "        startTime = performance.now();\n",
    "    });\n",
    "    $([Jupyter.events]).on('finished_iopub.Kernel', function(event, target)\n",
    "    {\n",
    "        var endTime = performance.now();\n",
    "\n",
    "        if(endTime - startTime > 10 * 1000)\n",
    "        {\n",
    "            var audio = new Audio('http://www.soundjay.com/button/beep-07.wav');\n",
    "            audio.play();    \n",
    "        }\n",
    "    });\n",
    "})()"
   ]
  },
  {
   "cell_type": "markdown",
   "metadata": {},
   "source": [
    "A função a cima tem o objetivo de somente emitir um aviso sonoro quando a célula terminou de ser executada (útil para execuções que levam muito tempo)"
   ]
  },
  {
   "cell_type": "markdown",
   "metadata": {},
   "source": [
    "## Importação dos Dados"
   ]
  },
  {
   "cell_type": "code",
   "execution_count": 26,
   "metadata": {},
   "outputs": [
    {
     "data": {
      "text/html": [
       "<div>\n",
       "<style scoped>\n",
       "    .dataframe tbody tr th:only-of-type {\n",
       "        vertical-align: middle;\n",
       "    }\n",
       "\n",
       "    .dataframe tbody tr th {\n",
       "        vertical-align: top;\n",
       "    }\n",
       "\n",
       "    .dataframe thead th {\n",
       "        text-align: right;\n",
       "    }\n",
       "</style>\n",
       "<table border=\"1\" class=\"dataframe\">\n",
       "  <thead>\n",
       "    <tr style=\"text-align: right;\">\n",
       "      <th></th>\n",
       "      <th>SalesID</th>\n",
       "      <th>SalePrice</th>\n",
       "      <th>MachineID</th>\n",
       "      <th>ModelID</th>\n",
       "      <th>datasource</th>\n",
       "      <th>auctioneerID</th>\n",
       "      <th>YearMade</th>\n",
       "      <th>MachineHoursCurrentMeter</th>\n",
       "      <th>UsageBand</th>\n",
       "      <th>saledate</th>\n",
       "      <th>...</th>\n",
       "      <th>Undercarriage_Pad_Width</th>\n",
       "      <th>Stick_Length</th>\n",
       "      <th>Thumb</th>\n",
       "      <th>Pattern_Changer</th>\n",
       "      <th>Grouser_Type</th>\n",
       "      <th>Backhoe_Mounting</th>\n",
       "      <th>Blade_Type</th>\n",
       "      <th>Travel_Controls</th>\n",
       "      <th>Differential_Type</th>\n",
       "      <th>Steering_Controls</th>\n",
       "    </tr>\n",
       "  </thead>\n",
       "  <tbody>\n",
       "    <tr>\n",
       "      <th>0</th>\n",
       "      <td>1139246</td>\n",
       "      <td>66000</td>\n",
       "      <td>999089</td>\n",
       "      <td>3157</td>\n",
       "      <td>121</td>\n",
       "      <td>3.0</td>\n",
       "      <td>2004</td>\n",
       "      <td>68.0</td>\n",
       "      <td>Low</td>\n",
       "      <td>2006-11-16</td>\n",
       "      <td>...</td>\n",
       "      <td>NaN</td>\n",
       "      <td>NaN</td>\n",
       "      <td>NaN</td>\n",
       "      <td>NaN</td>\n",
       "      <td>NaN</td>\n",
       "      <td>NaN</td>\n",
       "      <td>NaN</td>\n",
       "      <td>NaN</td>\n",
       "      <td>Standard</td>\n",
       "      <td>Conventional</td>\n",
       "    </tr>\n",
       "    <tr>\n",
       "      <th>1</th>\n",
       "      <td>1139248</td>\n",
       "      <td>57000</td>\n",
       "      <td>117657</td>\n",
       "      <td>77</td>\n",
       "      <td>121</td>\n",
       "      <td>3.0</td>\n",
       "      <td>1996</td>\n",
       "      <td>4640.0</td>\n",
       "      <td>Low</td>\n",
       "      <td>2004-03-26</td>\n",
       "      <td>...</td>\n",
       "      <td>NaN</td>\n",
       "      <td>NaN</td>\n",
       "      <td>NaN</td>\n",
       "      <td>NaN</td>\n",
       "      <td>NaN</td>\n",
       "      <td>NaN</td>\n",
       "      <td>NaN</td>\n",
       "      <td>NaN</td>\n",
       "      <td>Standard</td>\n",
       "      <td>Conventional</td>\n",
       "    </tr>\n",
       "    <tr>\n",
       "      <th>2</th>\n",
       "      <td>1139249</td>\n",
       "      <td>10000</td>\n",
       "      <td>434808</td>\n",
       "      <td>7009</td>\n",
       "      <td>121</td>\n",
       "      <td>3.0</td>\n",
       "      <td>2001</td>\n",
       "      <td>2838.0</td>\n",
       "      <td>High</td>\n",
       "      <td>2004-02-26</td>\n",
       "      <td>...</td>\n",
       "      <td>NaN</td>\n",
       "      <td>NaN</td>\n",
       "      <td>NaN</td>\n",
       "      <td>NaN</td>\n",
       "      <td>NaN</td>\n",
       "      <td>NaN</td>\n",
       "      <td>NaN</td>\n",
       "      <td>NaN</td>\n",
       "      <td>NaN</td>\n",
       "      <td>NaN</td>\n",
       "    </tr>\n",
       "    <tr>\n",
       "      <th>3</th>\n",
       "      <td>1139251</td>\n",
       "      <td>38500</td>\n",
       "      <td>1026470</td>\n",
       "      <td>332</td>\n",
       "      <td>121</td>\n",
       "      <td>3.0</td>\n",
       "      <td>2001</td>\n",
       "      <td>3486.0</td>\n",
       "      <td>High</td>\n",
       "      <td>2011-05-19</td>\n",
       "      <td>...</td>\n",
       "      <td>NaN</td>\n",
       "      <td>NaN</td>\n",
       "      <td>NaN</td>\n",
       "      <td>NaN</td>\n",
       "      <td>NaN</td>\n",
       "      <td>NaN</td>\n",
       "      <td>NaN</td>\n",
       "      <td>NaN</td>\n",
       "      <td>NaN</td>\n",
       "      <td>NaN</td>\n",
       "    </tr>\n",
       "    <tr>\n",
       "      <th>4</th>\n",
       "      <td>1139253</td>\n",
       "      <td>11000</td>\n",
       "      <td>1057373</td>\n",
       "      <td>17311</td>\n",
       "      <td>121</td>\n",
       "      <td>3.0</td>\n",
       "      <td>2007</td>\n",
       "      <td>722.0</td>\n",
       "      <td>Medium</td>\n",
       "      <td>2009-07-23</td>\n",
       "      <td>...</td>\n",
       "      <td>NaN</td>\n",
       "      <td>NaN</td>\n",
       "      <td>NaN</td>\n",
       "      <td>NaN</td>\n",
       "      <td>NaN</td>\n",
       "      <td>NaN</td>\n",
       "      <td>NaN</td>\n",
       "      <td>NaN</td>\n",
       "      <td>NaN</td>\n",
       "      <td>NaN</td>\n",
       "    </tr>\n",
       "  </tbody>\n",
       "</table>\n",
       "<p>5 rows × 53 columns</p>\n",
       "</div>"
      ],
      "text/plain": [
       "   SalesID  SalePrice  MachineID  ModelID  datasource  auctioneerID  YearMade  \\\n",
       "0  1139246      66000     999089     3157         121           3.0      2004   \n",
       "1  1139248      57000     117657       77         121           3.0      1996   \n",
       "2  1139249      10000     434808     7009         121           3.0      2001   \n",
       "3  1139251      38500    1026470      332         121           3.0      2001   \n",
       "4  1139253      11000    1057373    17311         121           3.0      2007   \n",
       "\n",
       "   MachineHoursCurrentMeter UsageBand   saledate  ... Undercarriage_Pad_Width  \\\n",
       "0                      68.0       Low 2006-11-16  ...                     NaN   \n",
       "1                    4640.0       Low 2004-03-26  ...                     NaN   \n",
       "2                    2838.0      High 2004-02-26  ...                     NaN   \n",
       "3                    3486.0      High 2011-05-19  ...                     NaN   \n",
       "4                     722.0    Medium 2009-07-23  ...                     NaN   \n",
       "\n",
       "  Stick_Length Thumb Pattern_Changer Grouser_Type Backhoe_Mounting Blade_Type  \\\n",
       "0          NaN   NaN             NaN          NaN              NaN        NaN   \n",
       "1          NaN   NaN             NaN          NaN              NaN        NaN   \n",
       "2          NaN   NaN             NaN          NaN              NaN        NaN   \n",
       "3          NaN   NaN             NaN          NaN              NaN        NaN   \n",
       "4          NaN   NaN             NaN          NaN              NaN        NaN   \n",
       "\n",
       "  Travel_Controls Differential_Type Steering_Controls  \n",
       "0             NaN          Standard      Conventional  \n",
       "1             NaN          Standard      Conventional  \n",
       "2             NaN               NaN               NaN  \n",
       "3             NaN               NaN               NaN  \n",
       "4             NaN               NaN               NaN  \n",
       "\n",
       "[5 rows x 53 columns]"
      ]
     },
     "execution_count": 26,
     "metadata": {},
     "output_type": "execute_result"
    }
   ],
   "source": [
    "df_raw = pd.read_csv(f'../input/blue-book-for-bulldozer/Train/Train.csv', \n",
    "                     low_memory=False, \n",
    "                     parse_dates=[\"saledate\"])\n",
    "\n",
    "df_raw.head()"
   ]
  },
  {
   "cell_type": "code",
   "execution_count": 27,
   "metadata": {},
   "outputs": [
    {
     "name": "stdout",
     "output_type": "stream",
     "text": [
      "<class 'pandas.core.frame.DataFrame'>\n",
      "RangeIndex: 401125 entries, 0 to 401124\n",
      "Data columns (total 53 columns):\n",
      " #   Column                    Non-Null Count   Dtype         \n",
      "---  ------                    --------------   -----         \n",
      " 0   SalesID                   401125 non-null  int64         \n",
      " 1   SalePrice                 401125 non-null  int64         \n",
      " 2   MachineID                 401125 non-null  int64         \n",
      " 3   ModelID                   401125 non-null  int64         \n",
      " 4   datasource                401125 non-null  int64         \n",
      " 5   auctioneerID              380989 non-null  float64       \n",
      " 6   YearMade                  401125 non-null  int64         \n",
      " 7   MachineHoursCurrentMeter  142765 non-null  float64       \n",
      " 8   UsageBand                 69639 non-null   object        \n",
      " 9   saledate                  401125 non-null  datetime64[ns]\n",
      " 10  fiModelDesc               401125 non-null  object        \n",
      " 11  fiBaseModel               401125 non-null  object        \n",
      " 12  fiSecondaryDesc           263934 non-null  object        \n",
      " 13  fiModelSeries             56908 non-null   object        \n",
      " 14  fiModelDescriptor         71919 non-null   object        \n",
      " 15  ProductSize               190350 non-null  object        \n",
      " 16  fiProductClassDesc        401125 non-null  object        \n",
      " 17  state                     401125 non-null  object        \n",
      " 18  ProductGroup              401125 non-null  object        \n",
      " 19  ProductGroupDesc          401125 non-null  object        \n",
      " 20  Drive_System              104361 non-null  object        \n",
      " 21  Enclosure                 400800 non-null  object        \n",
      " 22  Forks                     192077 non-null  object        \n",
      " 23  Pad_Type                  79134 non-null   object        \n",
      " 24  Ride_Control              148606 non-null  object        \n",
      " 25  Stick                     79134 non-null   object        \n",
      " 26  Transmission              183230 non-null  object        \n",
      " 27  Turbocharged              79134 non-null   object        \n",
      " 28  Blade_Extension           25219 non-null   object        \n",
      " 29  Blade_Width               25219 non-null   object        \n",
      " 30  Enclosure_Type            25219 non-null   object        \n",
      " 31  Engine_Horsepower         25219 non-null   object        \n",
      " 32  Hydraulics                320570 non-null  object        \n",
      " 33  Pushblock                 25219 non-null   object        \n",
      " 34  Ripper                    104137 non-null  object        \n",
      " 35  Scarifier                 25230 non-null   object        \n",
      " 36  Tip_Control               25219 non-null   object        \n",
      " 37  Tire_Size                 94718 non-null   object        \n",
      " 38  Coupler                   213952 non-null  object        \n",
      " 39  Coupler_System            43458 non-null   object        \n",
      " 40  Grouser_Tracks            43362 non-null   object        \n",
      " 41  Hydraulics_Flow           43362 non-null   object        \n",
      " 42  Track_Type                99153 non-null   object        \n",
      " 43  Undercarriage_Pad_Width   99872 non-null   object        \n",
      " 44  Stick_Length              99218 non-null   object        \n",
      " 45  Thumb                     99288 non-null   object        \n",
      " 46  Pattern_Changer           99218 non-null   object        \n",
      " 47  Grouser_Type              99153 non-null   object        \n",
      " 48  Backhoe_Mounting          78672 non-null   object        \n",
      " 49  Blade_Type                79833 non-null   object        \n",
      " 50  Travel_Controls           79834 non-null   object        \n",
      " 51  Differential_Type         69411 non-null   object        \n",
      " 52  Steering_Controls         69369 non-null   object        \n",
      "dtypes: datetime64[ns](1), float64(2), int64(6), object(44)\n",
      "memory usage: 162.2+ MB\n"
     ]
    }
   ],
   "source": [
    "df_raw.info()"
   ]
  },
  {
   "cell_type": "markdown",
   "metadata": {},
   "source": [
    "## Data Cleaning"
   ]
  },
  {
   "cell_type": "markdown",
   "metadata": {},
   "source": [
    "0 - SalesID: Não é uma variável que deve afetar o preço pois é somente um ID da venda. Pode haver alguma relação por causa que é um indicativo de tempo, porém já existe a coluna saledate, portando essa coluna é no mínimo redundante. Será setada para index e não será utilizada no treinamento do modelo.\n",
    "\n",
    "1 - SalePrice: preço de venda coluna Target. Será adotado o logaritimo.\n",
    "\n",
    "2 - MachineID: Representa o ID do trator. Tratores diferentes possuem preços diferentes. Para modelos com muitas vendas essa coluna será útil. Porém para modelos que são novos, não tem venda é pouco representativa.\n",
    "\n",
    "3 - ModelID: Assim como MachineID essa variável é categórica por representar o modelo do trator.\n",
    "\n",
    "4 - datasource: Essa variável representa da onde foi tirado o dado logo é uma variável categórica também mas ela é redundante com a auctioneerID que representa o leilão de venda logo será retirada.\n",
    "\n",
    "5 - auctioneerID: ID do leiloeiro é uma variável categórica que representa o leilão de venda (o local pode influenciar bastante no preço de venda). Os locais que questão sem o código serão substítuidos pela moda.\n",
    "\n",
    "6 - YearMade: Representa o ano de fabricação do trator essa variável e que realmente pode afetar o preço. Porém ela apresenta um erro que há muitos tratores que foram fabricados no ano 1000 que é claramente um erro que será corrigido alterando a data de fabricação para 5 anos antes da data de venda que é a maioria dos casos, também há casos em que a data de fabricação é anterior a data de venda que são raros e serão removidas essas linhas. Será adicionada a coluna 'YearsOld' que representará a diferença entre data de fabricação de venda.\n",
    "\n",
    "7 - MachineHoursCurrentMeter: Horas de uso do trator antes da venda, valores null e zeros significam que o número de horas não foi informado e serão substituídos pela mediana.\n",
    "\n",
    "8 - UsageBand: Representa uma comparação entre o número de horas que a máquina foi utilizada e a vida útil.\n",
    "\n",
    "9 - saledate: Data de venda do trator. Será utilizada para determinar quantos anos de uso tem o equipamento e convertido somente para o ano.\n",
    "\n",
    "10 e 11 - fiModelDesc e fiBaseModel: Representam características do trator. Existem muitas categorias diferentes, para tratores que só tem um com determinado modelo ou característica será definido como uma categoria única.\n",
    "\n",
    "12 ,13 e 14 - fiSecondaryDesc, fiModelSeries e fiModelDescriptor: Também apresentam descrições dos tratores mas apresentam muitos dados faltantes.\n",
    "\n",
    "15 - ProductSize: Apresenta o tamanho do equipamento, com categorias large, medium, small, mini, compact e large/medium será convertido para numeros inteiros sendo 5 o maior 0 o menor e -1 faltantes.\n",
    "\n",
    "16 - fiProductClassDesc: Apresenta um texto descrevendo o equipamento. É um agregado de outras colunas e será removida.\n",
    "\n",
    "17 - state: Estado que o equipamento foi vendido. O preço pode variar de acordo com o estado logo será mantido.\n",
    "\n",
    "18 e 19 - ProductGroup e ProductGroupDesc: Representa o tipo de equipamento. Como ProductGroup é o código e será removida a descrição.\n",
    "\n",
    "20 - Drive_System: O tipo de tração do equipamento.\n",
    "\n",
    "21 - Enclosure: Representa características da cabine.\n",
    "\n",
    "22 - Forks: Representa a configuração utilizada para elevação.\n",
    "\n",
    "23 - Pad_Type: Tipo de esteira que o equipamento usa.\n",
    "\n",
    "24 - Ride_Control: adicional do equipamento.\n",
    "\n",
    "25 - Stick: Tipo de controle.\n",
    "\n",
    "26 - Transmission: Tipo de sistema de marchas. Há duas categorias que estão somente escritas de forma diferente 'Autoshift' e 'AuthoShift', a colunas vai ser convertida para lower case assim unindo esses dois.\n",
    "\n",
    "27 - Turbocharged: Se o motor possui turbo. Será convertida para uma coluna boleana.\n",
    "\n",
    "28 - Blade_Extension: Se lâmina é estendida ou padrão.\n",
    "\n",
    "29 - Blade_Width: Largura da lâmina. Será convertido em int.\n",
    "\n",
    "30 - Enclosure_Type: Tipo da cabine.\n",
    "\n",
    "31 - Engine_Horsepower: Classificação de potência do motor. Essa coluna tem dois valores 'No' e 'Variable' contém 90% dos valores faltantes e os que não faltam são 'No' logo será retirado. \n",
    "\n",
    "32 - Hydraulics: Tipo de sistema hidráulico.\n",
    "\n",
    "33 - Pushblock: Opcional. Será convertido em uma coluna boleana.\n",
    "\n",
    "34 - Ripper: Opcional para cultivar o solo.\n",
    "\n",
    "35 - Scarifier: Opcional para cultivar o solo. Será convertida boleana.\n",
    "\n",
    "36 - Tip_control: Tipo de controle da lâmina. Possui as categorias 'tip_control_sideshift_and_tip' e 'tip_control_tip'\n",
    "\n",
    "37 - Tire_Size: Tamanho do pneu. Será convertido para float.\n",
    "\n",
    "38 - Coupler: ???. Possui duas categorias 'manual' e hydraulic'\n",
    "\n",
    "39 - Coupler_System: ???. Será convertida para uma coluna boleana.\n",
    "\n",
    "40 - Grouser_Tracks: Descreve interface de contato com o solo. Será convertida para uma coluna boleana.\n",
    "\n",
    "41 - Hydraulics_Flow: Descreve o fluxo de hidraúlico. Possui duas categorias 'standard' e 'high flow'.\n",
    "\n",
    "42 - Track_Type: Tipo de esteira. Possui duas categorias 'steel' e 'rubber'.\n",
    "\n",
    "43 - Undercarriage_Pad_Width: Laragura do passo da esteira. Será convertido para float.\n",
    "\n",
    "44 - Stick_Length: Comprimento do acessório de escavação.\n",
    "\n",
    "45 - Thumb: Acessorio utlizado para agarrar. Possui duas categorias 'manual' e 'hydraulic'.\n",
    "\n",
    "46 - Pattern_Changer: Possiblidade de ajuste do controle. Possui duas categorias 'Yes' e 'No'\n",
    "\n",
    "47 - Grouser_Type: Tipo de esteira que a máquina utiliza. Possui três categorias 'double', 'triple' e 'sigle'.\n",
    "\n",
    "48 - Backhoe_Mounting: Interface opcional para retroescavadeira. Só há 20 máquinas com essa coluna igual a 'Yes' logo será descartada.\n",
    "\n",
    "49 - Blade_Type: Descreve o tipo de lâmina.\n",
    "\n",
    "50 - Travel_Controls: Configuração do controle.\n",
    "\n",
    "51 - Differential_Type: ???. Possui as categorias 'standard', 'limited_slip', 'no spin' e 'Locking'.\n",
    "\n",
    "52 - Steering_Controls: Descreve a configuração de controle. Possui as categorias 'command_control', 'four_wheel_standard'"
   ]
  },
  {
   "cell_type": "markdown",
   "metadata": {},
   "source": [
    "### Removing Columns"
   ]
  },
  {
   "cell_type": "code",
   "execution_count": 28,
   "metadata": {},
   "outputs": [],
   "source": [
    "drop_columns = ['datasource', 'Backhoe_Mounting', 'fiProductClassDesc',\n",
    "               'Engine_Horsepower',]\n",
    "\n",
    "df_raw.drop(drop_columns, inplace = True, axis = 1)"
   ]
  },
  {
   "cell_type": "code",
   "execution_count": 29,
   "metadata": {},
   "outputs": [],
   "source": [
    "df_clean = df_raw.set_index('SalesID')\n",
    "\n",
    "# correção do ano de fabricação e ano de venda\n",
    "\n",
    "year_1000 = df_clean.YearMade == 1000\n",
    "\n",
    "df_clean.loc[year_1000, 'YearMade'] = df_clean[year_1000].saledate.apply(lambda x: x.year - 5)\n",
    "\n",
    "# adicionando coluna YearsOld\n",
    "\n",
    "df_clean['YearsOld'] = df_clean.saledate.apply(lambda x: x.year) - df_clean.YearMade\n",
    "\n",
    "# removendo dados de tratores que foram vendidos antes da fabricação\n",
    "\n",
    "df_clean = df_clean[df_clean.YearsOld >= 0] \n",
    "\n",
    "# Substituindo valores pela moda\n",
    "\n",
    "df_clean['auctioneerID'] = df_clean.auctioneerID.fillna(df_clean.auctioneerID.mode()[0])\n",
    "\n",
    "df_clean['MachineHoursCurrentMeter'] = df_clean.MachineHoursCurrentMeter.fillna(df_clean.MachineHoursCurrentMeter.median())\n",
    "\n",
    "# corrigindo valores de Tire_Size\n",
    "\n",
    "df_clean['Tire_Size'] = df_clean.Tire_Size.str.replace('\\\"', '').str.replace(' inch', '')\n",
    "\n",
    "# convertendo a coluna saledate para somente o ano\n",
    "\n",
    "df_clean['saledate'] = df_clean.saledate.apply(lambda x: x.year)\n",
    "\n",
    "# convertendo blade_width para int. Valores menores que 12 serão convertidos 10 e valores faltantes serão convertidos para -1.\n",
    "\n",
    "df_clean['Blade_Width'] = df_clean.Blade_Width.str.replace('\\'', '').replace('<12', '10').replace('None or Unspecified', -1).fillna(-1).astype(int)\n",
    "\n",
    "# convertendo para numerico\n",
    "\n",
    "df_clean['Tire_Size'] = df_clean.Tire_Size.replace('None or Unspecified', -1).fillna(-1).astype(float)\n",
    "\n",
    "df_clean['Undercarriage_Pad_Width'] = df_clean.Undercarriage_Pad_Width.str.replace(' inch', '').replace('None or Unspecified', -1).fillna(-1).astype(float)\n",
    "\n",
    "df_clean['Stick_Length'] = df_clean.Stick_Length.replace('None or Unspecified', '-1\\'0').fillna('-1\\'0').str.replace('\\\"', '').str.split('\\'').apply(lambda x: int(x[0]) + int(x[1])/12)\n",
    "\n",
    "size_dict = {'Large':5, 'Large / Medium': 4, 'Medium': 3, 'Compact': 2, 'Small': 1, 'Mini': 0, np.NAN: -1 }\n",
    "df_clean['ProductSize'] = df_clean.ProductSize.map(size_dict)"
   ]
  },
  {
   "cell_type": "code",
   "execution_count": 30,
   "metadata": {},
   "outputs": [],
   "source": [
    "def category_unique_to_boolean(df, column):\n",
    "    count_column_values = df_raw[column].value_counts()\n",
    "\n",
    "    if 'None or Unspecified' in count_column_values.index:\n",
    "        values = count_column_values.index.drop('None or Unspecified')\n",
    "        count_column_values = count_column_values[values]\n",
    "\n",
    "    \n",
    "    if len(count_column_values.index) == 1:\n",
    "        df[column] = (df[column] == count_column_values.index[0])\n",
    "        \n",
    "    return df"
   ]
  },
  {
   "cell_type": "code",
   "execution_count": 31,
   "metadata": {},
   "outputs": [],
   "source": [
    "object_columns = (df_clean.dtypes[df_clean.dtypes == 'object']).index\n",
    "\n",
    "for column in object_columns:\n",
    "    df_clean = category_unique_to_boolean(df_clean, column)"
   ]
  },
  {
   "cell_type": "code",
   "execution_count": 32,
   "metadata": {},
   "outputs": [
    {
     "name": "stdout",
     "output_type": "stream",
     "text": [
      "<class 'pandas.core.frame.DataFrame'>\n",
      "Int64Index: 401112 entries, 1139246 to 6333342\n",
      "Data columns (total 49 columns):\n",
      " #   Column                    Non-Null Count   Dtype  \n",
      "---  ------                    --------------   -----  \n",
      " 0   SalePrice                 401112 non-null  int64  \n",
      " 1   MachineID                 401112 non-null  int64  \n",
      " 2   ModelID                   401112 non-null  int64  \n",
      " 3   auctioneerID              401112 non-null  float64\n",
      " 4   YearMade                  401112 non-null  int64  \n",
      " 5   MachineHoursCurrentMeter  401112 non-null  float64\n",
      " 6   UsageBand                 69638 non-null   object \n",
      " 7   saledate                  401112 non-null  int64  \n",
      " 8   fiModelDesc               401112 non-null  object \n",
      " 9   fiBaseModel               401112 non-null  object \n",
      " 10  fiSecondaryDesc           263925 non-null  object \n",
      " 11  fiModelSeries             56906 non-null   object \n",
      " 12  fiModelDescriptor         71916 non-null   object \n",
      " 13  ProductSize               401112 non-null  int64  \n",
      " 14  state                     401112 non-null  object \n",
      " 15  ProductGroup              401112 non-null  object \n",
      " 16  ProductGroupDesc          401112 non-null  object \n",
      " 17  Drive_System              104358 non-null  object \n",
      " 18  Enclosure                 400787 non-null  object \n",
      " 19  Forks                     401112 non-null  bool   \n",
      " 20  Pad_Type                  79132 non-null   object \n",
      " 21  Ride_Control              148602 non-null  object \n",
      " 22  Stick                     79132 non-null   object \n",
      " 23  Transmission              183224 non-null  object \n",
      " 24  Turbocharged              401112 non-null  bool   \n",
      " 25  Blade_Extension           401112 non-null  bool   \n",
      " 26  Blade_Width               401112 non-null  int64  \n",
      " 27  Enclosure_Type            25218 non-null   object \n",
      " 28  Hydraulics                320559 non-null  object \n",
      " 29  Pushblock                 401112 non-null  bool   \n",
      " 30  Ripper                    104133 non-null  object \n",
      " 31  Scarifier                 401112 non-null  bool   \n",
      " 32  Tip_Control               25218 non-null   object \n",
      " 33  Tire_Size                 401112 non-null  float64\n",
      " 34  Coupler                   213945 non-null  object \n",
      " 35  Coupler_System            401112 non-null  bool   \n",
      " 36  Grouser_Tracks            401112 non-null  bool   \n",
      " 37  Hydraulics_Flow           43361 non-null   object \n",
      " 38  Track_Type                99149 non-null   object \n",
      " 39  Undercarriage_Pad_Width   401112 non-null  float64\n",
      " 40  Stick_Length              401112 non-null  float64\n",
      " 41  Thumb                     99284 non-null   object \n",
      " 42  Pattern_Changer           99214 non-null   object \n",
      " 43  Grouser_Type              99149 non-null   object \n",
      " 44  Blade_Type                79830 non-null   object \n",
      " 45  Travel_Controls           79831 non-null   object \n",
      " 46  Differential_Type         69409 non-null   object \n",
      " 47  Steering_Controls         69367 non-null   object \n",
      " 48  YearsOld                  401112 non-null  int64  \n",
      "dtypes: bool(7), float64(5), int64(8), object(29)\n",
      "memory usage: 134.3+ MB\n"
     ]
    }
   ],
   "source": [
    "df_clean.info()"
   ]
  },
  {
   "cell_type": "markdown",
   "metadata": {},
   "source": [
    "Colunas que pdoerias ser convertida para booleanas estão completas e possuem valor mas não estavam formatados corretamente.\n",
    "Agora podemos converter as colunas categoricas que sobraram podem ser codificadas para int."
   ]
  },
  {
   "cell_type": "code",
   "execution_count": 33,
   "metadata": {},
   "outputs": [],
   "source": [
    "def object_convertion_int(df):\n",
    "    \n",
    "    new_df = pd.DataFrame()\n",
    "    \n",
    "    for n,c in df.items():\n",
    "                \n",
    "        if not pd.api.types.is_numeric_dtype(c):\n",
    "            new_df[n] = pd.Categorical(c.astype('category').cat.as_ordered()).codes\n",
    "        else:\n",
    "            new_df[n] = c\n",
    "    \n",
    "    return new_df  "
   ]
  },
  {
   "cell_type": "code",
   "execution_count": 34,
   "metadata": {},
   "outputs": [],
   "source": [
    "df_clean = object_convertion_int(df_clean)"
   ]
  },
  {
   "cell_type": "markdown",
   "metadata": {},
   "source": [
    "## Machine Learning"
   ]
  },
  {
   "cell_type": "code",
   "execution_count": 35,
   "metadata": {},
   "outputs": [
    {
     "data": {
      "text/plain": [
       "((389112,), (12000,))"
      ]
     },
     "execution_count": 35,
     "metadata": {},
     "output_type": "execute_result"
    }
   ],
   "source": [
    "df_clean.SalePrice = np.log(df_clean.SalePrice)\n",
    "df_select = df_clean\n",
    "\n",
    "X, y = df_select.drop('SalePrice', axis=1), df_select['SalePrice']\n",
    "\n",
    "n_valid = 12000\n",
    "n_trn = len(df_select)-n_valid\n",
    "\n",
    "X_treino, X_validacao = X[:n_trn].copy(), X[n_trn:].copy()\n",
    "y_treino, y_validacao = y[:n_trn].copy(), y[n_trn:].copy()\n",
    "\n",
    "y_treino.shape, y_validacao.shape"
   ]
  },
  {
   "cell_type": "code",
   "execution_count": 36,
   "metadata": {},
   "outputs": [],
   "source": [
    "def rmse(x,y): \n",
    "    \n",
    "    return np.sqrt(mean_squared_error(x,y))\n",
    "\n",
    "def display_score(m):\n",
    "    \n",
    "    res = [[rmse(m.predict(X_treino), y_treino), m.score(X_treino, y_treino)],\n",
    "          [rmse(m.predict(X_validacao), y_validacao), m.score(X_validacao, y_validacao)]]\n",
    "    \n",
    "    score = pd.DataFrame(res, columns=['RMSE','R2'], index = ['Treino','Validação'])\n",
    "    \n",
    "    if hasattr(m, 'oob_score_'): \n",
    "        score.loc['OOB'] = [rmse(y_treino, m.oob_prediction_), m.oob_score_]\n",
    "        \n",
    "    display(score)"
   ]
  },
  {
   "cell_type": "code",
   "execution_count": 37,
   "metadata": {},
   "outputs": [
    {
     "name": "stdout",
     "output_type": "stream",
     "text": [
      "CPU times: user 8 µs, sys: 0 ns, total: 8 µs\n",
      "Wall time: 27.4 µs\n"
     ]
    }
   ],
   "source": [
    "%%time\n",
    "\n",
    "def select_model(features, target):\n",
    "    \"\"\"\n",
    "    Essa função tem o objetivo de determinar as melhores caractéristicas do modelo.\n",
    "    \"\"\"\n",
    "    models = [\n",
    "        {\n",
    "            'name': 'Random Forest',\n",
    "            'estimator': RandomForestRegressor(),\n",
    "            'hyperparameters': {\n",
    "                'n_jobs':[-1],\n",
    "                'n_estimators': [90],\n",
    "                'max_samples': [None],\n",
    "                'max_depth': [25],\n",
    "                'max_leaf_nodes':[None],\n",
    "                'max_features': [0.4],\n",
    "                'min_samples_leaf': [1]\n",
    "            }\n",
    "        },\n",
    "    ]\n",
    "    \n",
    "    best_parameters = dict()\n",
    "    best_estimator = dict()\n",
    "    best_score = dict()\n",
    "    \n",
    "    for model in models:\n",
    "        grid = GridSearchCV(model['estimator'],\n",
    "                            param_grid = model['hyperparameters'],\n",
    "                            cv = 5)\n",
    "        grid.fit(features, target)\n",
    "        best_estimator[model['name']] = grid.best_estimator_\n",
    "        best_parameters[model['name']] = grid.best_params_\n",
    "        best_score[model['name']] = grid.best_score_\n",
    "        \n",
    "    return best_estimator, best_parameters, best_score\n",
    "\n",
    "# best_estimator, best_parameters, best_score = select_model(df_select.drop('SalePrice', axis = 1), df_select.SalePrice)\n",
    "\n",
    "# print(best_score)\n",
    "# print(best_estimator)"
   ]
  },
  {
   "cell_type": "code",
   "execution_count": 38,
   "metadata": {},
   "outputs": [
    {
     "data": {
      "text/html": [
       "<div>\n",
       "<style scoped>\n",
       "    .dataframe tbody tr th:only-of-type {\n",
       "        vertical-align: middle;\n",
       "    }\n",
       "\n",
       "    .dataframe tbody tr th {\n",
       "        vertical-align: top;\n",
       "    }\n",
       "\n",
       "    .dataframe thead th {\n",
       "        text-align: right;\n",
       "    }\n",
       "</style>\n",
       "<table border=\"1\" class=\"dataframe\">\n",
       "  <thead>\n",
       "    <tr style=\"text-align: right;\">\n",
       "      <th></th>\n",
       "      <th>RMSE</th>\n",
       "      <th>R2</th>\n",
       "    </tr>\n",
       "  </thead>\n",
       "  <tbody>\n",
       "    <tr>\n",
       "      <th>Treino</th>\n",
       "      <td>0.103261</td>\n",
       "      <td>0.977715</td>\n",
       "    </tr>\n",
       "    <tr>\n",
       "      <th>Validação</th>\n",
       "      <td>0.233155</td>\n",
       "      <td>0.902919</td>\n",
       "    </tr>\n",
       "    <tr>\n",
       "      <th>OOB</th>\n",
       "      <td>0.211155</td>\n",
       "      <td>0.906817</td>\n",
       "    </tr>\n",
       "  </tbody>\n",
       "</table>\n",
       "</div>"
      ],
      "text/plain": [
       "               RMSE        R2\n",
       "Treino     0.103261  0.977715\n",
       "Validação  0.233155  0.902919\n",
       "OOB        0.211155  0.906817"
      ]
     },
     "metadata": {},
     "output_type": "display_data"
    },
    {
     "name": "stdout",
     "output_type": "stream",
     "text": [
      "CPU times: user 4min 53s, sys: 1.66 s, total: 4min 55s\n",
      "Wall time: 1min 27s\n"
     ]
    }
   ],
   "source": [
    "%%time\n",
    "m_base = RandomForestRegressor(n_jobs=-1,\n",
    "                               n_estimators=90,\n",
    "                               max_samples=None, # default\n",
    "                               max_depth = 25,\n",
    "                               random_state = 0,\n",
    "                               max_features = 0.4,\n",
    "                               min_samples_leaf = 1, # default\n",
    "                              oob_score = True)\n",
    "m_base.fit(X_treino, y_treino)\n",
    "display_score(m_base)"
   ]
  },
  {
   "cell_type": "markdown",
   "metadata": {},
   "source": [
    "## Features Enginering"
   ]
  },
  {
   "cell_type": "markdown",
   "metadata": {},
   "source": [
    "### Importância das variáveis"
   ]
  },
  {
   "cell_type": "code",
   "execution_count": 39,
   "metadata": {},
   "outputs": [
    {
     "data": {
      "text/plain": [
       "ProductSize                 0.170757\n",
       "YearsOld                    0.139300\n",
       "Hydraulics_Flow             0.108307\n",
       "YearMade                    0.071471\n",
       "fiSecondaryDesc             0.069562\n",
       "ModelID                     0.060113\n",
       "fiModelDesc                 0.057186\n",
       "fiBaseModel                 0.048013\n",
       "MachineID                   0.031048\n",
       "Enclosure                   0.029499\n",
       "saledate                    0.028738\n",
       "ProductGroupDesc            0.025204\n",
       "fiModelDescriptor           0.024176\n",
       "ProductGroup                0.019545\n",
       "state                       0.014472\n",
       "Drive_System                0.009512\n",
       "auctioneerID                0.007938\n",
       "Hydraulics                  0.007653\n",
       "fiModelSeries               0.007354\n",
       "Tire_Size                   0.006242\n",
       "Ripper                      0.006143\n",
       "Coupler                     0.005628\n",
       "Transmission                0.005555\n",
       "Tip_Control                 0.005342\n",
       "Enclosure_Type              0.005248\n",
       "MachineHoursCurrentMeter    0.004419\n",
       "Track_Type                  0.003397\n",
       "Thumb                       0.003357\n",
       "Ride_Control                0.002873\n",
       "Blade_Type                  0.002584\n",
       "Blade_Width                 0.002220\n",
       "UsageBand                   0.002170\n",
       "Grouser_Type                0.001678\n",
       "Steering_Controls           0.001639\n",
       "Undercarriage_Pad_Width     0.001628\n",
       "Travel_Controls             0.001551\n",
       "Stick                       0.001434\n",
       "Pattern_Changer             0.001387\n",
       "Pushblock                   0.001300\n",
       "Differential_Type           0.001274\n",
       "Stick_Length                0.001253\n",
       "Pad_Type                    0.000593\n",
       "Forks                       0.000518\n",
       "Scarifier                   0.000428\n",
       "Grouser_Tracks              0.000101\n",
       "Coupler_System              0.000090\n",
       "Turbocharged                0.000079\n",
       "Blade_Extension             0.000022\n",
       "dtype: float64"
      ]
     },
     "execution_count": 39,
     "metadata": {},
     "output_type": "execute_result"
    }
   ],
   "source": [
    "columns = X_treino.columns\n",
    "values = m_base.feature_importances_\n",
    "\n",
    "columns_importances = pd.Series(index = columns, data = values).sort_values(ascending = False)\n",
    "columns_importances"
   ]
  },
  {
   "cell_type": "markdown",
   "metadata": {},
   "source": [
    "As variáveis product_size e YearsOld são bem influêntes no modelo, sinal de que foi uma boa ideia a criação da YearsOld e ter ajustado o product_size em ordem crescente. Para continuar a analise será retirado qualquer coluna que tenha inflência menor que 0.01."
   ]
  },
  {
   "cell_type": "code",
   "execution_count": 40,
   "metadata": {},
   "outputs": [
    {
     "data": {
      "text/plain": [
       "Index(['ProductSize', 'YearsOld', 'Hydraulics_Flow', 'YearMade',\n",
       "       'fiSecondaryDesc', 'ModelID', 'fiModelDesc', 'fiBaseModel', 'MachineID',\n",
       "       'Enclosure', 'saledate', 'ProductGroupDesc', 'fiModelDescriptor',\n",
       "       'ProductGroup', 'state', 'Drive_System', 'auctioneerID', 'Hydraulics',\n",
       "       'fiModelSeries', 'Tire_Size', 'Ripper', 'Coupler', 'Transmission',\n",
       "       'Tip_Control', 'Enclosure_Type'],\n",
       "      dtype='object')"
      ]
     },
     "execution_count": 40,
     "metadata": {},
     "output_type": "execute_result"
    }
   ],
   "source": [
    "important_columns =  columns_importances[columns_importances >= 0.005].index\n",
    "important_columns"
   ]
  },
  {
   "cell_type": "code",
   "execution_count": 41,
   "metadata": {},
   "outputs": [],
   "source": [
    "X_treino = X_treino[important_columns]\n",
    "X_validacao = X_validacao[important_columns]"
   ]
  },
  {
   "cell_type": "code",
   "execution_count": 42,
   "metadata": {},
   "outputs": [
    {
     "data": {
      "text/html": [
       "<div>\n",
       "<style scoped>\n",
       "    .dataframe tbody tr th:only-of-type {\n",
       "        vertical-align: middle;\n",
       "    }\n",
       "\n",
       "    .dataframe tbody tr th {\n",
       "        vertical-align: top;\n",
       "    }\n",
       "\n",
       "    .dataframe thead th {\n",
       "        text-align: right;\n",
       "    }\n",
       "</style>\n",
       "<table border=\"1\" class=\"dataframe\">\n",
       "  <thead>\n",
       "    <tr style=\"text-align: right;\">\n",
       "      <th></th>\n",
       "      <th>RMSE</th>\n",
       "      <th>R2</th>\n",
       "    </tr>\n",
       "  </thead>\n",
       "  <tbody>\n",
       "    <tr>\n",
       "      <th>Treino</th>\n",
       "      <td>0.101205</td>\n",
       "      <td>0.978594</td>\n",
       "    </tr>\n",
       "    <tr>\n",
       "      <th>Validação</th>\n",
       "      <td>0.227472</td>\n",
       "      <td>0.907594</td>\n",
       "    </tr>\n",
       "    <tr>\n",
       "      <th>OOB</th>\n",
       "      <td>0.212313</td>\n",
       "      <td>0.905791</td>\n",
       "    </tr>\n",
       "  </tbody>\n",
       "</table>\n",
       "</div>"
      ],
      "text/plain": [
       "               RMSE        R2\n",
       "Treino     0.101205  0.978594\n",
       "Validação  0.227472  0.907594\n",
       "OOB        0.212313  0.905791"
      ]
     },
     "metadata": {},
     "output_type": "display_data"
    },
    {
     "name": "stdout",
     "output_type": "stream",
     "text": [
      "CPU times: user 3min 47s, sys: 1.02 s, total: 3min 48s\n",
      "Wall time: 1min 4s\n"
     ]
    }
   ],
   "source": [
    "%%time \n",
    "\n",
    "m_base = RandomForestRegressor(n_jobs=-1,\n",
    "                               n_estimators=90,\n",
    "                               max_samples=None, # default\n",
    "                               max_depth = 25,\n",
    "                               random_state = 0,\n",
    "                               max_features = 0.4,\n",
    "                               min_samples_leaf = 1, # default\n",
    "                              oob_score = True)\n",
    "m_base.fit(X_treino, y_treino)\n",
    "display_score(m_base)"
   ]
  },
  {
   "cell_type": "markdown",
   "metadata": {},
   "source": [
    "A retirada das colunas aumentou a qualidade do modelo, a princípio seria necessário ajustar os parâmetros do modelo novamente para aumentar a precisão. Porém antes disso vamos eliminar colunas redundantes"
   ]
  },
  {
   "cell_type": "markdown",
   "metadata": {},
   "source": [
    "### Colunas Redundantes"
   ]
  },
  {
   "cell_type": "code",
   "execution_count": 43,
   "metadata": {},
   "outputs": [],
   "source": [
    "def dendogram_spearmanr(df, tags):\n",
    "\n",
    "    import scipy.cluster.hierarchy\n",
    "    import scipy.stats\n",
    "    \n",
    "    corr = np.round(scipy.stats.spearmanr(df).correlation, 4)\n",
    "    corr_condensed = scipy.cluster.hierarchy.distance.squareform(1-corr)\n",
    "    z = scipy.cluster.hierarchy.linkage(corr_condensed, method='average')\n",
    "    fig = plt.figure(figsize=(18,8))\n",
    "    dendrogram = scipy.cluster.hierarchy.dendrogram(z, labels=tags, orientation='left', leaf_font_size=16)\n",
    "    plt.show()"
   ]
  },
  {
   "cell_type": "code",
   "execution_count": 44,
   "metadata": {},
   "outputs": [
    {
     "data": {
      "image/png": "[encoded data removed]",
      "text/plain": [
       "<Figure size 1296x576 with 1 Axes>"
      ]
     },
     "metadata": {
      "needs_background": "light"
     },
     "output_type": "display_data"
    }
   ],
   "source": [
    "dendogram_spearmanr(X_treino, X_treino.columns)"
   ]
  },
  {
   "cell_type": "markdown",
   "metadata": {},
   "source": [
    "As colunas Tip_control, ProductGroup e fiModelDesc serão excluídas por serem redundantes."
   ]
  },
  {
   "cell_type": "code",
   "execution_count": 45,
   "metadata": {},
   "outputs": [],
   "source": [
    "drop_columns = ['Tip_Control', 'ProductGroup', 'fiModelDesc']\n",
    "\n",
    "X_treino = X_treino.drop(drop_columns, axis=1)\n",
    "X_validacao = X_validacao.drop(drop_columns, axis=1)\n",
    "\n",
    "df_select_important = df_select[list(X_treino.columns) + ['SalePrice']]"
   ]
  },
  {
   "cell_type": "markdown",
   "metadata": {},
   "source": [
    "### Ajuste do modelo"
   ]
  },
  {
   "cell_type": "code",
   "execution_count": 46,
   "metadata": {},
   "outputs": [
    {
     "data": {
      "text/html": [
       "<div>\n",
       "<style scoped>\n",
       "    .dataframe tbody tr th:only-of-type {\n",
       "        vertical-align: middle;\n",
       "    }\n",
       "\n",
       "    .dataframe tbody tr th {\n",
       "        vertical-align: top;\n",
       "    }\n",
       "\n",
       "    .dataframe thead th {\n",
       "        text-align: right;\n",
       "    }\n",
       "</style>\n",
       "<table border=\"1\" class=\"dataframe\">\n",
       "  <thead>\n",
       "    <tr style=\"text-align: right;\">\n",
       "      <th></th>\n",
       "      <th>RMSE</th>\n",
       "      <th>R2</th>\n",
       "    </tr>\n",
       "  </thead>\n",
       "  <tbody>\n",
       "    <tr>\n",
       "      <th>Treino</th>\n",
       "      <td>0.119478</td>\n",
       "      <td>0.970166</td>\n",
       "    </tr>\n",
       "    <tr>\n",
       "      <th>Validação</th>\n",
       "      <td>0.230504</td>\n",
       "      <td>0.905114</td>\n",
       "    </tr>\n",
       "    <tr>\n",
       "      <th>OOB</th>\n",
       "      <td>0.213212</td>\n",
       "      <td>0.904992</td>\n",
       "    </tr>\n",
       "  </tbody>\n",
       "</table>\n",
       "</div>"
      ],
      "text/plain": [
       "               RMSE        R2\n",
       "Treino     0.119478  0.970166\n",
       "Validação  0.230504  0.905114\n",
       "OOB        0.213212  0.904992"
      ]
     },
     "metadata": {},
     "output_type": "display_data"
    },
    {
     "name": "stdout",
     "output_type": "stream",
     "text": [
      "CPU times: user 4min 23s, sys: 807 ms, total: 4min 24s\n",
      "Wall time: 1min 13s\n"
     ]
    }
   ],
   "source": [
    "%%time\n",
    "\n",
    "m_base = RandomForestRegressor(oob_score = True,\n",
    "                               random_state=0,\n",
    "                               n_jobs=-1,\n",
    "                               max_features =0.5,\n",
    "                               min_samples_leaf = 2,\n",
    "                               n_estimators=100\n",
    "                              )\n",
    "m_base.fit(X_treino, y_treino)\n",
    "display_score(m_base)"
   ]
  }
 ],
 "metadata": {
  "kernelspec": {
   "display_name": "Python 3",
   "language": "python",
   "name": "python3"
  },
  "language_info": {
   "codemirror_mode": {
    "name": "ipython",
    "version": 3
   },
   "file_extension": ".py",
   "mimetype": "text/x-python",
   "name": "python",
   "nbconvert_exporter": "python",
   "pygments_lexer": "ipython3",
   "version": "3.8.1"
  }
 },
 "nbformat": 4,
 "nbformat_minor": 4
}
